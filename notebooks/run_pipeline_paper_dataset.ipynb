{
 "cells": [
  {
   "cell_type": "markdown",
   "id": "16b2be02-26e9-470e-a9db-33789bf2698f",
   "metadata": {},
   "source": [
    "### Comparison against author's dataset"
   ]
  },
  {
   "cell_type": "code",
   "execution_count": 1,
   "id": "362a6610-f109-43f2-816e-e9960a8e4064",
   "metadata": {},
   "outputs": [],
   "source": [
    "import sys\n",
    "import os\n",
    "sys.path.append(os.path.abspath(\"..\"))\n",
    "import warnings\n",
    "warnings.filterwarnings('ignore')\n",
    "import pandas as pd"
   ]
  },
  {
   "cell_type": "code",
   "execution_count": 2,
   "id": "e48bbc83-09dd-4712-bc40-8279fa163760",
   "metadata": {},
   "outputs": [
    {
     "name": "stdout",
     "output_type": "stream",
     "text": [
      "   age  Experience  Income  Family     CCAvg  Education  Mortgage  \\\n",
      "0   52          15     140       2  7.737671          2        32   \n",
      "1   51           0     150       3  5.073039          1       328   \n",
      "2   32          18     144       3  6.295617          3        59   \n",
      "3   51          20     159       1  5.495390          3       275   \n",
      "4   38          17     154       2  3.225856          3       189   \n",
      "\n",
      "   SecuritiesAccount  CDAccount  Online  CreditCard  Personal Loan  \n",
      "0                  1          1       1           0              1  \n",
      "1                  1          1       0           1              1  \n",
      "2                  0          1       0           1              1  \n",
      "3                  0          1       1           0              1  \n",
      "4                  1          1       1           1              1  \n",
      "Number of columns: 12\n"
     ]
    }
   ],
   "source": [
    "import pandas as pd\n",
    "readpath = '../src/data/bank.csv'\n",
    "df = pd.read_csv(readpath)\n",
    "df = df.loc[:, df.columns != 'Unnamed: 0']\n",
    "print(df.head())\n",
    "print(f\"Number of columns: {len(df.columns)}\")"
   ]
  },
  {
   "cell_type": "code",
   "execution_count": 3,
   "id": "da06051a-7e0b-4e64-89d8-2e84f629bcf7",
   "metadata": {},
   "outputs": [],
   "source": [
    "from sklearn.model_selection import train_test_split\n",
    "\n",
    "X = df.loc[:, df.columns != 'Personal Loan']\n",
    "y = df['Personal Loan']\n",
    "\n",
    "# Train-test split\n",
    "X_train, X_test, y_train, y_test = train_test_split(\n",
    "    X, y, test_size=0.2, stratify=y, random_state=42\n",
    ")"
   ]
  },
  {
   "cell_type": "code",
   "execution_count": 4,
   "id": "8193c7a4-1097-4b3f-8b8d-8bbd438dd4d3",
   "metadata": {},
   "outputs": [
    {
     "name": "stdout",
     "output_type": "stream",
     "text": [
      "           age  Experience    Income    Family     CCAvg  Education  Mortgage  \\\n",
      "3865  0.984124    1.061265 -0.396133  0.487610 -0.135698  -1.344684 -0.780557   \n",
      "5753 -0.294585   -0.374082 -0.663640  0.487610 -1.123458   1.216779  1.321462   \n",
      "379  -0.111912   -1.360883  0.620392  1.411979  1.266926  -0.063953  0.689214   \n",
      "2935 -0.385921   -0.463791  1.012735 -1.361130  1.152487   1.216779 -0.780557   \n",
      "6186 -0.477258   -0.912337 -1.483993 -1.361130 -1.009661   1.216779  0.171920   \n",
      "\n",
      "      SecuritiesAccount  CDAccount  Online  CreditCard  \n",
      "3865                  0          0       1           0  \n",
      "5753                  0          0       1           0  \n",
      "379                   0          1       1           0  \n",
      "2935                  0          1       1           0  \n",
      "6186                  0          0       0           0  \n"
     ]
    }
   ],
   "source": [
    "from src.data.load_data import preprocess_data\n",
    "from src.data.load_data import preprocess_num\n",
    "\n",
    "num_cols = ['age','Experience','Income','Family','CCAvg','Education','Mortgage']\n",
    "\n",
    "X_train_raw,X_test_raw = X_train,X_test\n",
    "\n",
    "X_train_num, X_test_num, datasetdf_num = preprocess_num(X_train, X_test, df, num_cols)\n",
    "X_train, X_test, datasetdf = preprocess_data(X_train, X_test, df, num_cols)\n",
    "print(X_train_num.head())"
   ]
  },
  {
   "cell_type": "code",
   "execution_count": 5,
   "id": "1405fb7a-b67d-4d07-9250-aa210272df5d",
   "metadata": {},
   "outputs": [
    {
     "name": "stdout",
     "output_type": "stream",
     "text": [
      "0.9633507853403142\n"
     ]
    }
   ],
   "source": [
    "from src.model.train_model import train_classifier_LR\n",
    "\n",
    "clf = train_classifier_LR(X_train, y_train, random_state=42)\n",
    "from sklearn.metrics import accuracy_score\n",
    "\n",
    "y_pred = clf.predict(X_test)\n",
    "print(accuracy_score(y_test,y_pred))"
   ]
  },
  {
   "cell_type": "code",
   "execution_count": 6,
   "id": "f40ff77f-6fe6-420e-9e3e-89c47197c44c",
   "metadata": {},
   "outputs": [
    {
     "name": "stdout",
     "output_type": "stream",
     "text": [
      "{'age': (-1.299, 1.258), 'Experience': (-1.361, 1.33), 'Income': (0.424, 1.53), 'Family': (-1.361, 1.412), 'CCAvg': (0.053, 1.835), 'Education': (-0.064, 1.217), 'Mortgage': (-0.781, 2.069)}\n",
      "{'CDAccount': '1'}\n"
     ]
    }
   ],
   "source": [
    "from src.ontology.generate_rules import *\n",
    "\n",
    "X_train_positive = X_train_num[y_train == 1]\n",
    "X_train_negative = X_train_num[y_train == 0]\n",
    "positive_profile = summarize_features(X_train_positive)\n",
    "positive_profile\n",
    "negative_profile = summarize_features(X_train_negative)\n",
    "negative_profile\n",
    "#p_statistical = extract_statistical_rules(X_train_positive, X_train_raw, num_quantiles=(0.1, 0.9), cat_threshold=0.85)\n",
    "p_statistical = extract_statistical_rules(X_train_positive, X_train_num, num_quantiles=(0.1, 0.9), cat_threshold=0.85)\n",
    "p_statistical\n",
    "p_permutation_imp_top_features = top_features(clf, X_train, y_train, n_repeats=5, random_state=42)\n",
    "p_permutation_imp_top_features\n",
    "p = combined_features(p_permutation_imp_top_features, p_statistical)\n",
    "p_num = {key: value for key, value in p.items() if isinstance(value, tuple)}\n",
    "p_cat = {key: value for key, value in p.items() if isinstance(value, str)}\n",
    "print(p_num)\n",
    "print(p_cat)"
   ]
  },
  {
   "cell_type": "code",
   "execution_count": 7,
   "id": "2e55c795-4923-4975-9d56-b9cf17a61451",
   "metadata": {},
   "outputs": [],
   "source": [
    "from src.utilities.desired_space import desired_space\n",
    "X_test_negative = X_test[y_test==0]\n",
    "x= X_test_negative[0:1] #test instance #select first row as dataFrame\n",
    "p_num = p_num\n",
    "p_cat = p_cat\n",
    "space = datasetdf[datasetdf['Personal Loan'] == 1] #filter instances if they have the desired y\n",
    "desired_space = space.drop(['Personal Loan'], axis=1) #drop y\n",
    "#desired_space = desired_space(1,datasetdf) #did preprocessing also to datasetdf\n",
    "#cat_f= X_train.select_dtypes(include=['bool']) #categorical features\n",
    "cat_f = ['SecuritiesAccount', 'CDAccount', 'Online', 'CreditCard']\n",
    "num_f = ['age', 'Experience', 'Income', 'Family', 'CCAvg', 'Education', 'Mortgage']\n",
    "#num_f= X_train.select_dtypes(include=['int64', 'float64']) #numerical features\n",
    "protect_f= [] # Personal status and sex (X_train.head() shows only 3 values (columns) while there are 5) #protected features\n",
    "features= X_train.columns #all features\n",
    "t= 1 #desired outcome\n",
    "f= clf #black-box model for which we want to find CF\n",
    "X= X_train #training data\n",
    "step = {attribute:0.01 for attribute in p_num.keys()} #was 0.01\n",
    "\n",
    "f2change = p.keys()"
   ]
  },
  {
   "cell_type": "code",
   "execution_count": 8,
   "id": "548d440d-ecd4-4133-945d-c45377d731f0",
   "metadata": {},
   "outputs": [
    {
     "data": {
      "text/plain": [
       "dict_keys(['age', 'Experience', 'Income', 'Family', 'CCAvg', 'Education', 'Mortgage', 'CDAccount'])"
      ]
     },
     "execution_count": 8,
     "metadata": {},
     "output_type": "execute_result"
    }
   ],
   "source": [
    "f2change"
   ]
  },
  {
   "cell_type": "code",
   "execution_count": 9,
   "id": "38e53330-5305-4607-9a23-895ae3c35f8e",
   "metadata": {},
   "outputs": [
    {
     "name": "stdout",
     "output_type": "stream",
     "text": [
      "[           age  Experience  Income   Family     CCAvg  Education  Mortgage  \\\n",
      "3478 -1.025276   -0.912337  1.2585  0.48761 -0.440675  -1.344684 -0.780557   \n",
      "\n",
      "      SecuritiesAccount  CDAccount  Online  CreditCard  \n",
      "3478                  0          0       0           0  ,            age  Experience    Income   Family     CCAvg  Education  Mortgage  \\\n",
      "3478 -1.025276   -0.912337  1.223313  0.48761 -0.440675  -1.344684 -0.780557   \n",
      "\n",
      "      SecuritiesAccount  CDAccount  Online  CreditCard  \n",
      "3478                  0          0       0           0  ]\n"
     ]
    }
   ],
   "source": [
    "from src.utilities.UFCE import SF\n",
    "#cf = SF(x,X,cat_f,p,f,t,step)\n",
    "cf = SF(x,X_train,p_num,p_cat,f,t,step) # changed from X_train_raw to X_train\n",
    "print(cf)"
   ]
  },
  {
   "cell_type": "code",
   "execution_count": 10,
   "id": "960711da-454e-46b8-9c1c-bc3eb3632993",
   "metadata": {},
   "outputs": [
    {
     "name": "stdout",
     "output_type": "stream",
     "text": [
      "[1]\n"
     ]
    }
   ],
   "source": [
    "print(clf.predict(cf[0]))"
   ]
  },
  {
   "cell_type": "code",
   "execution_count": 11,
   "id": "7575f093-f615-41fb-9397-96dad81e9c40",
   "metadata": {},
   "outputs": [
    {
     "name": "stdout",
     "output_type": "stream",
     "text": [
      "[('age', 'Experience'), ('age', 'Income'), ('age', 'Family'), ('age', 'CCAvg'), ('age', 'Education')]\n",
      "[('age', 'Experience'), ('Income', 'CCAvg'), ('CCAvg', 'CDAccount'), ('Income', 'CDAccount'), ('CCAvg', 'Mortgage')]\n",
      "           age  Experience    Income    Family     CCAvg  Education  Mortgage  \\\n",
      "3762 -1.207948   -1.091755  0.031878 -0.436760  0.333147  -1.344684 -0.780557   \n",
      "5587 -1.755966   -1.630010  0.531223 -0.436760 -0.258599   1.216779 -0.780557   \n",
      "4904 -1.664630   -1.540301  0.049712 -1.361130  0.014514  -0.063953 -0.780557   \n",
      "3658 -1.664630   -1.540301  0.281551 -1.361130  0.151071  -0.063953 -0.780557   \n",
      "7577 -1.573294   -1.450592  0.174548 -0.436760 -0.622750  -0.063953 -0.780557   \n",
      "...        ...         ...       ...       ...       ...        ...       ...   \n",
      "1274 -0.385921    0.881846  0.477722  1.411979  0.932044  -0.063953  0.401829   \n",
      "1586 -1.025276   -1.271173  0.745229 -0.436760  0.832978  -0.063953  1.305040   \n",
      "1822 -0.842603   -0.284373  0.620392  1.411979  0.815328  -0.063953  1.198296   \n",
      "2135  0.344769   -0.553500  0.495556  0.487610  0.951976  -0.063953  0.500361   \n",
      "6177 -0.020576   -0.015245  0.745229  1.411979  1.106968  -1.344684  0.943755   \n",
      "\n",
      "      SecuritiesAccount  CDAccount  Online  CreditCard  \n",
      "3762                  0          0       0           1  \n",
      "5587                  0          0       0           1  \n",
      "4904                  1          0       0           0  \n",
      "3658                  0          0       1           0  \n",
      "7577                  0          0       1           0  \n",
      "...                 ...        ...     ...         ...  \n",
      "1274                  0          1       0           0  \n",
      "1586                  0          1       0           0  \n",
      "1822                  0          1       0           0  \n",
      "2135                  0          1       1           0  \n",
      "6177                  0          0       1           0  \n",
      "\n",
      "[510 rows x 11 columns]\n",
      "{'age': [-1.299, 1.0754598323463433], 'Experience': [-1.361, 1.33], 'Income': [0.424, 1.53], 'Family': [-1.361, 1.411979329914144], 'CCAvg': [0.053, 1.835], 'Education': [-0.064, 1.2167787975715585], 'Mortgage': [-0.781, 1.7484340735859814], 'CDAccount': '1'}\n"
     ]
    }
   ],
   "source": [
    "from itertools import combinations\n",
    "from src.utilities.mutual_information import mi_score\n",
    "from src.utilities.mutual_information import MI\n",
    "\n",
    "feature_pairs = list(combinations(list(features), 2))\n",
    "print(feature_pairs[:5])\n",
    "mi_list = MI(feature_pairs,\n",
    "             X_train)  #used all features available #original authors do over entire X but it is not preprocessed... Which i think is nessecary? #also works for bool one-hot encoding \n",
    "# top 5 \n",
    "print(mi_list[:5])\n",
    "### Nearest Neighbour: KD Tree\n",
    "from src.utilities.nearest_neighbours import FNN\n",
    "\n",
    "nn = FNN(desired_space, x,\n",
    "         3.5)  #radius arbitrarily set; can experiment with how close we want it to be to x #3.5 for euclidean distance is around 0.5 for each of the 48 features difference from x, get 3 datapoints\n",
    "print(nn)\n",
    "### Subspace: Intervals\n",
    "from src.utilities.nearest_neighbours import intervals\n",
    "from src.utilities.nearest_neighbours import intervals2\n",
    "\n",
    "#subspace = intervals(nn,p,f2change,x) \n",
    "subspace = intervals2(nn, p_num, p_cat, f2change, x)\n",
    "print(subspace)  #correct output"
   ]
  },
  {
   "cell_type": "code",
   "execution_count": 12,
   "id": "63f96eea-5d65-4279-b6fb-fac856696fc8",
   "metadata": {},
   "outputs": [],
   "source": [
    "from src.utilities.UFCE import DF\n",
    "\n",
    "CFs = DF(datasetdf, x, X_train, subspace, mi_list, cat_f, num_f, features, protect_f, f, t)\n",
    "# print(CFs)\n",
    "# print(len(CFs))"
   ]
  },
  {
   "cell_type": "code",
   "execution_count": 13,
   "id": "fad57448-f57c-45d9-bf84-27a843684779",
   "metadata": {},
   "outputs": [
    {
     "name": "stdout",
     "output_type": "stream",
     "text": [
      "All good: All CFs have prediction == t\n"
     ]
    }
   ],
   "source": [
    "import numpy as np\n",
    "\n",
    "bad_CFs = []\n",
    "\n",
    "for i, cf in enumerate(CFs):\n",
    "    prediction = f.predict(cf)\n",
    "\n",
    "    # If the model returns an array, extract the scalar\n",
    "    if isinstance(prediction, (np.ndarray, list)):\n",
    "        prediction = prediction[0]\n",
    "\n",
    "    if prediction != t:\n",
    "        print(f\"CF #{i} has incorrect prediction: {prediction} (expected: {t})\")\n",
    "        bad_CFs.append((i, prediction))\n",
    "        \n",
    "if not bad_CFs:\n",
    "    print(\"All good: All CFs have prediction == t\")"
   ]
  },
  {
   "cell_type": "code",
   "execution_count": 14,
   "id": "b3e8bc57-a8ca-406e-b117-2c3c76d46b37",
   "metadata": {},
   "outputs": [
    {
     "name": "stdout",
     "output_type": "stream",
     "text": [
      "           age  Experience    Income   Family     CCAvg  Education  Mortgage  \\\n",
      "3478 -1.025276   -0.912337 -0.859811  0.48761 -0.440675  -1.344684 -0.780557   \n",
      "\n",
      "      SecuritiesAccount  CDAccount  Online  CreditCard  \n",
      "3478                  0          0       0           0  \n",
      "           age  Experience  Income   Family     CCAvg  Education  Mortgage  \\\n",
      "3478 -1.025276   -0.912337    1.21  0.48761  0.618328  -1.344684 -0.780557   \n",
      "\n",
      "      SecuritiesAccount  CDAccount  Online  CreditCard  \n",
      "3478                  0          0       0           0  \n",
      "1\n",
      "[1]\n"
     ]
    }
   ],
   "source": [
    "print(x)\n",
    "print(CFs[0])\n",
    "print(t)\n",
    "print(f.predict(CFs[0]))"
   ]
  },
  {
   "cell_type": "code",
   "execution_count": 15,
   "id": "e18df8af-a9ea-4982-ae50-895f911c0038",
   "metadata": {},
   "outputs": [
    {
     "name": "stdout",
     "output_type": "stream",
     "text": [
      "original: \n",
      "           age  Experience    Income   Family     CCAvg  Education  Mortgage  \\\n",
      "3478 -1.025276   -0.912337 -0.859811  0.48761 -0.440675  -1.344684 -0.780557   \n",
      "\n",
      "      SecuritiesAccount  CDAccount  Online  CreditCard  \n",
      "3478                  0          0       0           0  \n",
      "counterfactual: \n",
      "           age  Experience  Income   Family     CCAvg  Education  Mortgage  \\\n",
      "3478 -1.025276   -0.912337    1.21  0.48761  0.618328  -1.344684 -0.780557   \n",
      "\n",
      "      SecuritiesAccount  CDAccount  Online  CreditCard  \n",
      "3478                  0          0       0           0  \n",
      "Differences between original and counterfactual:\n",
      "Income: original = -0.859811069298052, counterfactual = 1.21\n",
      "CCAvg: original = -0.440674747455996, counterfactual = 0.6183278542265571\n"
     ]
    }
   ],
   "source": [
    "print(\"original: \")\n",
    "print(x)\n",
    "print(\"counterfactual: \")\n",
    "print(CFs[0])\n",
    "print(\"Differences between original and counterfactual:\")\n",
    "\n",
    "# Compare x and z for all columns\n",
    "differences = (x != CFs[0]).iloc[0]\n",
    "\n",
    "# Print only the differing columns with their values in x and z\n",
    "for col in x.columns[differences]:\n",
    "    print(f\"{col}: original = {x.iloc[0][col]}, counterfactual = {CFs[0].iloc[0][col]}\")"
   ]
  },
  {
   "cell_type": "code",
   "execution_count": 16,
   "id": "3dbeacc7-eadb-4c91-bade-66beecd22d39",
   "metadata": {},
   "outputs": [],
   "source": [
    "from src.evaluation.metrics import *"
   ]
  },
  {
   "cell_type": "code",
   "execution_count": 17,
   "id": "8893586e-3a56-4cf8-a2a7-e1e32c4c00bd",
   "metadata": {},
   "outputs": [],
   "source": [
    "X_test_negative_subset = X_test_negative[0:50]"
   ]
  },
  {
   "cell_type": "code",
   "execution_count": 18,
   "id": "2d4d97cf-b3a8-45c5-9e76-d5b75e066af0",
   "metadata": {},
   "outputs": [
    {
     "name": "stdout",
     "output_type": "stream",
     "text": [
      "Evaluation for SF done for:  3478\n",
      "Empty CF for:  5024\n",
      "Evaluation for SF done for:  6621\n",
      "Empty CF for:  5800\n",
      "Evaluation for SF done for:  3614\n",
      "Evaluation for SF done for:  4545\n",
      "Evaluation for SF done for:  6215\n",
      "Evaluation for SF done for:  6819\n",
      "Evaluation for SF done for:  6676\n",
      "Evaluation for SF done for:  2776\n",
      "Evaluation for SF done for:  7474\n",
      "Evaluation for SF done for:  5700\n",
      "Evaluation for SF done for:  6329\n",
      "Evaluation for SF done for:  3215\n",
      "Evaluation for SF done for:  3836\n",
      "Evaluation for SF done for:  7427\n",
      "Empty CF for:  3934\n",
      "Evaluation for SF done for:  7286\n",
      "Evaluation for SF done for:  5107\n",
      "Evaluation for SF done for:  6436\n",
      "Empty CF for:  3920\n",
      "Evaluation for SF done for:  5271\n",
      "Evaluation for SF done for:  3609\n",
      "Evaluation for SF done for:  6674\n",
      "Evaluation for SF done for:  4187\n",
      "Evaluation for SF done for:  7537\n",
      "Evaluation for SF done for:  4746\n",
      "Evaluation for SF done for:  2882\n",
      "Empty CF for:  4063\n",
      "Evaluation for SF done for:  5178\n",
      "Evaluation for SF done for:  3191\n",
      "Evaluation for SF done for:  6463\n",
      "Empty CF for:  3482\n",
      "Empty CF for:  5684\n",
      "Evaluation for SF done for:  4955\n",
      "Empty CF for:  5029\n",
      "Evaluation for SF done for:  7042\n",
      "Empty CF for:  6535\n",
      "Empty CF for:  6032\n",
      "Empty CF for:  6400\n",
      "Evaluation for SF done for:  6846\n",
      "Evaluation for SF done for:  2691\n",
      "Evaluation for SF done for:  4453\n",
      "Evaluation for SF done for:  7131\n",
      "Empty CF for:  2680\n",
      "Evaluation for SF done for:  4925\n",
      "Empty CF for:  6264\n",
      "Evaluation for SF done for:  5859\n",
      "Empty CF for:  5773\n",
      "Evaluation for SF done for:  6832\n"
     ]
    }
   ],
   "source": [
    "actionable_features = f2change\n",
    "feasibility_score = proximity_score_num = proximity_score_cat = sparsity_score = 0.0\n",
    "cf_counter_SF = 0\n",
    "for idx, row in X_test_negative_subset.iterrows():\n",
    "    x = row.to_frame().T\n",
    "    nn = FNN(desired_space,x,3.5)\n",
    "    subspace = intervals2(nn,p_num,p_cat,f2change,x)\n",
    "    cf_SF = SF(x,X_train,p_num,p_cat,f,t,step)\n",
    "    if(len(cf_SF)!=0):\n",
    "        cf = cf_SF[0] if isinstance(cf_SF, list) else cf_SF\n",
    "        compute_feasibility(x, cf, actionable_features, clf, 1, X_train,0.5)\n",
    "        if compute_feasibility(x, cf, actionable_features, clf, 1, X_train,0.5):\n",
    "            feasibility_score = feasibility_score + 1\n",
    "        \n",
    "        sparsity_score = sparsity_score + compute_sparsity(x, cf)\n",
    "        cat_cols = list(x.columns.difference(num_cols))\n",
    "        prox_num,prox_cat = compute_proximity(x, cf, num_cols,cat_cols)\n",
    "        proximity_score_num = proximity_score_num + prox_num\n",
    "        proximity_score_cat = proximity_score_cat + prox_cat\n",
    "        print(\"Evaluation for SF done for: \",idx)\n",
    "        cf_counter_SF += 1\n",
    "    else:\n",
    "        print(\"Empty CF for: \",idx)    "
   ]
  },
  {
   "cell_type": "code",
   "execution_count": 19,
   "id": "c01fd292-164b-4c96-aa5c-1a935561b446",
   "metadata": {},
   "outputs": [
    {
     "name": "stdout",
     "output_type": "stream",
     "text": [
      "31.0\n",
      "62.63074944250488\n",
      "28.0\n",
      "2.9999999999999987\n"
     ]
    }
   ],
   "source": [
    "print(feasibility_score)\n",
    "print(proximity_score_num)\n",
    "print(proximity_score_cat)\n",
    "print(sparsity_score)"
   ]
  },
  {
   "cell_type": "code",
   "execution_count": 20,
   "id": "c1d7894d-10b0-4e2e-ad84-ce136cef678b",
   "metadata": {},
   "outputs": [
    {
     "name": "stdout",
     "output_type": "stream",
     "text": [
      "0.8611111111111112\n"
     ]
    }
   ],
   "source": [
    "avg_feasibility = feasibility_score / cf_counter_SF\n",
    "print(avg_feasibility)"
   ]
  },
  {
   "cell_type": "code",
   "execution_count": 21,
   "id": "7d73e7d7-9513-4156-a487-81f34b7ae893",
   "metadata": {},
   "outputs": [
    {
     "name": "stdout",
     "output_type": "stream",
     "text": [
      "1.73974304006958\n"
     ]
    }
   ],
   "source": [
    "avg_proximity_num = proximity_score_num / cf_counter_SF\n",
    "print(avg_proximity_num)"
   ]
  },
  {
   "cell_type": "code",
   "execution_count": 22,
   "id": "5c437554-70d6-4631-98a9-c70048cc7dcc",
   "metadata": {},
   "outputs": [
    {
     "name": "stdout",
     "output_type": "stream",
     "text": [
      "0.7777777777777778\n"
     ]
    }
   ],
   "source": [
    "avg_proximity_cat = proximity_score_cat / cf_counter_SF\n",
    "print(avg_proximity_cat)"
   ]
  },
  {
   "cell_type": "code",
   "execution_count": 23,
   "id": "01a62444-390c-429d-9620-c79928e937ae",
   "metadata": {},
   "outputs": [
    {
     "name": "stdout",
     "output_type": "stream",
     "text": [
      "0.0833333333333333\n"
     ]
    }
   ],
   "source": [
    "avg_sparsity = sparsity_score / cf_counter_SF\n",
    "print(avg_sparsity)"
   ]
  },
  {
   "cell_type": "code",
   "execution_count": 24,
   "id": "f83dcf46-93f3-46df-833f-721b596cd161",
   "metadata": {},
   "outputs": [
    {
     "name": "stdout",
     "output_type": "stream",
     "text": [
      "Best CF selected for:  3478\n",
      "Best CF selected for:  5024\n",
      "Best CF selected for:  6621\n",
      "No valid CF found for:  5800\n",
      "Best CF selected for:  3614\n",
      "Best CF selected for:  4545\n",
      "Best CF selected for:  6215\n",
      "Best CF selected for:  6819\n",
      "Best CF selected for:  6676\n",
      "Best CF selected for:  2776\n",
      "Best CF selected for:  7474\n",
      "Best CF selected for:  5700\n",
      "Best CF selected for:  6329\n",
      "Best CF selected for:  3215\n",
      "Best CF selected for:  3836\n",
      "Best CF selected for:  7427\n",
      "Best CF selected for:  3934\n",
      "Best CF selected for:  7286\n",
      "Best CF selected for:  5107\n",
      "Best CF selected for:  6436\n",
      "No valid CF found for:  3920\n",
      "Best CF selected for:  5271\n",
      "Best CF selected for:  3609\n",
      "Best CF selected for:  6674\n",
      "Best CF selected for:  4187\n",
      "Best CF selected for:  7537\n",
      "Best CF selected for:  4746\n",
      "Best CF selected for:  2882\n",
      "Best CF selected for:  4063\n",
      "Best CF selected for:  5178\n",
      "Best CF selected for:  3191\n",
      "Best CF selected for:  6463\n",
      "No valid CF found for:  3482\n",
      "No valid CF found for:  5684\n",
      "Best CF selected for:  4955\n",
      "No valid CF found for:  5029\n",
      "Best CF selected for:  7042\n",
      "No valid CF found for:  6535\n",
      "No valid CF found for:  6032\n",
      "No valid CF found for:  6400\n",
      "Best CF selected for:  6846\n",
      "Best CF selected for:  2691\n",
      "Best CF selected for:  4453\n",
      "Best CF selected for:  7131\n",
      "Best CF selected for:  2680\n",
      "Best CF selected for:  4925\n",
      "Best CF selected for:  6264\n",
      "Best CF selected for:  5859\n",
      "Best CF selected for:  5773\n",
      "Best CF selected for:  6832\n"
     ]
    }
   ],
   "source": [
    "actionable_features = f2change\n",
    "feasibility_score_DF = proximity_score_num_DF = proximity_score_cat_DF = sparsity_score_DF = 0.0\n",
    "cf_counter_DF = 0\n",
    "for idx, row in X_test_negative_subset.iterrows():\n",
    "    x = row.to_frame().T\n",
    "    nn = FNN(desired_space,x,3.5)\n",
    "    subspace = intervals2(nn,p_num,p_cat,f2change,x)\n",
    "\n",
    "    cf_DF = DF(datasetdf,x,X_train,subspace,mi_list,cat_f,num_f,features,protect_f,f,t)\n",
    "    unique_cf_signatures = set()\n",
    "    unique_counterfactuals = []\n",
    "    for cf in cf_DF:\n",
    "        # Align columns\n",
    "        common_cols = x.columns.intersection(cf.columns)\n",
    "        x_common = x[common_cols]\n",
    "        cf_common = cf[common_cols]\n",
    "        \n",
    "        # Find differences\n",
    "        differences = (x_common != cf_common).iloc[0]\n",
    "        \n",
    "        # Represent difference as a tuple of (feature, original_val, cf_val)\n",
    "        diff_signature = tuple(\n",
    "            (col, x[col].values[0], cf[col].values[0])\n",
    "            for col in common_cols[differences]\n",
    "        )\n",
    "        \n",
    "        # Add only if this signature is new\n",
    "        if diff_signature not in unique_cf_signatures:\n",
    "            unique_cf_signatures.add(diff_signature)\n",
    "            unique_counterfactuals.append(cf)\n",
    "    best_cf = None\n",
    "    min_total_proximity = float('inf')\n",
    "    \n",
    "    for cf in unique_counterfactuals:\n",
    "        if len(cf) != 0:\n",
    "            # Compute proximity for current CF\n",
    "            cat_cols = list(x.columns.difference(num_cols))\n",
    "            prox_num, prox_cat = compute_proximity(x, cf, num_cols, cat_cols)\n",
    "            total_proximity = prox_num + prox_cat\n",
    "    \n",
    "            # Keep the CF with the lowest proximity\n",
    "            if total_proximity < min_total_proximity:\n",
    "                min_total_proximity = total_proximity\n",
    "                best_cf = cf\n",
    "        else:\n",
    "            print(\"Empty CF for: \", idx)\n",
    "    \n",
    "    # Evaluate only the best CF\n",
    "    if best_cf is not None:\n",
    "        print(\"Best CF selected for: \", idx)\n",
    "  \n",
    "        # Feasibility\n",
    "        if compute_feasibility(x, best_cf, actionable_features, clf, 1, X_train, 0.5):\n",
    "            feasibility_score_DF += 1\n",
    "    \n",
    "        # Sparsity\n",
    "        sparsity_score_DF += compute_sparsity(x, best_cf)\n",
    "    \n",
    "        # Proximity\n",
    "        prox_num, prox_cat = compute_proximity(x, best_cf, num_cols, cat_cols)\n",
    "        proximity_score_num_DF += prox_num\n",
    "        proximity_score_cat_DF += prox_cat\n",
    "    \n",
    "        cf_counter_DF += 1\n",
    "    else:\n",
    "        print(\"No valid CF found for: \", idx)\n",
    "    # for cf in unique_counterfactuals:\n",
    "    #     if(len(cf)!=0):\n",
    "    #         compute_feasibility(x, cf, actionable_features, clf, 1, X_train,0.5)\n",
    "    #         if compute_feasibility(x, cf, actionable_features, clf, 1, X_train,0.5):\n",
    "    #             feasibility_score_DF = feasibility_score_DF + 1\n",
    "            \n",
    "    #         sparsity_score_DF = sparsity_score_DF + compute_sparsity(x, cf)\n",
    "    #         cat_cols = list(x.columns.difference(num_cols))\n",
    "    #         prox_num,prox_cat = compute_proximity(x, cf, num_cols,cat_cols)\n",
    "    #         proximity_score_num_DF = proximity_score_num_DF + prox_num\n",
    "    #         proximity_score_cat_DF = proximity_score_cat_DF + prox_cat\n",
    "    #         print(\"Evaluation for DF done for: \",idx)\n",
    "    #         cf_counter_DF += 1\n",
    "    #     else:\n",
    "    #         print(\"Empty CF for: \",idx)"
   ]
  },
  {
   "cell_type": "code",
   "execution_count": 25,
   "id": "51395ab7-4bae-453e-9da1-773f76956607",
   "metadata": {},
   "outputs": [
    {
     "name": "stdout",
     "output_type": "stream",
     "text": [
      "41.0\n",
      "72.7385203900729\n",
      "24.666666666666668\n",
      "6.727272727272723\n"
     ]
    }
   ],
   "source": [
    "print(feasibility_score_DF)\n",
    "print(proximity_score_num_DF)\n",
    "print(proximity_score_cat_DF)\n",
    "print(sparsity_score_DF)"
   ]
  },
  {
   "cell_type": "code",
   "execution_count": 26,
   "id": "b12fa273-ada1-418e-ba6e-d6b09657f039",
   "metadata": {},
   "outputs": [
    {
     "name": "stdout",
     "output_type": "stream",
     "text": [
      "0.9761904761904762\n"
     ]
    }
   ],
   "source": [
    "avg_feasibilit_DF = feasibility_score_DF / cf_counter_DF\n",
    "print(avg_feasibilit_DF)"
   ]
  },
  {
   "cell_type": "code",
   "execution_count": 27,
   "id": "ffab64e6-0149-4bfc-9d7a-fb61ddf72ae9",
   "metadata": {},
   "outputs": [
    {
     "name": "stdout",
     "output_type": "stream",
     "text": [
      "1.731869533096974\n"
     ]
    }
   ],
   "source": [
    "avg_proximity_num_DF = proximity_score_num_DF / cf_counter_DF\n",
    "print(avg_proximity_num_DF)"
   ]
  },
  {
   "cell_type": "code",
   "execution_count": 28,
   "id": "1560dde4-ded1-4759-a8a1-d6135040a301",
   "metadata": {},
   "outputs": [
    {
     "name": "stdout",
     "output_type": "stream",
     "text": [
      "0.5873015873015873\n"
     ]
    }
   ],
   "source": [
    "avg_proximity_cat_DF = proximity_score_cat_DF / cf_counter_DF\n",
    "print(avg_proximity_cat_DF)"
   ]
  },
  {
   "cell_type": "code",
   "execution_count": 29,
   "id": "26b2dc1f-09fe-415c-ad52-ec41af5d3e25",
   "metadata": {},
   "outputs": [
    {
     "name": "stdout",
     "output_type": "stream",
     "text": [
      "0.16017316017316008\n"
     ]
    }
   ],
   "source": [
    "avg_sparsity_DF = sparsity_score_DF / cf_counter_DF\n",
    "print(avg_sparsity_DF)"
   ]
  },
  {
   "cell_type": "code",
   "execution_count": 30,
   "id": "e068d7ab-1877-4cd0-93b7-984f559f6e30",
   "metadata": {},
   "outputs": [],
   "source": [
    "cf_feasibility = {}\n",
    "cf_sparsity = {}\n",
    "cf_proximity_num = {}\n",
    "cf_proximity_cat = {}\n",
    "\n",
    "x = X_test_negative[5:6]\n",
    "nn = FNN(desired_space,x,3.5)\n",
    "subspace = intervals2(nn,p_num,p_cat,f2change,x)\n",
    "cf_DF = DF(datasetdf,x,X_train,subspace,mi_list,cat_f,num_f,features,protect_f,f,t)\n",
    "unique_cf_signatures = set()\n",
    "unique_counterfactuals = []\n",
    "for cf in cf_DF:\n",
    "    # Align columns\n",
    "    common_cols = x.columns.intersection(cf.columns)\n",
    "    x_common = x[common_cols]\n",
    "    cf_common = cf[common_cols]\n",
    "    \n",
    "    # Find differences\n",
    "    differences = (x_common != cf_common).iloc[0]\n",
    "    \n",
    "    # Represent difference as a tuple of (feature, original_val, cf_val)\n",
    "    diff_signature = tuple(\n",
    "        (col, x[col].values[0], cf[col].values[0])\n",
    "        for col in common_cols[differences]\n",
    "    )\n",
    "    \n",
    "    # Add only if this signature is new\n",
    "    if diff_signature not in unique_cf_signatures:\n",
    "        unique_cf_signatures.add(diff_signature)\n",
    "        unique_counterfactuals.append(cf)\n",
    "for idx, cf in enumerate(unique_counterfactuals):\n",
    "    if(len(cf)!=0):\n",
    "        compute_feasibility(x, cf, actionable_features, clf, 1, X_train,0.5)\n",
    "        if compute_feasibility(x, cf, actionable_features, clf, 1, X_train,0.5):\n",
    "            cf_feasibility[idx] = 1\n",
    "        else:\n",
    "            cf_feasibility[idx] = 0\n",
    "        cf_sparsity[idx] = compute_sparsity(x, cf)\n",
    "        cat_cols = list(x.columns.difference(num_cols))\n",
    "        prox_num,prox_cat = compute_proximity(x, cf, num_cols,cat_cols)\n",
    "        cf_proximity_num[idx] = prox_num\n",
    "        cf_proximity_cat[idx] = prox_cat"
   ]
  },
  {
   "cell_type": "code",
   "execution_count": 31,
   "id": "23e702ca-5e8f-4f5c-ae32-441feb1de594",
   "metadata": {},
   "outputs": [
    {
     "data": {
      "text/plain": [
       "{0: 1, 1: 1, 2: 1, 3: 1, 4: 1, 5: 1}"
      ]
     },
     "execution_count": 31,
     "metadata": {},
     "output_type": "execute_result"
    }
   ],
   "source": [
    "cf_feasibility"
   ]
  },
  {
   "cell_type": "code",
   "execution_count": 32,
   "id": "e1e0596b-b490-4574-be02-901d70b45fef",
   "metadata": {},
   "outputs": [
    {
     "data": {
      "text/plain": [
       "{0: 0.18181818181818182,\n",
       " 1: 0.18181818181818182,\n",
       " 2: 0.18181818181818182,\n",
       " 3: 0.18181818181818182,\n",
       " 4: 0.18181818181818182,\n",
       " 5: 0.18181818181818182}"
      ]
     },
     "execution_count": 32,
     "metadata": {},
     "output_type": "execute_result"
    }
   ],
   "source": [
    "cf_sparsity"
   ]
  },
  {
   "cell_type": "code",
   "execution_count": 33,
   "id": "170b5b87-9dfe-470e-a0e6-02b5c45dc856",
   "metadata": {},
   "outputs": [
    {
     "data": {
      "text/plain": [
       "{0: 1.3210830539118215,\n",
       " 1: 2.05723147491461,\n",
       " 2: 0.9916235993344971,\n",
       " 3: 1.4587172176439454,\n",
       " 4: 1.1922213419863141,\n",
       " 5: 1.483550076867324}"
      ]
     },
     "execution_count": 33,
     "metadata": {},
     "output_type": "execute_result"
    }
   ],
   "source": [
    "cf_proximity_num"
   ]
  },
  {
   "cell_type": "code",
   "execution_count": 34,
   "id": "048cce51-2dd8-4913-9d6d-8e638f154b4b",
   "metadata": {},
   "outputs": [
    {
     "data": {
      "text/plain": [
       "{0: 1.0, 1: 0.5, 2: 0.5, 3: 1.0, 4: 1.0, 5: 1.0}"
      ]
     },
     "execution_count": 34,
     "metadata": {},
     "output_type": "execute_result"
    }
   ],
   "source": [
    "cf_proximity_cat"
   ]
  },
  {
   "cell_type": "code",
   "execution_count": null,
   "id": "92824738-d091-4c88-b7d4-d1a8c754e6d2",
   "metadata": {},
   "outputs": [],
   "source": []
  }
 ],
 "metadata": {
  "kernelspec": {
   "display_name": "Python 3 (ipykernel)",
   "language": "python",
   "name": "python3"
  },
  "language_info": {
   "codemirror_mode": {
    "name": "ipython",
    "version": 3
   },
   "file_extension": ".py",
   "mimetype": "text/x-python",
   "name": "python",
   "nbconvert_exporter": "python",
   "pygments_lexer": "ipython3",
   "version": "3.11.5"
  }
 },
 "nbformat": 4,
 "nbformat_minor": 5
}
