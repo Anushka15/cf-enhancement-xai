{
 "cells": [
  {
   "cell_type": "markdown",
   "id": "586605b7f328c337",
   "metadata": {
    "collapsed": false
   },
   "source": [
    "# Load Data and preprocess"
   ]
  },
  {
   "cell_type": "code",
   "execution_count": 1,
   "id": "8e25f056-891b-40ef-ba16-e955922c5477",
   "metadata": {
    "ExecuteTime": {
     "end_time": "2025-06-14T12:20:09.809940900Z",
     "start_time": "2025-06-14T12:20:09.800965400Z"
    }
   },
   "outputs": [],
   "source": [
    "import sys\n",
    "import os\n",
    "sys.path.append(os.path.abspath(\"..\"))"
   ]
  },
  {
   "cell_type": "code",
   "execution_count": 2,
   "id": "d0e99e86-ce22-423a-8a34-12c7c03f5339",
   "metadata": {
    "ExecuteTime": {
     "end_time": "2025-06-14T12:20:10.657106300Z",
     "start_time": "2025-06-14T12:20:10.645137700Z"
    }
   },
   "outputs": [],
   "source": [
    "#pip install ucimlrepo"
   ]
  },
  {
   "cell_type": "code",
   "execution_count": 3,
   "id": "c6cdd5eb-74fb-4fd4-87ef-93be7dfc0df3",
   "metadata": {
    "ExecuteTime": {
     "end_time": "2025-06-14T12:20:13.135753200Z",
     "start_time": "2025-06-14T12:20:11.627096Z"
    }
   },
   "outputs": [],
   "source": [
    "from src.data.load_data import load_input_data\n",
    "from src.data.load_data import preprocess_data"
   ]
  },
  {
   "cell_type": "code",
   "execution_count": 4,
   "id": "899deef0-4026-4c51-912e-a32781e12461",
   "metadata": {
    "ExecuteTime": {
     "end_time": "2025-06-14T12:20:15.435650300Z",
     "start_time": "2025-06-14T12:20:13.676172300Z"
    }
   },
   "outputs": [],
   "source": [
    "X_train, X_test, y_train, y_test, metadata, variables, datasetdf = load_input_data()"
   ]
  },
  {
   "cell_type": "code",
   "execution_count": 10,
   "id": "eb4c6e14-f419-4b4b-8a63-2902f9ac9a9b",
   "metadata": {
    "ExecuteTime": {
     "end_time": "2025-06-14T12:30:46.403100400Z",
     "start_time": "2025-06-14T12:30:46.349838600Z"
    }
   },
   "outputs": [
    {
     "name": "stdout",
     "output_type": "stream",
     "text": [
      "     Attribute2  Attribute5  Attribute8  Attribute11  Attribute13  \\\n",
      "10    -0.733512   -0.713001    0.054714    -1.660121    -0.956361   \n",
      "82    -0.231598   -0.610869    0.054714     1.076342    -1.047717   \n",
      "827   -0.231598    0.360687   -0.835976    -0.747967     0.048549   \n",
      "410    0.270317   -0.461601    0.945404     1.076342    -1.413139   \n",
      "48    -0.817165    1.506577   -1.726666     1.076342     0.322615   \n",
      "\n",
      "     Attribute16  Attribute18  Attribute1_A12  Attribute1_A13  Attribute1_A14  \\\n",
      "10     -0.724565    -0.434114               1               0               0   \n",
      "82     -0.724565    -0.434114               0               0               1   \n",
      "827     1.074000     2.303542               0               0               1   \n",
      "410    -0.724565    -0.434114               1               0               0   \n",
      "48      1.074000    -0.434114               0               0               1   \n",
      "\n",
      "     Attribute3_A31  Attribute3_A32  Attribute3_A33  Attribute3_A34  \\\n",
      "10                0               1               0               0   \n",
      "82                0               1               0               0   \n",
      "827               0               0               0               0   \n",
      "410               0               1               0               0   \n",
      "48                0               0               0               1   \n",
      "\n",
      "     Attribute4_A41  Attribute4_A410  Attribute4_A42  Attribute4_A43  \\\n",
      "10                0                0               0               0   \n",
      "82                0                0               0               0   \n",
      "827               0                0               0               0   \n",
      "410               0                0               0               1   \n",
      "48                0                0               0               0   \n",
      "\n",
      "     Attribute4_A44  Attribute4_A45  Attribute4_A46  Attribute4_A48  \\\n",
      "10                0               0               0               0   \n",
      "82                0               0               0               0   \n",
      "827               0               0               0               0   \n",
      "410               0               0               0               0   \n",
      "48                0               0               0               0   \n",
      "\n",
      "     Attribute4_A49  Attribute6_A62  Attribute6_A63  Attribute6_A64  \\\n",
      "10                0               0               0               0   \n",
      "82                1               1               0               0   \n",
      "827               1               0               0               0   \n",
      "410               0               0               0               0   \n",
      "48                0               0               0               0   \n",
      "\n",
      "     Attribute6_A65  Attribute7_A72  Attribute7_A73  Attribute7_A74  \\\n",
      "10                0               1               0               0   \n",
      "82                0               0               1               0   \n",
      "827               0               0               1               0   \n",
      "410               0               0               0               0   \n",
      "48                0               0               1               0   \n",
      "\n",
      "     Attribute7_A75  Attribute9_A92  Attribute9_A93  Attribute9_A94  \\\n",
      "10                0               1               0               0   \n",
      "82                0               1               0               0   \n",
      "827               0               0               1               0   \n",
      "410               1               1               0               0   \n",
      "48                0               0               1               0   \n",
      "\n",
      "     Attribute10_A102  Attribute10_A103  Attribute12_A122  Attribute12_A123  \\\n",
      "10                  0                 0                 0                 1   \n",
      "82                  0                 0                 1                 0   \n",
      "827                 0                 0                 0                 1   \n",
      "410                 0                 0                 0                 1   \n",
      "48                  0                 0                 1                 0   \n",
      "\n",
      "     Attribute12_A124  Attribute14_A142  Attribute14_A143  Attribute15_A152  \\\n",
      "10                  0                 0                 1                 0   \n",
      "82                  0                 0                 1                 0   \n",
      "827                 0                 1                 0                 1   \n",
      "410                 0                 0                 1                 1   \n",
      "48                  0                 0                 1                 1   \n",
      "\n",
      "     Attribute15_A153  Attribute17_A172  Attribute17_A173  Attribute17_A174  \\\n",
      "10                  0                 0                 1                 0   \n",
      "82                  0                 1                 0                 0   \n",
      "827                 0                 0                 1                 0   \n",
      "410                 0                 0                 1                 0   \n",
      "48                  0                 1                 0                 0   \n",
      "\n",
      "     Attribute19_A192  Attribute20_A202  \n",
      "10                  0                 0  \n",
      "82                  0                 0  \n",
      "827                 0                 0  \n",
      "410                 1                 0  \n",
      "48                  0                 0  \n"
     ]
    }
   ],
   "source": [
    "import pandas as pd\n",
    "\n",
    "num_cols = ['Attribute2', 'Attribute5', 'Attribute8', 'Attribute11',\n",
    "            'Attribute13', 'Attribute16', 'Attribute18']\n",
    "\n",
    "X_train, X_test = preprocess_data(X_train, X_test, num_cols)\n",
    "#pd.set_option('display.max_columns', None)\n",
    "#print(X_train.head())"
   ]
  },
  {
   "cell_type": "markdown",
   "id": "50dbbf3bf2583398",
   "metadata": {
    "collapsed": false
   },
   "source": [
    "# Train model"
   ]
  },
  {
   "cell_type": "code",
   "execution_count": 6,
   "id": "3e71f1f3-b0c1-4520-b88a-07026fb3ef99",
   "metadata": {},
   "outputs": [],
   "source": [
    "from src.model.train_model import train_classifier"
   ]
  },
  {
   "cell_type": "code",
   "execution_count": 7,
   "id": "2ad76108-cf15-4385-aad8-e6ed059e5179",
   "metadata": {},
   "outputs": [],
   "source": [
    "clf = train_classifier(X_train,y_train,n_estimators=100, random_state=42)"
   ]
  },
  {
   "cell_type": "markdown",
   "id": "bc0adfeb-7e51-47f7-bb3a-dd80fa791fda",
   "metadata": {},
   "source": [
    "# Test model"
   ]
  },
  {
   "cell_type": "code",
   "execution_count": 8,
   "id": "59c52144-fa92-4457-8256-978a282d0a4e",
   "metadata": {},
   "outputs": [],
   "source": [
    "from src.model.test_model import test_classifier_prediction"
   ]
  },
  {
   "cell_type": "code",
   "execution_count": 9,
   "id": "f5f1d8e1-2641-42e8-bdc9-8e1ee4f23ce0",
   "metadata": {},
   "outputs": [],
   "source": [
    "y_pred,classification_report,accuracy_score = test_classifier_prediction(clf,X_test,y_test)"
   ]
  },
  {
   "cell_type": "code",
   "execution_count": 10,
   "id": "41046582-e69a-41d0-9c59-c18b066f0aa2",
   "metadata": {},
   "outputs": [
    {
     "name": "stdout",
     "output_type": "stream",
     "text": [
      "0.76\n"
     ]
    }
   ],
   "source": [
    "print(accuracy_score)"
   ]
  },
  {
   "cell_type": "code",
   "execution_count": 11,
   "id": "7aa4847a-dcde-4a5b-afd5-6b0b5fddc5c9",
   "metadata": {},
   "outputs": [
    {
     "name": "stdout",
     "output_type": "stream",
     "text": [
      "              precision    recall  f1-score   support\n",
      "\n",
      "           1       0.76      0.95      0.85       210\n",
      "           2       0.74      0.31      0.44        90\n",
      "\n",
      "    accuracy                           0.76       300\n",
      "   macro avg       0.75      0.63      0.64       300\n",
      "weighted avg       0.76      0.76      0.72       300\n"
     ]
    }
   ],
   "source": [
    "print(classification_report)"
   ]
  },
  {
   "cell_type": "markdown",
   "id": "cb457f7e2dd2a0c5",
   "metadata": {
    "collapsed": false
   },
   "source": [
    "### User constraints / Ontology constraints"
   ]
  },
  {
   "cell_type": "code",
   "execution_count": 6,
   "id": "5ceced30b0483971",
   "metadata": {
    "ExecuteTime": {
     "end_time": "2025-06-13T19:21:33.596362800Z",
     "start_time": "2025-06-13T19:21:33.581405Z"
    },
    "collapsed": false
   },
   "outputs": [],
   "source": [
    "# Implement here\n"
   ]
  },
  {
   "cell_type": "markdown",
   "source": [
    "### Final outputs of Input section of pipeline\n",
    "For experimentation, here are some values"
   ],
   "metadata": {
    "collapsed": false
   },
   "id": "4e215b55b761b30"
  },
  {
   "cell_type": "code",
   "execution_count": null,
   "outputs": [],
   "source": [
    "from src.utilities.desired_space import desired_space\n",
    "x= X_test[0] #test instance\n",
    "p= {\n",
    "    'Attribute5':(10000, 30000) #credit amount\n",
    "}#perturbation map\n",
    "desired_space= desired_space(2, datasetdf)#\n",
    "cat_f= X_train.select_dtypes(include=['bool']) #categorical features\n",
    "num_f= X_train.select_dtypes(include=['int64', 'float64']) #numerical features\n",
    "protect_f= ['Attribute9_A92'  'Attribute9_A93'  'Attribute9_A94'] # Personal status and sex (X_train.head() shows only 3 values (columns) while there are 5) #protected features\n",
    "features= X_train.columns() #all features\n",
    "t= 2 #desired outcome\n",
    "f= clf #black-box model for which we want to find CF\n",
    "X= X_train #training data\n",
    "step= {\n",
    "    'Attribute5': 10 #credit amount steps\n",
    "} #dictionary holding the feature distribution to be used for single feature perturbation method"
   ],
   "metadata": {
    "collapsed": false
   },
   "id": "9b1b269b4baa0a36"
  },
  {
   "cell_type": "markdown",
   "id": "9758b29e7bd34451",
   "metadata": {
    "collapsed": false
   },
   "source": [
    "# UFCE"
   ]
  },
  {
   "cell_type": "markdown",
   "id": "41299d099707094c",
   "metadata": {
    "collapsed": false
   },
   "source": [
    "### Feature Selection: Mutual Information (MI)"
   ]
  },
  {
   "cell_type": "code",
   "execution_count": 2,
   "id": "376a7dd21385f19",
   "metadata": {
    "ExecuteTime": {
     "end_time": "2025-06-13T19:21:42.641258300Z",
     "start_time": "2025-06-13T19:21:36.116672600Z"
    },
    "collapsed": false
   },
   "outputs": [
    {
     "ename": "ModuleNotFoundError",
     "evalue": "No module named 'src'",
     "output_type": "error",
     "traceback": [
      "\u001B[1;31m---------------------------------------------------------------------------\u001B[0m",
      "\u001B[1;31mModuleNotFoundError\u001B[0m                       Traceback (most recent call last)",
      "Cell \u001B[1;32mIn[2], line 2\u001B[0m\n\u001B[0;32m      1\u001B[0m \u001B[38;5;28;01mfrom\u001B[39;00m \u001B[38;5;21;01mitertools\u001B[39;00m \u001B[38;5;28;01mimport\u001B[39;00m combinations\n\u001B[1;32m----> 2\u001B[0m \u001B[38;5;28;01mfrom\u001B[39;00m \u001B[38;5;21;01msrc\u001B[39;00m\u001B[38;5;21;01m.\u001B[39;00m\u001B[38;5;21;01mutilities\u001B[39;00m\u001B[38;5;21;01m.\u001B[39;00m\u001B[38;5;21;01mmutual_information\u001B[39;00m \u001B[38;5;28;01mimport\u001B[39;00m mi_score\n\u001B[0;32m      3\u001B[0m \u001B[38;5;28;01mfrom\u001B[39;00m \u001B[38;5;21;01msrc\u001B[39;00m\u001B[38;5;21;01m.\u001B[39;00m\u001B[38;5;21;01mutilities\u001B[39;00m\u001B[38;5;21;01m.\u001B[39;00m\u001B[38;5;21;01mmutual_information\u001B[39;00m \u001B[38;5;28;01mimport\u001B[39;00m MI\n\u001B[0;32m      4\u001B[0m features \u001B[38;5;241m=\u001B[39m \u001B[38;5;28mlist\u001B[39m(X_train\u001B[38;5;241m.\u001B[39mcolumns)\n",
      "\u001B[1;31mModuleNotFoundError\u001B[0m: No module named 'src'"
     ]
    }
   ],
   "source": [
    "from itertools import combinations\n",
    "from src.utilities.mutual_information import mi_score\n",
    "from src.utilities.mutual_information import MI\n",
    "features = list(X_train.columns)\n",
    "feature_pairs = list(combinations(features, 2))\n",
    "print(feature_pairs[:5])\n",
    "mi_list = MI(feature_pairs, X_train) #used all features available #original authors do over entire X but it is not preprocessed... Which i think is nessecary? \n",
    "# top 5 \n",
    "print(mi_list[:5])"
   ]
  },
  {
   "cell_type": "markdown",
   "id": "7a272e99ef8ff9c3",
   "metadata": {
    "collapsed": false
   },
   "source": [
    "### Nearest Neighbour: KD Tree"
   ]
  },
  {
   "cell_type": "code",
   "execution_count": null,
   "id": "b4c4047d73dd6a63",
   "metadata": {
    "collapsed": false
   },
   "outputs": [],
   "source": [
    "from src.utilities.nearest_neighbours import FNN\n"
   ]
  }
 ],
 "metadata": {
  "kernelspec": {
   "display_name": "Python 3 (ipykernel)",
   "language": "python",
   "name": "python3"
  },
  "language_info": {
   "codemirror_mode": {
    "name": "ipython",
    "version": 3
   },
   "file_extension": ".py",
   "mimetype": "text/x-python",
   "name": "python",
   "nbconvert_exporter": "python",
   "pygments_lexer": "ipython3",
   "version": "3.11.5"
  }
 },
 "nbformat": 4,
 "nbformat_minor": 5
}
