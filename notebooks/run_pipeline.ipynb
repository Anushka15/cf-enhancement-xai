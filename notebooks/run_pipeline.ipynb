{
 "cells": [
  {
   "cell_type": "markdown",
   "id": "586605b7f328c337",
   "metadata": {
    "collapsed": false
   },
   "source": [
    "# Load Data and preprocess"
   ]
  },
  {
   "cell_type": "code",
   "execution_count": 1,
   "id": "8e25f056-891b-40ef-ba16-e955922c5477",
   "metadata": {},
   "outputs": [],
   "source": [
    "import sys\n",
    "import os\n",
    "sys.path.append(os.path.abspath(\"..\"))"
   ]
  },
  {
   "cell_type": "code",
   "execution_count": 2,
   "id": "d0e99e86-ce22-423a-8a34-12c7c03f5339",
   "metadata": {},
   "outputs": [],
   "source": [
    "#pip install ucimlrepo"
   ]
  },
  {
   "cell_type": "code",
   "execution_count": 3,
   "id": "c6cdd5eb-74fb-4fd4-87ef-93be7dfc0df3",
   "metadata": {},
   "outputs": [],
   "source": [
    "from src.data.load_data import load_input_data\n",
    "from src.data.load_data import preprocess_data"
   ]
  },
  {
   "cell_type": "code",
   "execution_count": 4,
   "id": "899deef0-4026-4c51-912e-a32781e12461",
   "metadata": {},
   "outputs": [],
   "source": [
    "X_train, X_test, y_train, y_test, metadata, variables = load_input_data()"
   ]
  },
  {
   "cell_type": "code",
   "execution_count": 5,
   "id": "eb4c6e14-f419-4b4b-8a63-2902f9ac9a9b",
   "metadata": {},
   "outputs": [],
   "source": [
    "num_cols = ['Attribute2', 'Attribute5', 'Attribute8', 'Attribute11',\n",
    "            'Attribute13', 'Attribute16', 'Attribute18']\n",
    "\n",
    "X_train, X_test = preprocess_data(X_train, X_test, num_cols)"
   ]
  },
  {
   "cell_type": "markdown",
   "id": "50dbbf3bf2583398",
   "metadata": {
    "collapsed": false
   },
   "source": [
    "# Train model"
   ]
  },
  {
   "cell_type": "code",
   "execution_count": 6,
   "id": "3e71f1f3-b0c1-4520-b88a-07026fb3ef99",
   "metadata": {},
   "outputs": [],
   "source": [
    "from src.model.train_model import train_classifier"
   ]
  },
  {
   "cell_type": "code",
   "execution_count": 7,
   "id": "2ad76108-cf15-4385-aad8-e6ed059e5179",
   "metadata": {},
   "outputs": [],
   "source": [
    "clf = train_classifier(X_train,y_train,n_estimators=100, random_state=42)"
   ]
  },
  {
   "cell_type": "markdown",
   "id": "bc0adfeb-7e51-47f7-bb3a-dd80fa791fda",
   "metadata": {},
   "source": [
    "# Test model"
   ]
  },
  {
   "cell_type": "code",
   "execution_count": 8,
   "id": "59c52144-fa92-4457-8256-978a282d0a4e",
   "metadata": {},
   "outputs": [],
   "source": [
    "from src.model.test_model import test_classifier_prediction"
   ]
  },
  {
   "cell_type": "code",
   "execution_count": 9,
   "id": "f5f1d8e1-2641-42e8-bdc9-8e1ee4f23ce0",
   "metadata": {},
   "outputs": [],
   "source": [
    "y_pred,classification_report,accuracy_score = test_classifier_prediction(clf,X_test,y_test)"
   ]
  },
  {
   "cell_type": "code",
   "execution_count": 10,
   "id": "41046582-e69a-41d0-9c59-c18b066f0aa2",
   "metadata": {},
   "outputs": [
    {
     "name": "stdout",
     "output_type": "stream",
     "text": [
      "0.76\n"
     ]
    }
   ],
   "source": [
    "print(accuracy_score)"
   ]
  },
  {
   "cell_type": "code",
   "execution_count": 11,
   "id": "7aa4847a-dcde-4a5b-afd5-6b0b5fddc5c9",
   "metadata": {},
   "outputs": [
    {
     "name": "stdout",
     "output_type": "stream",
     "text": [
      "              precision    recall  f1-score   support\n",
      "\n",
      "           1       0.76      0.95      0.85       210\n",
      "           2       0.74      0.31      0.44        90\n",
      "\n",
      "    accuracy                           0.76       300\n",
      "   macro avg       0.75      0.63      0.64       300\n",
      "weighted avg       0.76      0.76      0.72       300\n",
      "\n"
     ]
    }
   ],
   "source": [
    "print(classification_report)"
   ]
  },
  {
   "cell_type": "markdown",
   "id": "cb457f7e2dd2a0c5",
   "metadata": {
    "collapsed": false
   },
   "source": [
    "### User constraints / Ontology constraints"
   ]
  },
  {
   "cell_type": "code",
   "execution_count": 6,
   "id": "5ceced30b0483971",
   "metadata": {
    "ExecuteTime": {
     "end_time": "2025-06-13T19:21:33.596362800Z",
     "start_time": "2025-06-13T19:21:33.581405Z"
    },
    "collapsed": false
   },
   "outputs": [],
   "source": [
    "# Implement here"
   ]
  },
  {
   "cell_type": "markdown",
   "id": "9758b29e7bd34451",
   "metadata": {
    "collapsed": false
   },
   "source": [
    "# UFCE"
   ]
  },
  {
   "cell_type": "markdown",
   "id": "41299d099707094c",
   "metadata": {
    "collapsed": false
   },
   "source": [
    "### Feature Selection: Mutual Information (MI)"
   ]
  },
  {
   "cell_type": "code",
   "execution_count": 2,
   "id": "376a7dd21385f19",
   "metadata": {
    "ExecuteTime": {
     "end_time": "2025-06-13T19:21:42.641258300Z",
     "start_time": "2025-06-13T19:21:36.116672600Z"
    },
    "collapsed": false
   },
   "outputs": [
    {
     "ename": "ModuleNotFoundError",
     "evalue": "No module named 'src'",
     "output_type": "error",
     "traceback": [
      "\u001B[1;31m---------------------------------------------------------------------------\u001B[0m",
      "\u001B[1;31mModuleNotFoundError\u001B[0m                       Traceback (most recent call last)",
      "Cell \u001B[1;32mIn[2], line 2\u001B[0m\n\u001B[0;32m      1\u001B[0m \u001B[38;5;28;01mfrom\u001B[39;00m \u001B[38;5;21;01mitertools\u001B[39;00m \u001B[38;5;28;01mimport\u001B[39;00m combinations\n\u001B[1;32m----> 2\u001B[0m \u001B[38;5;28;01mfrom\u001B[39;00m \u001B[38;5;21;01msrc\u001B[39;00m\u001B[38;5;21;01m.\u001B[39;00m\u001B[38;5;21;01mutilities\u001B[39;00m\u001B[38;5;21;01m.\u001B[39;00m\u001B[38;5;21;01mmutual_information\u001B[39;00m \u001B[38;5;28;01mimport\u001B[39;00m mi_score\n\u001B[0;32m      3\u001B[0m \u001B[38;5;28;01mfrom\u001B[39;00m \u001B[38;5;21;01msrc\u001B[39;00m\u001B[38;5;21;01m.\u001B[39;00m\u001B[38;5;21;01mutilities\u001B[39;00m\u001B[38;5;21;01m.\u001B[39;00m\u001B[38;5;21;01mmutual_information\u001B[39;00m \u001B[38;5;28;01mimport\u001B[39;00m MI\n\u001B[0;32m      4\u001B[0m features \u001B[38;5;241m=\u001B[39m \u001B[38;5;28mlist\u001B[39m(X_train\u001B[38;5;241m.\u001B[39mcolumns)\n",
      "\u001B[1;31mModuleNotFoundError\u001B[0m: No module named 'src'"
     ]
    }
   ],
   "source": [
    "from itertools import combinations\n",
    "from src.utilities.mutual_information import mi_score\n",
    "from src.utilities.mutual_information import MI\n",
    "features = list(X_train.columns)\n",
    "feature_pairs = list(combinations(features, 2))\n",
    "print(feature_pairs[:5])\n",
    "mi_list = MI(feature_pairs, X_train) #used all features available #original authors do over entire X but it is not preprocessed... Which i think is nessecary? \n",
    "# top 5 \n",
    "print(mi_list[:5])"
   ]
  },
  {
   "cell_type": "markdown",
   "id": "7a272e99ef8ff9c3",
   "metadata": {
    "collapsed": false
   },
   "source": [
    "### Nearest Neighbour: KD Tree"
   ]
  },
  {
   "cell_type": "code",
   "execution_count": null,
   "id": "b4c4047d73dd6a63",
   "metadata": {
    "collapsed": false
   },
   "outputs": [],
   "source": []
  }
 ],
 "metadata": {
  "kernelspec": {
   "display_name": "Python 3 (ipykernel)",
   "language": "python",
   "name": "python3"
  },
  "language_info": {
   "codemirror_mode": {
    "name": "ipython",
    "version": 3
   },
   "file_extension": ".py",
   "mimetype": "text/x-python",
   "name": "python",
   "nbconvert_exporter": "python",
   "pygments_lexer": "ipython3",
   "version": "3.11.5"
  }
 },
 "nbformat": 4,
 "nbformat_minor": 5
}
