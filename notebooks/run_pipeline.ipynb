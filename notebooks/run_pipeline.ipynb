{
 "cells": [
  {
   "cell_type": "markdown",
   "id": "586605b7f328c337",
   "metadata": {
    "collapsed": false,
    "jupyter": {
     "outputs_hidden": false
    }
   },
   "source": [
    "# Load Data and preprocess"
   ]
  },
  {
   "cell_type": "code",
   "execution_count": 1,
   "id": "8e25f056-891b-40ef-ba16-e955922c5477",
   "metadata": {
    "ExecuteTime": {
     "end_time": "2025-06-22T16:30:44.558377700Z",
     "start_time": "2025-06-22T16:30:44.546410700Z"
    }
   },
   "outputs": [],
   "source": [
    "import sys\n",
    "import os\n",
    "sys.path.append(os.path.abspath(\"..\"))\n",
    "import warnings\n",
    "warnings.filterwarnings('ignore')"
   ]
  },
  {
   "cell_type": "code",
   "execution_count": 2,
   "id": "d0e99e86-ce22-423a-8a34-12c7c03f5339",
   "metadata": {
    "ExecuteTime": {
     "end_time": "2025-06-22T16:30:51.193902600Z",
     "start_time": "2025-06-22T16:30:51.166989900Z"
    }
   },
   "outputs": [],
   "source": [
    "#pip install ucimlrepo"
   ]
  },
  {
   "cell_type": "code",
   "execution_count": 3,
   "id": "c6cdd5eb-74fb-4fd4-87ef-93be7dfc0df3",
   "metadata": {
    "ExecuteTime": {
     "end_time": "2025-06-22T16:30:53.583313600Z",
     "start_time": "2025-06-22T16:30:51.913703600Z"
    }
   },
   "outputs": [],
   "source": [
    "from src.data.load_data import load_input_data\n",
    "from src.data.load_data import preprocess_data\n",
    "#from src.data.load_data import preprocess_data_no_onehot"
   ]
  },
  {
   "cell_type": "code",
   "execution_count": 4,
   "id": "899deef0-4026-4c51-912e-a32781e12461",
   "metadata": {
    "ExecuteTime": {
     "end_time": "2025-06-22T16:31:17.022128500Z",
     "start_time": "2025-06-22T16:30:54.572102700Z"
    }
   },
   "outputs": [],
   "source": [
    "X_train, X_test, y_train, y_test, metadata, variables, datasetdf = load_input_data()"
   ]
  },
  {
   "cell_type": "code",
   "execution_count": 5,
   "id": "eb4c6e14-f419-4b4b-8a63-2902f9ac9a9b",
   "metadata": {
    "ExecuteTime": {
     "start_time": "2025-06-22T16:29:03.294870200Z"
    }
   },
   "outputs": [
    {
     "name": "stdout",
     "output_type": "stream",
     "text": [
      "   Attribute2  Attribute5  Attribute8  Attribute11  Attribute13  Attribute16  \\\n",
      "0   -1.235427   -0.760138    0.945404     1.076342     2.880568     1.074000   \n",
      "1    2.277975    1.028842   -0.835976    -0.747967    -1.230428    -0.724565   \n",
      "2   -0.733512   -0.413341   -0.835976     0.164188     1.236170    -0.724565   \n",
      "3    1.776060    1.751243   -0.835976     1.076342     0.870748    -0.724565   \n",
      "4    0.270317    0.624432    0.054714     1.076342     1.601592     1.074000   \n",
      "\n",
      "   Attribute18  class  Attribute1_A12  Attribute1_A13  ...  Attribute12_A124  \\\n",
      "0    -0.434114      1           False           False  ...             False   \n",
      "1    -0.434114      2            True           False  ...             False   \n",
      "2     2.303542      1           False           False  ...             False   \n",
      "3     2.303542      1           False           False  ...             False   \n",
      "4     2.303542      2           False           False  ...              True   \n",
      "\n",
      "   Attribute14_A142  Attribute14_A143  Attribute15_A152  Attribute15_A153  \\\n",
      "0             False              True              True             False   \n",
      "1             False              True              True             False   \n",
      "2             False              True              True             False   \n",
      "3             False              True             False              True   \n",
      "4             False              True             False              True   \n",
      "\n",
      "   Attribute17_A172  Attribute17_A173  Attribute17_A174  Attribute19_A192  \\\n",
      "0             False              True             False              True   \n",
      "1             False              True             False             False   \n",
      "2              True             False             False             False   \n",
      "3             False              True             False             False   \n",
      "4             False              True             False             False   \n",
      "\n",
      "   Attribute20_A202  \n",
      "0             False  \n",
      "1             False  \n",
      "2             False  \n",
      "3             False  \n",
      "4             False  \n",
      "\n",
      "[5 rows x 49 columns]\n"
     ]
    }
   ],
   "source": [
    "import pandas as pd\n",
    "from src.data.load_data import preprocess_num\n",
    "\n",
    "num_cols = ['Attribute2', 'Attribute5', 'Attribute8', 'Attribute11',\n",
    "            'Attribute13', 'Attribute16', 'Attribute18']\n",
    "\n",
    "cat_cols = X_train.columns.difference(num_cols)\n",
    "\n",
    "X_train_raw,X_test_raw = X_train,X_test\n",
    "#X_train, X_test, datasetdf = preprocess_data(X_train, X_test, datasetdf, num_cols)\n",
    "X_train_num, X_test_num, datasetdf_num = preprocess_num(X_train, X_test, datasetdf, num_cols)\n",
    "X_train, X_test, datasetdf = preprocess_data(X_train, X_test, datasetdf, num_cols)\n",
    "\n",
    "#pd.set_option('display.max_columns', None)\n",
    "#print(X_train.head())\n",
    "print(datasetdf.head())"
   ]
  },
  {
   "cell_type": "markdown",
   "id": "50dbbf3bf2583398",
   "metadata": {
    "collapsed": false,
    "jupyter": {
     "outputs_hidden": false
    }
   },
   "source": [
    "# Train model"
   ]
  },
  {
   "cell_type": "code",
   "execution_count": 6,
   "id": "3e71f1f3-b0c1-4520-b88a-07026fb3ef99",
   "metadata": {
    "ExecuteTime": {
     "end_time": "2025-06-19T05:40:39.400454Z",
     "start_time": "2025-06-19T05:40:39.250723100Z"
    }
   },
   "outputs": [],
   "source": [
    "from src.model.train_model import train_classifier\n",
    "from src.model.train_model import train_classifier_LR"
   ]
  },
  {
   "cell_type": "code",
   "execution_count": 7,
   "id": "2ad76108-cf15-4385-aad8-e6ed059e5179",
   "metadata": {
    "ExecuteTime": {
     "end_time": "2025-06-19T05:40:39.419512900Z",
     "start_time": "2025-06-19T05:40:39.390447300Z"
    }
   },
   "outputs": [],
   "source": [
    "#clf = train_classifier(X_train,y_train,n_estimators=100, random_state=42) # this is for random forrest\n",
    "clf = train_classifier_LR(X_train,y_train, random_state=42)"
   ]
  },
  {
   "cell_type": "markdown",
   "id": "bc0adfeb-7e51-47f7-bb3a-dd80fa791fda",
   "metadata": {},
   "source": [
    "# Test model"
   ]
  },
  {
   "cell_type": "code",
   "execution_count": 8,
   "id": "59c52144-fa92-4457-8256-978a282d0a4e",
   "metadata": {
    "ExecuteTime": {
     "end_time": "2025-06-19T05:40:39.464426Z",
     "start_time": "2025-06-19T05:40:39.423502400Z"
    }
   },
   "outputs": [],
   "source": [
    "from src.model.test_model import test_classifier_prediction"
   ]
  },
  {
   "cell_type": "code",
   "execution_count": 9,
   "id": "f5f1d8e1-2641-42e8-bdc9-8e1ee4f23ce0",
   "metadata": {
    "ExecuteTime": {
     "end_time": "2025-06-19T05:40:39.467411800Z",
     "start_time": "2025-06-19T05:40:39.436469700Z"
    }
   },
   "outputs": [],
   "source": [
    "y_pred,classification_report,accuracy_score = test_classifier_prediction(clf,X_test,y_test)"
   ]
  },
  {
   "cell_type": "code",
   "execution_count": 10,
   "id": "41046582-e69a-41d0-9c59-c18b066f0aa2",
   "metadata": {
    "ExecuteTime": {
     "end_time": "2025-06-19T05:40:39.526550900Z",
     "start_time": "2025-06-19T05:40:39.467411800Z"
    }
   },
   "outputs": [
    {
     "name": "stdout",
     "output_type": "stream",
     "text": [
      "0.78\n"
     ]
    }
   ],
   "source": [
    "print(accuracy_score)"
   ]
  },
  {
   "cell_type": "code",
   "execution_count": 11,
   "id": "7aa4847a-dcde-4a5b-afd5-6b0b5fddc5c9",
   "metadata": {
    "ExecuteTime": {
     "end_time": "2025-06-19T05:40:39.603484100Z",
     "start_time": "2025-06-19T05:40:39.482427800Z"
    }
   },
   "outputs": [
    {
     "name": "stdout",
     "output_type": "stream",
     "text": [
      "              precision    recall  f1-score   support\n",
      "\n",
      "           1       0.81      0.89      0.85       210\n",
      "           2       0.67      0.52      0.59        90\n",
      "\n",
      "    accuracy                           0.78       300\n",
      "   macro avg       0.74      0.71      0.72       300\n",
      "weighted avg       0.77      0.78      0.77       300\n",
      "\n"
     ]
    }
   ],
   "source": [
    "print(classification_report)"
   ]
  },
  {
   "cell_type": "markdown",
   "id": "cb457f7e2dd2a0c5",
   "metadata": {
    "collapsed": false,
    "jupyter": {
     "outputs_hidden": false
    }
   },
   "source": [
    "### User constraints / Ontology constraints"
   ]
  },
  {
   "cell_type": "code",
   "execution_count": 12,
   "id": "5ceced30b0483971",
   "metadata": {
    "ExecuteTime": {
     "end_time": "2025-06-19T05:40:39.624287400Z",
     "start_time": "2025-06-19T05:40:39.500362Z"
    },
    "collapsed": false,
    "jupyter": {
     "outputs_hidden": false
    }
   },
   "outputs": [],
   "source": [
    "from src.ontology.generate_rules import *"
   ]
  },
  {
   "cell_type": "code",
   "execution_count": 13,
   "id": "1026fc53-1de4-490f-925d-268abb04e226",
   "metadata": {
    "ExecuteTime": {
     "end_time": "2025-06-19T05:40:39.650218200Z",
     "start_time": "2025-06-19T05:40:39.516302300Z"
    }
   },
   "outputs": [],
   "source": [
    "X_train_positive = X_train_num[y_train==1]\n",
    "X_train_negative = X_train_num[y_train==2]"
   ]
  },
  {
   "cell_type": "code",
   "execution_count": 14,
   "id": "f3b39670-64d3-4b1b-ad9b-4bd8ebb25305",
   "metadata": {
    "ExecuteTime": {
     "end_time": "2025-06-19T05:40:39.669171500Z",
     "start_time": "2025-06-19T05:40:39.544395Z"
    }
   },
   "outputs": [],
   "source": [
    "positive_profile = summarize_features(X_train_positive)"
   ]
  },
  {
   "cell_type": "code",
   "execution_count": 15,
   "id": "275dcf7c-8a6b-49fe-a13c-44ad61cd94f0",
   "metadata": {
    "ExecuteTime": {
     "end_time": "2025-06-19T05:40:39.850868900Z",
     "start_time": "2025-06-19T05:40:39.796890900Z"
    }
   },
   "outputs": [],
   "source": [
    "#positive_profile"
   ]
  },
  {
   "cell_type": "code",
   "execution_count": 16,
   "id": "a087bc7a-8bed-49fa-bc61-4b9db2578ad0",
   "metadata": {
    "ExecuteTime": {
     "end_time": "2025-06-19T05:40:40.146533Z",
     "start_time": "2025-06-19T05:40:40.117336200Z"
    }
   },
   "outputs": [],
   "source": [
    "negative_profile = summarize_features(X_train_negative)"
   ]
  },
  {
   "cell_type": "code",
   "execution_count": 17,
   "id": "fee3e92e-5677-4f36-b381-056ae41424d6",
   "metadata": {
    "ExecuteTime": {
     "end_time": "2025-06-19T05:40:40.624502900Z",
     "start_time": "2025-06-19T05:40:40.566257800Z"
    }
   },
   "outputs": [],
   "source": [
    "#negative_profile"
   ]
  },
  {
   "cell_type": "code",
   "execution_count": 18,
   "id": "2b3ca6e9-ee82-4d07-ab4b-31511125b2b7",
   "metadata": {
    "ExecuteTime": {
     "end_time": "2025-06-19T05:40:41.169589100Z",
     "start_time": "2025-06-19T05:40:41.113748800Z"
    }
   },
   "outputs": [],
   "source": [
    "#p_statistical = extract_statistical_rules(X_train_positive, X_train_raw, num_quantiles=(0.1, 0.9), cat_threshold=0.85)\n",
    "p_statistical = extract_statistical_rules(X_train_positive, X_train_num, num_quantiles=(0.1, 0.9), cat_threshold=0.85)"
   ]
  },
  {
   "cell_type": "code",
   "execution_count": 19,
   "id": "db1de379-9a1b-48ad-88ea-88ccb03e722f",
   "metadata": {
    "ExecuteTime": {
     "end_time": "2025-06-19T05:40:41.407988600Z",
     "start_time": "2025-06-19T05:40:41.380060300Z"
    }
   },
   "outputs": [
    {
     "data": {
      "text/plain": [
       "{'Attribute2': (-1.235, 1.274),\n",
       " 'Attribute5': (-0.85, 1.224),\n",
       " 'Attribute8': (-1.727, 0.945),\n",
       " 'Attribute10': 'A101',\n",
       " 'Attribute11': (-1.66, 1.076),\n",
       " 'Attribute13': (-1.048, 1.419),\n",
       " 'Attribute16': (-0.725, 1.074),\n",
       " 'Attribute18': (-0.434, 2.304)}"
      ]
     },
     "execution_count": 19,
     "metadata": {},
     "output_type": "execute_result"
    }
   ],
   "source": [
    "p_statistical"
   ]
  },
  {
   "cell_type": "code",
   "execution_count": 20,
   "id": "55616b42-b8c0-49fc-926d-e87fb3b0f0a1",
   "metadata": {
    "ExecuteTime": {
     "end_time": "2025-06-19T05:40:42.560079200Z",
     "start_time": "2025-06-19T05:40:41.629233100Z"
    }
   },
   "outputs": [],
   "source": [
    "p_permutation_imp_top_features = top_features(clf, X_train, y_train, n_repeats=5, random_state=42)"
   ]
  },
  {
   "cell_type": "code",
   "execution_count": 21,
   "id": "88950e73-c3f4-461d-8857-4907ed7655ad",
   "metadata": {
    "ExecuteTime": {
     "end_time": "2025-06-19T05:40:42.577036900Z",
     "start_time": "2025-06-19T05:40:42.562074Z"
    }
   },
   "outputs": [
    {
     "data": {
      "text/plain": [
       "['Attribute1_A14',\n",
       " 'Attribute9_A93',\n",
       " 'Attribute6_A65',\n",
       " 'Attribute2',\n",
       " 'Attribute12_A124',\n",
       " 'Attribute3_A34',\n",
       " 'Attribute8',\n",
       " 'Attribute15_A153',\n",
       " 'Attribute14_A143',\n",
       " 'Attribute7_A74',\n",
       " 'Attribute15_A152',\n",
       " 'Attribute1_A12',\n",
       " 'Attribute5']"
      ]
     },
     "execution_count": 21,
     "metadata": {},
     "output_type": "execute_result"
    }
   ],
   "source": [
    "p_permutation_imp_top_features"
   ]
  },
  {
   "cell_type": "code",
   "execution_count": 22,
   "id": "f2f55a90-6c3b-4682-aa33-b66bd488dffe",
   "metadata": {
    "ExecuteTime": {
     "end_time": "2025-06-19T05:40:42.635398700Z",
     "start_time": "2025-06-19T05:40:42.577036900Z"
    }
   },
   "outputs": [],
   "source": [
    "p = combined_features(p_permutation_imp_top_features,p_statistical)"
   ]
  },
  {
   "cell_type": "code",
   "execution_count": 23,
   "id": "29c103e4-f8d4-4948-9c17-74f4bbc26fd3",
   "metadata": {
    "ExecuteTime": {
     "end_time": "2025-06-19T05:40:42.827774200Z",
     "start_time": "2025-06-19T05:40:42.798013900Z"
    }
   },
   "outputs": [
    {
     "data": {
      "text/plain": [
       "{'Attribute2': (-1.235, 1.274),\n",
       " 'Attribute5': (-0.85, 1.224),\n",
       " 'Attribute8': (-1.727, 0.945),\n",
       " 'Attribute10': 'A101',\n",
       " 'Attribute11': (-1.66, 1.076),\n",
       " 'Attribute13': (-1.048, 1.419),\n",
       " 'Attribute16': (-0.725, 1.074),\n",
       " 'Attribute18': (-0.434, 2.304),\n",
       " 'Attribute1': 'A14',\n",
       " 'Attribute9': 'A93',\n",
       " 'Attribute6': 'A65',\n",
       " 'Attribute12': 'A124',\n",
       " 'Attribute3': 'A34',\n",
       " 'Attribute15': 'A153',\n",
       " 'Attribute14': 'A143',\n",
       " 'Attribute7': 'A74'}"
      ]
     },
     "execution_count": 23,
     "metadata": {},
     "output_type": "execute_result"
    }
   ],
   "source": [
    "p"
   ]
  },
  {
   "cell_type": "code",
   "execution_count": 24,
   "id": "787dbf01d98d5f46",
   "metadata": {
    "ExecuteTime": {
     "end_time": "2025-06-19T05:40:43.195787200Z",
     "start_time": "2025-06-19T05:40:43.163867200Z"
    },
    "collapsed": false,
    "jupyter": {
     "outputs_hidden": false
    }
   },
   "outputs": [
    {
     "name": "stdout",
     "output_type": "stream",
     "text": [
      "{'Attribute2': (-1.235, 1.274), 'Attribute5': (-0.85, 1.224), 'Attribute8': (-1.727, 0.945), 'Attribute11': (-1.66, 1.076), 'Attribute13': (-1.048, 1.419), 'Attribute16': (-0.725, 1.074), 'Attribute18': (-0.434, 2.304)}\n",
      "{'Attribute10': 'A101', 'Attribute1': 'A14', 'Attribute9': 'A93', 'Attribute6': 'A65', 'Attribute12': 'A124', 'Attribute3': 'A34', 'Attribute15': 'A153', 'Attribute14': 'A143', 'Attribute7': 'A74'}\n"
     ]
    }
   ],
   "source": [
    "p_num = {key: value for key, value in p.items() if isinstance(value, tuple)}\n",
    "p_cat = {key: value for key, value in p.items() if isinstance(value, str)}\n",
    "print(p_num)\n",
    "print(p_cat)"
   ]
  },
  {
   "cell_type": "markdown",
   "id": "4e215b55b761b30",
   "metadata": {
    "collapsed": false,
    "jupyter": {
     "outputs_hidden": false
    }
   },
   "source": [
    "### Final outputs of Input section of pipeline\n",
    "For experimentation, here are some values"
   ]
  },
  {
   "cell_type": "code",
   "execution_count": 25,
   "id": "9b1b269b4baa0a36",
   "metadata": {
    "ExecuteTime": {
     "end_time": "2025-06-19T05:40:45.057837Z",
     "start_time": "2025-06-19T05:40:45.034898800Z"
    },
    "collapsed": false,
    "jupyter": {
     "outputs_hidden": false
    }
   },
   "outputs": [
    {
     "name": "stdout",
     "output_type": "stream",
     "text": [
      "[2]\n"
     ]
    }
   ],
   "source": [
    "from src.utilities.desired_space import desired_space\n",
    "X_test_negative = X_test[y_test==2]\n",
    "x= X_test_negative[0:1] #test instance #select first row as dataFrame\n",
    "print(clf.predict(x))\n",
    "p_num = p_num\n",
    "p_cat = p_cat\n",
    "#p= {\n",
    "    #'Attribute5':(0, 1) #credit amount #I put a normalized amount here\n",
    "#}#perturbation map\n",
    "#desired_space= desired_space(2, datasetdf) #all the feature vectors with output=2 #not preprocessed! Potential issue from authors!\n",
    "#print(datasetdf.head())\n",
    "desired_space = desired_space(1,datasetdf) #did preprocessing also to datasetdf\n",
    "#print(X_train.head())\n",
    "#print(desired_space.head())\n",
    "cat_f= X_train.select_dtypes(include=['bool']) #categorical features\n",
    "#print(cat_f)\n",
    "num_f= X_train.select_dtypes(include=['int64', 'float64']) #numerical features\n",
    "#print(num_f)\n",
    "protect_f= ['Attribute9_A92'  'Attribute9_A93'  'Attribute9_A94', 'Attribute5'] # Personal status and sex (X_train.head() shows only 3 values (columns) while there are 5) #protected features\n",
    "features= X_train.columns #all features\n",
    "t= 1 #desired outcome\n",
    "f= clf #black-box model for which we want to find CF\n",
    "X= X_train #training data\n",
    "step = {attribute:0.01 for attribute in p_num.keys()}\n",
    "#step= {\n",
    "#    'Attribute5': 0.01 #credit amount steps #tiny amount bc of normalized feature values\n",
    "#} #dictionary holding the feature distribution to be used for single feature perturbation method"
   ]
  },
  {
   "cell_type": "markdown",
   "id": "9983ef057eba0ccc",
   "metadata": {
    "collapsed": false,
    "jupyter": {
     "outputs_hidden": false
    }
   },
   "source": [
    "### Derived variables"
   ]
  },
  {
   "cell_type": "code",
   "execution_count": 26,
   "id": "9d2da55c55f250c",
   "metadata": {
    "ExecuteTime": {
     "end_time": "2025-06-19T05:40:56.529066500Z",
     "start_time": "2025-06-19T05:40:56.505130600Z"
    },
    "collapsed": false,
    "jupyter": {
     "outputs_hidden": false
    }
   },
   "outputs": [],
   "source": [
    "f2change = p.keys()"
   ]
  },
  {
   "cell_type": "markdown",
   "id": "9758b29e7bd34451",
   "metadata": {
    "collapsed": false,
    "jupyter": {
     "outputs_hidden": false
    }
   },
   "source": [
    "# UFCE"
   ]
  },
  {
   "cell_type": "markdown",
   "id": "41299d099707094c",
   "metadata": {
    "collapsed": false,
    "jupyter": {
     "outputs_hidden": false
    }
   },
   "source": [
    "### Feature Selection: Mutual Information (MI)"
   ]
  },
  {
   "cell_type": "code",
   "execution_count": 27,
   "id": "376a7dd21385f19",
   "metadata": {
    "ExecuteTime": {
     "end_time": "2025-06-19T05:41:05.622240400Z",
     "start_time": "2025-06-19T05:40:58.363252800Z"
    },
    "collapsed": false,
    "jupyter": {
     "outputs_hidden": false
    }
   },
   "outputs": [
    {
     "name": "stdout",
     "output_type": "stream",
     "text": [
      "[('Attribute2', 'Attribute5'), ('Attribute2', 'Attribute8'), ('Attribute2', 'Attribute11'), ('Attribute2', 'Attribute13'), ('Attribute2', 'Attribute16')]\n",
      "[('Attribute9_A92', 'Attribute9_A93'), ('Attribute2', 'Attribute5'), ('Attribute17_A172', 'Attribute17_A173'), ('Attribute12_A124', 'Attribute15_A153'), ('Attribute3_A32', 'Attribute3_A34')]\n"
     ]
    }
   ],
   "source": [
    "from itertools import combinations\n",
    "from src.utilities.mutual_information import mi_score\n",
    "from src.utilities.mutual_information import MI\n",
    "feature_pairs = list(combinations(list(features), 2))\n",
    "print(feature_pairs[:5])\n",
    "mi_list = MI(feature_pairs, X_train) #used all features available #original authors do over entire X but it is not preprocessed... Which i think is nessecary? #also works for bool one-hot encoding \n",
    "# top 5 \n",
    "print(mi_list[:5])"
   ]
  },
  {
   "cell_type": "markdown",
   "id": "7a272e99ef8ff9c3",
   "metadata": {
    "collapsed": false,
    "jupyter": {
     "outputs_hidden": false
    }
   },
   "source": [
    "### Nearest Neighbour: KD Tree"
   ]
  },
  {
   "cell_type": "code",
   "execution_count": 28,
   "id": "b4c4047d73dd6a63",
   "metadata": {
    "ExecuteTime": {
     "end_time": "2025-06-19T05:41:05.661128400Z",
     "start_time": "2025-06-19T05:41:05.625227600Z"
    },
    "collapsed": false,
    "jupyter": {
     "outputs_hidden": false
    }
   },
   "outputs": [],
   "source": [
    "from src.utilities.nearest_neighbours import FNN\n",
    "nn = FNN(desired_space,x,3.5) #radius arbitrarily set; can experiment with how close we want it to be to x #3.5 for euclidean distance is around 0.5 for each of the 48 features difference from x, get 3 datapoints\n",
    "#print(nn)"
   ]
  },
  {
   "cell_type": "markdown",
   "id": "7013718b32951529",
   "metadata": {
    "collapsed": false,
    "jupyter": {
     "outputs_hidden": false
    }
   },
   "source": [
    "### Subspace: Intervals"
   ]
  },
  {
   "cell_type": "code",
   "execution_count": 29,
   "id": "7ee11217697a1d5e",
   "metadata": {
    "ExecuteTime": {
     "end_time": "2025-06-19T05:41:05.686062400Z",
     "start_time": "2025-06-19T05:41:05.655144800Z"
    },
    "collapsed": false,
    "jupyter": {
     "outputs_hidden": false
    }
   },
   "outputs": [],
   "source": [
    "from src.utilities.nearest_neighbours import intervals\n",
    "from src.utilities.nearest_neighbours import intervals2\n",
    "#subspace = intervals(nn,p,f2change,x) \n",
    "subspace = intervals2(nn,p_num,p_cat,f2change,x)\n",
    "#print(subspace) #correct output"
   ]
  },
  {
   "cell_type": "markdown",
   "id": "eded4ffc95046bcc",
   "metadata": {
    "collapsed": false,
    "jupyter": {
     "outputs_hidden": false
    }
   },
   "source": [
    "### CF Generator: Single Feature"
   ]
  },
  {
   "cell_type": "code",
   "execution_count": 30,
   "id": "5f0746b9d12f073a",
   "metadata": {
    "ExecuteTime": {
     "end_time": "2025-06-19T05:41:06.003879200Z",
     "start_time": "2025-06-19T05:41:05.673098600Z"
    },
    "collapsed": false,
    "jupyter": {
     "outputs_hidden": false
    }
   },
   "outputs": [
    {
     "name": "stdout",
     "output_type": "stream",
     "text": [
      "     Attribute2  Attribute5  Attribute8  Attribute11  Attribute13  \\\n",
      "677    4.285632     0.89566   -0.835976    -0.747967    -1.047717   \n",
      "\n",
      "     Attribute16  Attribute18  Attribute1_A12  Attribute1_A13  Attribute1_A14  \\\n",
      "677    -0.724565    -0.434114               0               0            True   \n",
      "\n",
      "     ...  Attribute12_A124  Attribute14_A142  Attribute14_A143  \\\n",
      "677  ...             False             False              True   \n",
      "\n",
      "     Attribute15_A152  Attribute15_A153  Attribute17_A172  Attribute17_A173  \\\n",
      "677              True             False             False              True   \n",
      "\n",
      "     Attribute17_A174  Attribute19_A192  Attribute20_A202  \n",
      "677             False             False             False  \n",
      "\n",
      "[1 rows x 48 columns]\n"
     ]
    }
   ],
   "source": [
    "from src.utilities.UFCE import SF\n",
    "#cf = SF(x,X,cat_f,p,f,t,step)\n",
    "cf = SF(x,X_train,p_num,p_cat,f,t,step) # changed from X_train_raw to X_train\n",
    "print(cf)"
   ]
  },
  {
   "cell_type": "markdown",
   "id": "449a678f6b893368",
   "metadata": {
    "collapsed": false,
    "jupyter": {
     "outputs_hidden": false
    }
   },
   "source": [
    "### CF Generator: Double Features"
   ]
  },
  {
   "cell_type": "code",
   "execution_count": 31,
   "id": "7baa603987ab0804",
   "metadata": {
    "ExecuteTime": {
     "end_time": "2025-06-19T05:41:17.888934900Z",
     "start_time": "2025-06-19T05:41:17.218468900Z"
    },
    "collapsed": false,
    "jupyter": {
     "outputs_hidden": false
    }
   },
   "outputs": [],
   "source": [
    "from src.utilities.UFCE import DF\n",
    "z = DF(datasetdf,x,X_train,subspace,mi_list,cat_f,num_f,features,protect_f,f,t)"
   ]
  },
  {
   "cell_type": "code",
   "execution_count": 32,
   "id": "50eb78ff-1200-45ec-81a8-8ae294926539",
   "metadata": {
    "ExecuteTime": {
     "end_time": "2025-06-19T05:41:19.541362300Z",
     "start_time": "2025-06-19T05:41:19.475430Z"
    }
   },
   "outputs": [],
   "source": [
    "# print(\"original: \")\n",
    "# print(x)\n",
    "# print(\"counterfactual: \")\n",
    "# print(z)"
   ]
  },
  {
   "cell_type": "code",
   "execution_count": 33,
   "id": "e08bb118-039a-4965-8b2e-a0a1b2771825",
   "metadata": {},
   "outputs": [],
   "source": [
    "unique_cf_signatures = set()\n",
    "unique_counterfactuals = []\n",
    "\n",
    "for cf in z:\n",
    "    # Align columns\n",
    "    common_cols = x.columns.intersection(cf.columns)\n",
    "    x_common = x[common_cols]\n",
    "    cf_common = cf[common_cols]\n",
    "    \n",
    "    # Find differences\n",
    "    differences = (x_common != cf_common).iloc[0]\n",
    "    \n",
    "    # Represent difference as a tuple of (feature, original_val, cf_val)\n",
    "    diff_signature = tuple(\n",
    "        (col, x[col].values[0], cf[col].values[0])\n",
    "        for col in common_cols[differences]\n",
    "    )\n",
    "    \n",
    "    # Add only if this signature is new\n",
    "    if diff_signature not in unique_cf_signatures:\n",
    "        unique_cf_signatures.add(diff_signature)\n",
    "        unique_counterfactuals.append(cf)\n"
   ]
  },
  {
   "cell_type": "code",
   "execution_count": 34,
   "id": "d01aad27-94a2-44f0-af3c-8083eb2cab51",
   "metadata": {},
   "outputs": [
    {
     "name": "stdout",
     "output_type": "stream",
     "text": [
      "Comparing original instance with counterfactuals:\n",
      "\n",
      "--- Counterfactual 1 ---\n",
      "[1]\n",
      "Attribute2: original = 4.285632296481258, counterfactual = 1.77\n",
      "Attribute11: original = -0.7479667044950186, counterfactual = -0.6313244709548823\n"
     ]
    }
   ],
   "source": [
    "print(\"Comparing original instance with counterfactuals:\")\n",
    "\n",
    "for i, cf in enumerate(unique_counterfactuals):\n",
    "    print(f\"\\n--- Counterfactual {i+1} ---\")\n",
    "    print(clf.predict(cf))\n",
    "    \n",
    "    # Find common columns\n",
    "    common_cols = x.columns.intersection(cf.columns)\n",
    "    x_common = x[common_cols]\n",
    "    cf_common = cf[common_cols]\n",
    "    \n",
    "    # Compare\n",
    "    differences = (x_common != cf_common).iloc[0]\n",
    "    \n",
    "    if differences.any():\n",
    "        for col in common_cols[differences]:\n",
    "            print(f\"{col}: original = {x[col].values[0]}, counterfactual = {cf[col].values[0]}\")\n",
    "    else:\n",
    "        print(\"No differences from original.\")\n"
   ]
  },
  {
   "cell_type": "markdown",
   "id": "f335da9b-2fdd-46ae-90b8-f7dd32a150cd",
   "metadata": {},
   "source": [
    "### Evaluation"
   ]
  },
  {
   "cell_type": "code",
   "execution_count": 35,
   "id": "9844dc6f-f342-431a-b23e-372e100784e6",
   "metadata": {},
   "outputs": [
    {
     "data": {
      "text/html": [
       "<div>\n",
       "<style scoped>\n",
       "    .dataframe tbody tr th:only-of-type {\n",
       "        vertical-align: middle;\n",
       "    }\n",
       "\n",
       "    .dataframe tbody tr th {\n",
       "        vertical-align: top;\n",
       "    }\n",
       "\n",
       "    .dataframe thead th {\n",
       "        text-align: right;\n",
       "    }\n",
       "</style>\n",
       "<table border=\"1\" class=\"dataframe\">\n",
       "  <thead>\n",
       "    <tr style=\"text-align: right;\">\n",
       "      <th></th>\n",
       "      <th>Attribute1</th>\n",
       "      <th>Attribute2</th>\n",
       "      <th>Attribute3</th>\n",
       "      <th>Attribute4</th>\n",
       "      <th>Attribute5</th>\n",
       "      <th>Attribute6</th>\n",
       "      <th>Attribute7</th>\n",
       "      <th>Attribute8</th>\n",
       "      <th>Attribute9</th>\n",
       "      <th>Attribute10</th>\n",
       "      <th>Attribute11</th>\n",
       "      <th>Attribute12</th>\n",
       "      <th>Attribute13</th>\n",
       "      <th>Attribute14</th>\n",
       "      <th>Attribute15</th>\n",
       "      <th>Attribute16</th>\n",
       "      <th>Attribute17</th>\n",
       "      <th>Attribute18</th>\n",
       "      <th>Attribute19</th>\n",
       "      <th>Attribute20</th>\n",
       "    </tr>\n",
       "  </thead>\n",
       "  <tbody>\n",
       "    <tr>\n",
       "      <th>10</th>\n",
       "      <td>A12</td>\n",
       "      <td>-0.733512</td>\n",
       "      <td>A32</td>\n",
       "      <td>A40</td>\n",
       "      <td>-0.713001</td>\n",
       "      <td>A61</td>\n",
       "      <td>A72</td>\n",
       "      <td>0.054714</td>\n",
       "      <td>A92</td>\n",
       "      <td>A101</td>\n",
       "      <td>-1.660121</td>\n",
       "      <td>A123</td>\n",
       "      <td>-0.956361</td>\n",
       "      <td>A143</td>\n",
       "      <td>A151</td>\n",
       "      <td>-0.724565</td>\n",
       "      <td>A173</td>\n",
       "      <td>-0.434114</td>\n",
       "      <td>A191</td>\n",
       "      <td>A201</td>\n",
       "    </tr>\n",
       "    <tr>\n",
       "      <th>827</th>\n",
       "      <td>A14</td>\n",
       "      <td>-0.231598</td>\n",
       "      <td>A30</td>\n",
       "      <td>A49</td>\n",
       "      <td>0.360687</td>\n",
       "      <td>A61</td>\n",
       "      <td>A73</td>\n",
       "      <td>-0.835976</td>\n",
       "      <td>A93</td>\n",
       "      <td>A101</td>\n",
       "      <td>-0.747967</td>\n",
       "      <td>A123</td>\n",
       "      <td>0.048549</td>\n",
       "      <td>A142</td>\n",
       "      <td>A152</td>\n",
       "      <td>1.074000</td>\n",
       "      <td>A173</td>\n",
       "      <td>2.303542</td>\n",
       "      <td>A191</td>\n",
       "      <td>A201</td>\n",
       "    </tr>\n",
       "    <tr>\n",
       "      <th>812</th>\n",
       "      <td>A11</td>\n",
       "      <td>1.274146</td>\n",
       "      <td>A34</td>\n",
       "      <td>A41</td>\n",
       "      <td>2.404809</td>\n",
       "      <td>A61</td>\n",
       "      <td>A74</td>\n",
       "      <td>0.945404</td>\n",
       "      <td>A93</td>\n",
       "      <td>A101</td>\n",
       "      <td>1.076342</td>\n",
       "      <td>A123</td>\n",
       "      <td>-1.047717</td>\n",
       "      <td>A143</td>\n",
       "      <td>A152</td>\n",
       "      <td>1.074000</td>\n",
       "      <td>A173</td>\n",
       "      <td>-0.434114</td>\n",
       "      <td>A192</td>\n",
       "      <td>A201</td>\n",
       "    </tr>\n",
       "    <tr>\n",
       "      <th>414</th>\n",
       "      <td>A11</td>\n",
       "      <td>0.270317</td>\n",
       "      <td>A32</td>\n",
       "      <td>A40</td>\n",
       "      <td>-0.680828</td>\n",
       "      <td>A65</td>\n",
       "      <td>A73</td>\n",
       "      <td>0.945404</td>\n",
       "      <td>A92</td>\n",
       "      <td>A101</td>\n",
       "      <td>-0.747967</td>\n",
       "      <td>A122</td>\n",
       "      <td>-0.042807</td>\n",
       "      <td>A143</td>\n",
       "      <td>A152</td>\n",
       "      <td>-0.724565</td>\n",
       "      <td>A173</td>\n",
       "      <td>-0.434114</td>\n",
       "      <td>A191</td>\n",
       "      <td>A201</td>\n",
       "    </tr>\n",
       "    <tr>\n",
       "      <th>983</th>\n",
       "      <td>A11</td>\n",
       "      <td>1.274146</td>\n",
       "      <td>A32</td>\n",
       "      <td>A41</td>\n",
       "      <td>1.881059</td>\n",
       "      <td>A61</td>\n",
       "      <td>A73</td>\n",
       "      <td>-0.835976</td>\n",
       "      <td>A93</td>\n",
       "      <td>A101</td>\n",
       "      <td>-0.747967</td>\n",
       "      <td>A122</td>\n",
       "      <td>-0.865006</td>\n",
       "      <td>A143</td>\n",
       "      <td>A152</td>\n",
       "      <td>-0.724565</td>\n",
       "      <td>A173</td>\n",
       "      <td>2.303542</td>\n",
       "      <td>A191</td>\n",
       "      <td>A201</td>\n",
       "    </tr>\n",
       "    <tr>\n",
       "      <th>...</th>\n",
       "      <td>...</td>\n",
       "      <td>...</td>\n",
       "      <td>...</td>\n",
       "      <td>...</td>\n",
       "      <td>...</td>\n",
       "      <td>...</td>\n",
       "      <td>...</td>\n",
       "      <td>...</td>\n",
       "      <td>...</td>\n",
       "      <td>...</td>\n",
       "      <td>...</td>\n",
       "      <td>...</td>\n",
       "      <td>...</td>\n",
       "      <td>...</td>\n",
       "      <td>...</td>\n",
       "      <td>...</td>\n",
       "      <td>...</td>\n",
       "      <td>...</td>\n",
       "      <td>...</td>\n",
       "      <td>...</td>\n",
       "    </tr>\n",
       "    <tr>\n",
       "      <th>963</th>\n",
       "      <td>A14</td>\n",
       "      <td>0.270317</td>\n",
       "      <td>A32</td>\n",
       "      <td>A43</td>\n",
       "      <td>-0.300735</td>\n",
       "      <td>A63</td>\n",
       "      <td>A75</td>\n",
       "      <td>0.054714</td>\n",
       "      <td>A93</td>\n",
       "      <td>A101</td>\n",
       "      <td>-0.747967</td>\n",
       "      <td>A123</td>\n",
       "      <td>-0.042807</td>\n",
       "      <td>A141</td>\n",
       "      <td>A152</td>\n",
       "      <td>1.074000</td>\n",
       "      <td>A173</td>\n",
       "      <td>-0.434114</td>\n",
       "      <td>A192</td>\n",
       "      <td>A201</td>\n",
       "    </tr>\n",
       "    <tr>\n",
       "      <th>648</th>\n",
       "      <td>A13</td>\n",
       "      <td>0.270317</td>\n",
       "      <td>A32</td>\n",
       "      <td>A40</td>\n",
       "      <td>-0.843190</td>\n",
       "      <td>A61</td>\n",
       "      <td>A74</td>\n",
       "      <td>0.945404</td>\n",
       "      <td>A93</td>\n",
       "      <td>A101</td>\n",
       "      <td>0.164188</td>\n",
       "      <td>A124</td>\n",
       "      <td>0.231260</td>\n",
       "      <td>A141</td>\n",
       "      <td>A153</td>\n",
       "      <td>-0.724565</td>\n",
       "      <td>A173</td>\n",
       "      <td>2.303542</td>\n",
       "      <td>A191</td>\n",
       "      <td>A201</td>\n",
       "    </tr>\n",
       "    <tr>\n",
       "      <th>131</th>\n",
       "      <td>A11</td>\n",
       "      <td>1.274146</td>\n",
       "      <td>A33</td>\n",
       "      <td>A46</td>\n",
       "      <td>1.379007</td>\n",
       "      <td>A61</td>\n",
       "      <td>A73</td>\n",
       "      <td>0.945404</td>\n",
       "      <td>A93</td>\n",
       "      <td>A101</td>\n",
       "      <td>0.164188</td>\n",
       "      <td>A122</td>\n",
       "      <td>-0.590939</td>\n",
       "      <td>A142</td>\n",
       "      <td>A152</td>\n",
       "      <td>-0.724565</td>\n",
       "      <td>A173</td>\n",
       "      <td>-0.434114</td>\n",
       "      <td>A192</td>\n",
       "      <td>A201</td>\n",
       "    </tr>\n",
       "    <tr>\n",
       "      <th>603</th>\n",
       "      <td>A14</td>\n",
       "      <td>1.274146</td>\n",
       "      <td>A32</td>\n",
       "      <td>A42</td>\n",
       "      <td>0.055415</td>\n",
       "      <td>A61</td>\n",
       "      <td>A73</td>\n",
       "      <td>0.945404</td>\n",
       "      <td>A92</td>\n",
       "      <td>A101</td>\n",
       "      <td>-0.747967</td>\n",
       "      <td>A123</td>\n",
       "      <td>-0.682295</td>\n",
       "      <td>A143</td>\n",
       "      <td>A152</td>\n",
       "      <td>-0.724565</td>\n",
       "      <td>A174</td>\n",
       "      <td>-0.434114</td>\n",
       "      <td>A192</td>\n",
       "      <td>A201</td>\n",
       "    </tr>\n",
       "    <tr>\n",
       "      <th>759</th>\n",
       "      <td>A11</td>\n",
       "      <td>-0.733512</td>\n",
       "      <td>A34</td>\n",
       "      <td>A40</td>\n",
       "      <td>-0.938961</td>\n",
       "      <td>A61</td>\n",
       "      <td>A75</td>\n",
       "      <td>0.945404</td>\n",
       "      <td>A93</td>\n",
       "      <td>A101</td>\n",
       "      <td>0.164188</td>\n",
       "      <td>A122</td>\n",
       "      <td>-0.042807</td>\n",
       "      <td>A143</td>\n",
       "      <td>A152</td>\n",
       "      <td>1.074000</td>\n",
       "      <td>A173</td>\n",
       "      <td>-0.434114</td>\n",
       "      <td>A191</td>\n",
       "      <td>A201</td>\n",
       "    </tr>\n",
       "  </tbody>\n",
       "</table>\n",
       "<p>210 rows × 20 columns</p>\n",
       "</div>"
      ],
      "text/plain": [
       "    Attribute1  Attribute2 Attribute3 Attribute4  Attribute5 Attribute6  \\\n",
       "10         A12   -0.733512        A32        A40   -0.713001        A61   \n",
       "827        A14   -0.231598        A30        A49    0.360687        A61   \n",
       "812        A11    1.274146        A34        A41    2.404809        A61   \n",
       "414        A11    0.270317        A32        A40   -0.680828        A65   \n",
       "983        A11    1.274146        A32        A41    1.881059        A61   \n",
       "..         ...         ...        ...        ...         ...        ...   \n",
       "963        A14    0.270317        A32        A43   -0.300735        A63   \n",
       "648        A13    0.270317        A32        A40   -0.843190        A61   \n",
       "131        A11    1.274146        A33        A46    1.379007        A61   \n",
       "603        A14    1.274146        A32        A42    0.055415        A61   \n",
       "759        A11   -0.733512        A34        A40   -0.938961        A61   \n",
       "\n",
       "    Attribute7  Attribute8 Attribute9 Attribute10  Attribute11 Attribute12  \\\n",
       "10         A72    0.054714        A92        A101    -1.660121        A123   \n",
       "827        A73   -0.835976        A93        A101    -0.747967        A123   \n",
       "812        A74    0.945404        A93        A101     1.076342        A123   \n",
       "414        A73    0.945404        A92        A101    -0.747967        A122   \n",
       "983        A73   -0.835976        A93        A101    -0.747967        A122   \n",
       "..         ...         ...        ...         ...          ...         ...   \n",
       "963        A75    0.054714        A93        A101    -0.747967        A123   \n",
       "648        A74    0.945404        A93        A101     0.164188        A124   \n",
       "131        A73    0.945404        A93        A101     0.164188        A122   \n",
       "603        A73    0.945404        A92        A101    -0.747967        A123   \n",
       "759        A75    0.945404        A93        A101     0.164188        A122   \n",
       "\n",
       "     Attribute13 Attribute14 Attribute15  Attribute16 Attribute17  \\\n",
       "10     -0.956361        A143        A151    -0.724565        A173   \n",
       "827     0.048549        A142        A152     1.074000        A173   \n",
       "812    -1.047717        A143        A152     1.074000        A173   \n",
       "414    -0.042807        A143        A152    -0.724565        A173   \n",
       "983    -0.865006        A143        A152    -0.724565        A173   \n",
       "..           ...         ...         ...          ...         ...   \n",
       "963    -0.042807        A141        A152     1.074000        A173   \n",
       "648     0.231260        A141        A153    -0.724565        A173   \n",
       "131    -0.590939        A142        A152    -0.724565        A173   \n",
       "603    -0.682295        A143        A152    -0.724565        A174   \n",
       "759    -0.042807        A143        A152     1.074000        A173   \n",
       "\n",
       "     Attribute18 Attribute19 Attribute20  \n",
       "10     -0.434114        A191        A201  \n",
       "827     2.303542        A191        A201  \n",
       "812    -0.434114        A192        A201  \n",
       "414    -0.434114        A191        A201  \n",
       "983     2.303542        A191        A201  \n",
       "..           ...         ...         ...  \n",
       "963    -0.434114        A192        A201  \n",
       "648     2.303542        A191        A201  \n",
       "131    -0.434114        A192        A201  \n",
       "603    -0.434114        A192        A201  \n",
       "759    -0.434114        A191        A201  \n",
       "\n",
       "[210 rows x 20 columns]"
      ]
     },
     "execution_count": 35,
     "metadata": {},
     "output_type": "execute_result"
    }
   ],
   "source": [
    "X_train_negative"
   ]
  },
  {
   "cell_type": "code",
   "execution_count": 36,
   "id": "f9845d42-e88c-4bd4-85eb-a077ab802ecd",
   "metadata": {},
   "outputs": [],
   "source": [
    "from src.evaluation.metrics import *"
   ]
  },
  {
   "cell_type": "code",
   "execution_count": 37,
   "id": "3c2617a0-e20f-4ef7-bea5-98ec9e587cf9",
   "metadata": {},
   "outputs": [
    {
     "name": "stdout",
     "output_type": "stream",
     "text": [
      "Evaluation for SF done for:  677\n",
      "Evaluation for SF done for:  235\n",
      "Evaluation for SF done for:  375\n",
      "Empty CF for:  602\n",
      "Empty CF for:  739\n",
      "Evaluation for SF done for:  840\n",
      "Evaluation for SF done for:  722\n",
      "Evaluation for SF done for:  510\n",
      "Evaluation for SF done for:  301\n",
      "Evaluation for SF done for:  796\n",
      "Evaluation for SF done for:  578\n",
      "Evaluation for SF done for:  188\n",
      "Evaluation for SF done for:  900\n",
      "Evaluation for SF done for:  548\n",
      "Evaluation for SF done for:  751\n",
      "Evaluation for SF done for:  598\n",
      "Empty CF for:  332\n",
      "Evaluation for SF done for:  614\n",
      "Empty CF for:  11\n",
      "Evaluation for SF done for:  915\n",
      "Evaluation for SF done for:  790\n",
      "Evaluation for SF done for:  129\n",
      "Evaluation for SF done for:  182\n",
      "Evaluation for SF done for:  368\n",
      "Evaluation for SF done for:  116\n",
      "Evaluation for SF done for:  435\n",
      "Evaluation for SF done for:  199\n",
      "Evaluation for SF done for:  948\n",
      "Evaluation for SF done for:  308\n",
      "Evaluation for SF done for:  953\n",
      "Evaluation for SF done for:  228\n",
      "Evaluation for SF done for:  291\n",
      "Evaluation for SF done for:  475\n",
      "Evaluation for SF done for:  846\n",
      "Evaluation for SF done for:  633\n",
      "Evaluation for SF done for:  192\n",
      "Evaluation for SF done for:  353\n",
      "Evaluation for SF done for:  668\n",
      "Evaluation for SF done for:  570\n",
      "Evaluation for SF done for:  13\n",
      "Evaluation for SF done for:  853\n",
      "Evaluation for SF done for:  257\n",
      "Evaluation for SF done for:  761\n",
      "Evaluation for SF done for:  118\n",
      "Empty CF for:  938\n",
      "Evaluation for SF done for:  766\n",
      "Evaluation for SF done for:  563\n",
      "Evaluation for SF done for:  268\n",
      "Evaluation for SF done for:  931\n",
      "Evaluation for SF done for:  917\n",
      "Evaluation for SF done for:  528\n",
      "Evaluation for SF done for:  885\n",
      "Evaluation for SF done for:  412\n",
      "Evaluation for SF done for:  653\n",
      "Evaluation for SF done for:  273\n",
      "Evaluation for SF done for:  634\n",
      "Evaluation for SF done for:  166\n",
      "Evaluation for SF done for:  966\n",
      "Evaluation for SF done for:  542\n",
      "Evaluation for SF done for:  302\n",
      "Evaluation for SF done for:  194\n",
      "Evaluation for SF done for:  1\n",
      "Evaluation for SF done for:  355\n",
      "Evaluation for SF done for:  378\n",
      "Evaluation for SF done for:  831\n",
      "Evaluation for SF done for:  155\n",
      "Evaluation for SF done for:  337\n",
      "Empty CF for:  788\n",
      "Evaluation for SF done for:  191\n",
      "Evaluation for SF done for:  236\n",
      "Evaluation for SF done for:  89\n",
      "Evaluation for SF done for:  724\n",
      "Evaluation for SF done for:  594\n",
      "Evaluation for SF done for:  431\n",
      "Evaluation for SF done for:  998\n",
      "Evaluation for SF done for:  842\n",
      "Evaluation for SF done for:  190\n",
      "Evaluation for SF done for:  858\n",
      "Evaluation for SF done for:  936\n",
      "Evaluation for SF done for:  503\n",
      "Evaluation for SF done for:  805\n",
      "Evaluation for SF done for:  755\n",
      "Empty CF for:  522\n",
      "Evaluation for SF done for:  763\n",
      "Empty CF for:  832\n",
      "Evaluation for SF done for:  887\n",
      "Evaluation for SF done for:  289\n",
      "Evaluation for SF done for:  304\n",
      "Evaluation for SF done for:  485\n",
      "Evaluation for SF done for:  647\n"
     ]
    }
   ],
   "source": [
    "actionable_features = X_test_negative[0:1].columns\n",
    "feasibility_score = proximity_score_num = proximity_score_cat = sparsity_score = 0.0\n",
    "cf_counter_SF = 0\n",
    "for idx, row in X_test_negative.iterrows():\n",
    "    x = row.to_frame().T\n",
    "    nn = FNN(desired_space,x,3.5)\n",
    "    subspace = intervals2(nn,p_num,p_cat,f2change,x)\n",
    "    cf_SF = SF(x,X_train,p_num,p_cat,f,t,step)\n",
    "    if(len(cf_SF)!=0):\n",
    "        compute_feasibility(x, cf_SF, actionable_features, clf, 1, X_train,0.5)\n",
    "        if compute_feasibility(x, cf_SF, actionable_features, clf, 1, X_train,0.5):\n",
    "            feasibility_score = feasibility_score + 1\n",
    "        \n",
    "        sparsity_score = sparsity_score + compute_sparsity(x, cf_SF)\n",
    "        cat_cols = list(x.columns.difference(num_cols))\n",
    "        prox_num,prox_cat = compute_proximity(x, cf_SF, num_cols,cat_cols)\n",
    "        proximity_score_num = proximity_score_num + prox_num\n",
    "        proximity_score_cat = proximity_score_cat + prox_cat\n",
    "        print(\"Evaluation for SF done for: \",idx)\n",
    "        cf_counter_SF += 1\n",
    "    else:\n",
    "        print(\"Empty CF for: \",idx)"
   ]
  },
  {
   "cell_type": "code",
   "execution_count": 38,
   "id": "431b0cdf-deca-4acc-a744-ba30187f0a87",
   "metadata": {},
   "outputs": [
    {
     "name": "stdout",
     "output_type": "stream",
     "text": [
      "45.0\n",
      "0.0\n",
      "74.895202020202\n",
      "1.3333333333333335\n"
     ]
    }
   ],
   "source": [
    "print(feasibility_score)\n",
    "print(proximity_score_num)\n",
    "print(proximity_score_cat)\n",
    "print(sparsity_score)"
   ]
  },
  {
   "cell_type": "code",
   "execution_count": 39,
   "id": "1461dfdf-26b9-493d-8099-ff12116c248b",
   "metadata": {},
   "outputs": [
    {
     "name": "stdout",
     "output_type": "stream",
     "text": [
      "0.5487804878048781\n"
     ]
    }
   ],
   "source": [
    "avg_feasibility = feasibility_score / cf_counter_SF\n",
    "print(avg_feasibility)"
   ]
  },
  {
   "cell_type": "code",
   "execution_count": 40,
   "id": "77d431ab-eb1e-453b-a726-0d0825d427b3",
   "metadata": {},
   "outputs": [
    {
     "name": "stdout",
     "output_type": "stream",
     "text": [
      "0.0\n"
     ]
    }
   ],
   "source": [
    "avg_proximity_num = proximity_score_num / cf_counter_SF\n",
    "print(avg_proximity_num)"
   ]
  },
  {
   "cell_type": "code",
   "execution_count": 41,
   "id": "cb89a8c7-d883-47e6-8b3d-7df0d831b52e",
   "metadata": {},
   "outputs": [
    {
     "name": "stdout",
     "output_type": "stream",
     "text": [
      "0.9133561221975854\n"
     ]
    }
   ],
   "source": [
    "avg_proximity_cat = proximity_score_cat / cf_counter_SF\n",
    "print(avg_proximity_cat)"
   ]
  },
  {
   "cell_type": "code",
   "execution_count": 42,
   "id": "fce9867c-223d-40f1-8ffa-172316bf1de2",
   "metadata": {},
   "outputs": [
    {
     "name": "stdout",
     "output_type": "stream",
     "text": [
      "0.016260162601626018\n"
     ]
    }
   ],
   "source": [
    "avg_sparsity = sparsity_score / cf_counter_SF\n",
    "print(avg_sparsity)"
   ]
  },
  {
   "cell_type": "code",
   "execution_count": 55,
   "id": "35382755-2892-42a0-9f0b-86aeb0e5b3df",
   "metadata": {},
   "outputs": [
    {
     "data": {
      "text/plain": [
       "82"
      ]
     },
     "execution_count": 55,
     "metadata": {},
     "output_type": "execute_result"
    }
   ],
   "source": [
    "cf_counter_SF"
   ]
  },
  {
   "cell_type": "code",
   "execution_count": 43,
   "id": "e8f68e67-6170-4732-9d35-6e6031525f0c",
   "metadata": {},
   "outputs": [
    {
     "name": "stdout",
     "output_type": "stream",
     "text": [
      "Best CF selected for:  677\n",
      "Best CF selected for:  235\n",
      "Best CF selected for:  375\n",
      "No valid CF found for:  602\n",
      "No valid CF found for:  739\n",
      "Best CF selected for:  840\n",
      "Best CF selected for:  722\n",
      "Best CF selected for:  510\n",
      "Best CF selected for:  301\n",
      "Best CF selected for:  796\n",
      "Best CF selected for:  578\n",
      "Best CF selected for:  188\n",
      "Best CF selected for:  900\n",
      "No valid CF found for:  548\n",
      "Best CF selected for:  751\n",
      "Best CF selected for:  598\n",
      "No valid CF found for:  332\n",
      "Best CF selected for:  614\n",
      "No valid CF found for:  11\n",
      "Best CF selected for:  915\n",
      "Best CF selected for:  790\n",
      "Best CF selected for:  129\n",
      "Best CF selected for:  182\n",
      "Best CF selected for:  368\n",
      "Best CF selected for:  116\n",
      "Best CF selected for:  435\n",
      "Best CF selected for:  199\n",
      "Best CF selected for:  948\n",
      "Best CF selected for:  308\n",
      "Best CF selected for:  953\n",
      "Best CF selected for:  228\n",
      "Best CF selected for:  291\n",
      "Best CF selected for:  475\n",
      "Best CF selected for:  846\n",
      "Best CF selected for:  633\n",
      "Best CF selected for:  192\n",
      "Best CF selected for:  353\n",
      "Best CF selected for:  668\n",
      "Best CF selected for:  570\n",
      "Best CF selected for:  13\n",
      "No valid CF found for:  853\n",
      "No valid CF found for:  257\n",
      "Best CF selected for:  761\n",
      "Best CF selected for:  118\n",
      "No valid CF found for:  938\n",
      "Best CF selected for:  766\n",
      "Best CF selected for:  563\n",
      "Best CF selected for:  268\n",
      "Best CF selected for:  931\n",
      "No valid CF found for:  917\n",
      "No valid CF found for:  528\n",
      "No valid CF found for:  885\n",
      "Best CF selected for:  412\n",
      "Best CF selected for:  653\n",
      "Best CF selected for:  273\n",
      "Best CF selected for:  634\n",
      "Best CF selected for:  166\n",
      "Best CF selected for:  966\n",
      "Best CF selected for:  542\n",
      "Best CF selected for:  302\n",
      "Best CF selected for:  194\n",
      "Best CF selected for:  1\n",
      "Best CF selected for:  355\n",
      "Best CF selected for:  378\n",
      "No valid CF found for:  831\n",
      "Best CF selected for:  155\n",
      "Best CF selected for:  337\n",
      "No valid CF found for:  788\n",
      "Best CF selected for:  191\n",
      "Best CF selected for:  236\n",
      "Best CF selected for:  89\n",
      "Best CF selected for:  724\n",
      "Best CF selected for:  594\n",
      "Best CF selected for:  431\n",
      "Best CF selected for:  998\n",
      "Best CF selected for:  842\n",
      "Best CF selected for:  190\n",
      "Best CF selected for:  858\n",
      "Best CF selected for:  936\n",
      "Best CF selected for:  503\n",
      "Best CF selected for:  805\n",
      "Best CF selected for:  755\n",
      "No valid CF found for:  522\n",
      "Best CF selected for:  763\n",
      "No valid CF found for:  832\n",
      "No valid CF found for:  887\n",
      "Best CF selected for:  289\n",
      "Best CF selected for:  304\n",
      "Best CF selected for:  485\n",
      "Best CF selected for:  647\n"
     ]
    }
   ],
   "source": [
    "actionable_features = X_test_negative[0:1].columns\n",
    "feasibility_score_DF = proximity_score_num_DF = proximity_score_cat_DF = sparsity_score_DF = 0.0\n",
    "cf_counter_DF = 0\n",
    "for idx, row in X_test_negative.iterrows():\n",
    "    x = row.to_frame().T\n",
    "    nn = FNN(desired_space,x,3.5)\n",
    "    subspace = intervals2(nn,p_num,p_cat,f2change,x)\n",
    "\n",
    "    cf_DF = DF(datasetdf,x,X_train,subspace,mi_list,cat_f,num_f,features,protect_f,f,t)\n",
    "    unique_cf_signatures = set()\n",
    "    unique_counterfactuals = []\n",
    "    for cf in cf_DF:\n",
    "        # Align columns\n",
    "        common_cols = x.columns.intersection(cf.columns)\n",
    "        x_common = x[common_cols]\n",
    "        cf_common = cf[common_cols]\n",
    "        \n",
    "        # Find differences\n",
    "        differences = (x_common != cf_common).iloc[0]\n",
    "        \n",
    "        # Represent difference as a tuple of (feature, original_val, cf_val)\n",
    "        diff_signature = tuple(\n",
    "            (col, x[col].values[0], cf[col].values[0])\n",
    "            for col in common_cols[differences]\n",
    "        )\n",
    "        \n",
    "        # Add only if this signature is new\n",
    "        if diff_signature not in unique_cf_signatures:\n",
    "            unique_cf_signatures.add(diff_signature)\n",
    "            unique_counterfactuals.append(cf)\n",
    "    best_cf = None\n",
    "    min_total_proximity = float('inf')\n",
    "    \n",
    "    for cf in unique_counterfactuals:\n",
    "        if len(cf) != 0:\n",
    "            # Compute proximity for current CF\n",
    "            cat_cols = list(x.columns.difference(num_cols))\n",
    "            prox_num, prox_cat = compute_proximity(x, cf, num_cols, cat_cols)\n",
    "            total_proximity = prox_num + prox_cat\n",
    "    \n",
    "            # Keep the CF with the lowest proximity\n",
    "            if total_proximity < min_total_proximity:\n",
    "                min_total_proximity = total_proximity\n",
    "                best_cf = cf\n",
    "        else:\n",
    "            print(\"Empty CF for: \", idx)\n",
    "    \n",
    "    # Evaluate only the best CF\n",
    "    if best_cf is not None:\n",
    "        print(\"Best CF selected for: \", idx)\n",
    "    \n",
    "        # Feasibility\n",
    "        if compute_feasibility(x, best_cf, actionable_features, clf, 1, X_train, 0.5):\n",
    "            feasibility_score_DF += 1\n",
    "    \n",
    "        # Sparsity\n",
    "        sparsity_score_DF += compute_sparsity(x, best_cf)\n",
    "    \n",
    "        # Proximity\n",
    "        prox_num, prox_cat = compute_proximity(x, best_cf, num_cols, cat_cols)\n",
    "        proximity_score_num_DF += prox_num\n",
    "        proximity_score_cat_DF += prox_cat\n",
    "    \n",
    "        cf_counter_DF += 1\n",
    "    else:\n",
    "        print(\"No valid CF found for: \", idx)\n",
    "\n",
    "    # for cf in unique_counterfactuals:\n",
    "    #     if(len(cf)!=0):\n",
    "    #         compute_feasibility(x, cf, actionable_features, clf, 1, X_train,0.5)\n",
    "    #         if compute_feasibility(x, cf, actionable_features, clf, 1, X_train,0.5):\n",
    "    #             feasibility_score_DF = feasibility_score_DF + 1\n",
    "            \n",
    "    #         sparsity_score_DF = sparsity_score_DF + compute_sparsity(x, cf)\n",
    "    #         cat_cols = list(x.columns.difference(num_cols))\n",
    "    #         prox_num,prox_cat = compute_proximity(x, cf, num_cols,cat_cols)\n",
    "    #         proximity_score_num_DF = proximity_score_num_DF + prox_num\n",
    "    #         proximity_score_cat_DF = proximity_score_cat_DF + prox_cat\n",
    "    #         print(\"Evaluation for DF done for: \",idx)\n",
    "    #         cf_counter_DF += 1\n",
    "    #     else:\n",
    "    #         print(\"Empty CF for: \",idx)\n",
    "    "
   ]
  },
  {
   "cell_type": "code",
   "execution_count": 44,
   "id": "34188a73-d3fa-4620-8e36-35701a159fb9",
   "metadata": {},
   "outputs": [
    {
     "name": "stdout",
     "output_type": "stream",
     "text": [
      "74.0\n",
      "62.65160637524668\n",
      "74.0\n",
      "3.083333333333331\n"
     ]
    }
   ],
   "source": [
    "print(feasibility_score_DF)\n",
    "print(proximity_score_num_DF)\n",
    "print(proximity_score_cat_DF)\n",
    "print(sparsity_score_DF)"
   ]
  },
  {
   "cell_type": "code",
   "execution_count": 45,
   "id": "c6a2f985-a76f-4943-bee1-7356c826f240",
   "metadata": {},
   "outputs": [
    {
     "name": "stdout",
     "output_type": "stream",
     "text": [
      "1.0\n"
     ]
    }
   ],
   "source": [
    "avg_feasibilit_DF = feasibility_score_DF / cf_counter_DF\n",
    "print(avg_feasibilit_DF)"
   ]
  },
  {
   "cell_type": "code",
   "execution_count": 46,
   "id": "51a23f5a-8819-45d6-be17-86eac7eb6f45",
   "metadata": {},
   "outputs": [
    {
     "name": "stdout",
     "output_type": "stream",
     "text": [
      "0.8466433293952254\n"
     ]
    }
   ],
   "source": [
    "avg_proximity_num_DF = proximity_score_num_DF / cf_counter_DF\n",
    "print(avg_proximity_num_DF)"
   ]
  },
  {
   "cell_type": "code",
   "execution_count": 47,
   "id": "930e40a0-f0ea-441f-858e-da9beb28193c",
   "metadata": {},
   "outputs": [
    {
     "name": "stdout",
     "output_type": "stream",
     "text": [
      "1.0\n"
     ]
    }
   ],
   "source": [
    "avg_proximity_cat_DF = proximity_score_cat_DF / cf_counter_DF\n",
    "print(avg_proximity_cat_DF)"
   ]
  },
  {
   "cell_type": "code",
   "execution_count": 48,
   "id": "29f1ef16-36ee-48fe-87e8-541a67857793",
   "metadata": {},
   "outputs": [
    {
     "name": "stdout",
     "output_type": "stream",
     "text": [
      "0.04166666666666663\n"
     ]
    }
   ],
   "source": [
    "avg_sparsity_DF = sparsity_score_DF / cf_counter_DF\n",
    "print(avg_sparsity_DF)"
   ]
  },
  {
   "cell_type": "code",
   "execution_count": 49,
   "id": "2f521c59-60b3-4e58-ab33-6aba5e645d9d",
   "metadata": {},
   "outputs": [
    {
     "data": {
      "text/plain": [
       "74"
      ]
     },
     "execution_count": 49,
     "metadata": {},
     "output_type": "execute_result"
    }
   ],
   "source": [
    "cf_counter_DF"
   ]
  },
  {
   "cell_type": "code",
   "execution_count": 50,
   "id": "33482ab3-bb65-42b7-af50-7f5923c3b659",
   "metadata": {},
   "outputs": [],
   "source": [
    "cf_feasibility = {}\n",
    "cf_sparsity = {}\n",
    "cf_proximity_num = {}\n",
    "cf_proximity_cat = {}\n",
    "\n",
    "x = X_test_negative[5:6]\n",
    "nn = FNN(desired_space,x,3.5)\n",
    "subspace = intervals2(nn,p_num,p_cat,f2change,x)\n",
    "cf_DF = DF(datasetdf,x,X_train,subspace,mi_list,cat_f,num_f,features,protect_f,f,t)\n",
    "unique_cf_signatures = set()\n",
    "unique_counterfactuals = []\n",
    "for cf in cf_DF:\n",
    "    # Align columns\n",
    "    common_cols = x.columns.intersection(cf.columns)\n",
    "    x_common = x[common_cols]\n",
    "    cf_common = cf[common_cols]\n",
    "    \n",
    "    # Find differences\n",
    "    differences = (x_common != cf_common).iloc[0]\n",
    "    \n",
    "    # Represent difference as a tuple of (feature, original_val, cf_val)\n",
    "    diff_signature = tuple(\n",
    "        (col, x[col].values[0], cf[col].values[0])\n",
    "        for col in common_cols[differences]\n",
    "    )\n",
    "    \n",
    "    # Add only if this signature is new\n",
    "    if diff_signature not in unique_cf_signatures:\n",
    "        unique_cf_signatures.add(diff_signature)\n",
    "        unique_counterfactuals.append(cf)\n",
    "for idx, cf in enumerate(unique_counterfactuals):\n",
    "    if(len(cf)!=0):\n",
    "        compute_feasibility(x, cf, actionable_features, clf, 1, X_train,0.5)\n",
    "        if compute_feasibility(x, cf, actionable_features, clf, 1, X_train,0.5):\n",
    "            cf_feasibility[idx] = 1\n",
    "        else:\n",
    "            cf_feasibility[idx] = 0\n",
    "        cf_sparsity[idx] = compute_sparsity(x, cf)\n",
    "        cat_cols = list(x.columns.difference(num_cols))\n",
    "        prox_num,prox_cat = compute_proximity(x, cf, num_cols,cat_cols)\n",
    "        cf_proximity_num[idx] = prox_num\n",
    "        cf_proximity_cat[idx] = prox_cat"
   ]
  },
  {
   "cell_type": "code",
   "execution_count": 51,
   "id": "d849e138-a9b4-4b99-a1e7-7c636a9b6fdf",
   "metadata": {},
   "outputs": [
    {
     "data": {
      "text/plain": [
       "{0: 1, 1: 1, 2: 1, 3: 1, 4: 1, 5: 1}"
      ]
     },
     "execution_count": 51,
     "metadata": {},
     "output_type": "execute_result"
    }
   ],
   "source": [
    "cf_feasibility"
   ]
  },
  {
   "cell_type": "code",
   "execution_count": 52,
   "id": "979e2cd7-0e7f-4ae8-976b-cc095c9cbf1a",
   "metadata": {},
   "outputs": [
    {
     "data": {
      "text/plain": [
       "{0: 0.041666666666666664,\n",
       " 1: 0.041666666666666664,\n",
       " 2: 0.041666666666666664,\n",
       " 3: 0.041666666666666664,\n",
       " 4: 0.041666666666666664,\n",
       " 5: 0.041666666666666664}"
      ]
     },
     "execution_count": 52,
     "metadata": {},
     "output_type": "execute_result"
    }
   ],
   "source": [
    "cf_sparsity"
   ]
  },
  {
   "cell_type": "code",
   "execution_count": 53,
   "id": "c69c3458-d69e-4b2d-be74-7e081aac3a01",
   "metadata": {},
   "outputs": [
    {
     "data": {
      "text/plain": [
       "{0: 0.4407686454671224,\n",
       " 1: 0.28461785049109867,\n",
       " 2: 1.6881257846340842,\n",
       " 3: 1.1013971093891854,\n",
       " 4: 1.3470552276506973,\n",
       " 5: 0.8058118189121207}"
      ]
     },
     "execution_count": 53,
     "metadata": {},
     "output_type": "execute_result"
    }
   ],
   "source": [
    "cf_proximity_num"
   ]
  },
  {
   "cell_type": "code",
   "execution_count": 54,
   "id": "079d0b93-1bb6-45cd-9c7c-6fa076a8b225",
   "metadata": {},
   "outputs": [
    {
     "data": {
      "text/plain": [
       "{0: 1.0, 1: 1.0, 2: 1.0, 3: 1.0, 4: 1.0, 5: 1.0}"
      ]
     },
     "execution_count": 54,
     "metadata": {},
     "output_type": "execute_result"
    }
   ],
   "source": [
    "cf_proximity_cat"
   ]
  },
  {
   "cell_type": "code",
   "execution_count": null,
   "id": "5e962e72-1fe5-4a12-be78-a1a45097bb0a",
   "metadata": {},
   "outputs": [],
   "source": []
  }
 ],
 "metadata": {
  "kernelspec": {
   "display_name": "Python 3 (ipykernel)",
   "language": "python",
   "name": "python3"
  },
  "language_info": {
   "codemirror_mode": {
    "name": "ipython",
    "version": 3
   },
   "file_extension": ".py",
   "mimetype": "text/x-python",
   "name": "python",
   "nbconvert_exporter": "python",
   "pygments_lexer": "ipython3",
   "version": "3.11.5"
  }
 },
 "nbformat": 4,
 "nbformat_minor": 5
}
