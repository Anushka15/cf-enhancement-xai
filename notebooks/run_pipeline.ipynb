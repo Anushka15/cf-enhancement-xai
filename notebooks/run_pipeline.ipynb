{
 "cells": [
  {
   "cell_type": "markdown",
   "id": "586605b7f328c337",
   "metadata": {
    "collapsed": false
   },
   "source": [
    "# Load Data and preprocess"
   ]
  },
  {
   "cell_type": "code",
   "execution_count": 1,
   "id": "8e25f056-891b-40ef-ba16-e955922c5477",
   "metadata": {
    "ExecuteTime": {
     "end_time": "2025-06-14T17:49:14.528337200Z",
     "start_time": "2025-06-14T17:49:14.514854900Z"
    }
   },
   "outputs": [],
   "source": [
    "import sys\n",
    "import os\n",
    "sys.path.append(os.path.abspath(\"..\"))"
   ]
  },
  {
   "cell_type": "code",
   "execution_count": 13,
   "id": "d0e99e86-ce22-423a-8a34-12c7c03f5339",
   "metadata": {
    "ExecuteTime": {
     "end_time": "2025-06-14T17:48:32.346182100Z",
     "start_time": "2025-06-14T17:48:32.331220900Z"
    }
   },
   "outputs": [],
   "source": [
    "#pip install ucimlrepo"
   ]
  },
  {
   "cell_type": "code",
   "execution_count": 2,
   "id": "c6cdd5eb-74fb-4fd4-87ef-93be7dfc0df3",
   "metadata": {
    "ExecuteTime": {
     "end_time": "2025-06-14T17:49:23.571085700Z",
     "start_time": "2025-06-14T17:49:21.854735900Z"
    }
   },
   "outputs": [],
   "source": [
    "from src.data.load_data import load_input_data\n",
    "from src.data.load_data import preprocess_data"
   ]
  },
  {
   "cell_type": "code",
   "execution_count": 3,
   "id": "899deef0-4026-4c51-912e-a32781e12461",
   "metadata": {
    "ExecuteTime": {
     "end_time": "2025-06-14T17:49:28.476828300Z",
     "start_time": "2025-06-14T17:49:26.553361200Z"
    }
   },
   "outputs": [],
   "source": [
    "X_train, X_test, y_train, y_test, metadata, variables, datasetdf = load_input_data()"
   ]
  },
  {
   "cell_type": "code",
   "execution_count": 12,
   "id": "eb4c6e14-f419-4b4b-8a63-2902f9ac9a9b",
   "metadata": {
    "ExecuteTime": {
     "end_time": "2025-06-14T17:50:57.648661900Z",
     "start_time": "2025-06-14T17:50:57.576217700Z"
    }
   },
   "outputs": [
    {
     "name": "stdout",
     "output_type": "stream",
     "text": [
      "     Attribute2  Attribute5  Attribute8  Attribute11  Attribute13  \\\n",
      "10    -0.733512   -0.713001    0.054714    -1.660121    -0.956361   \n",
      "82    -0.231598   -0.610869    0.054714     1.076342    -1.047717   \n",
      "827   -0.231598    0.360687   -0.835976    -0.747967     0.048549   \n",
      "410    0.270317   -0.461601    0.945404     1.076342    -1.413139   \n",
      "48    -0.817165    1.506577   -1.726666     1.076342     0.322615   \n",
      "\n",
      "     Attribute16  Attribute18  Attribute1_A12  Attribute1_A13  Attribute1_A14  \\\n",
      "10     -0.724565    -0.434114               1               0               0   \n",
      "82     -0.724565    -0.434114               0               0               1   \n",
      "827     1.074000     2.303542               0               0               1   \n",
      "410    -0.724565    -0.434114               1               0               0   \n",
      "48      1.074000    -0.434114               0               0               1   \n",
      "\n",
      "     ...  Attribute12_A124  Attribute14_A142  Attribute14_A143  \\\n",
      "10   ...                 0                 0                 1   \n",
      "82   ...                 0                 0                 1   \n",
      "827  ...                 0                 1                 0   \n",
      "410  ...                 0                 0                 1   \n",
      "48   ...                 0                 0                 1   \n",
      "\n",
      "     Attribute15_A152  Attribute15_A153  Attribute17_A172  Attribute17_A173  \\\n",
      "10                  0                 0                 0                 1   \n",
      "82                  0                 0                 1                 0   \n",
      "827                 1                 0                 0                 1   \n",
      "410                 1                 0                 0                 1   \n",
      "48                  1                 0                 1                 0   \n",
      "\n",
      "     Attribute17_A174  Attribute19_A192  Attribute20_A202  \n",
      "10                  0                 0                 0  \n",
      "82                  0                 0                 0  \n",
      "827                 0                 0                 0  \n",
      "410                 0                 1                 0  \n",
      "48                  0                 0                 0  \n",
      "\n",
      "[5 rows x 48 columns]\n"
     ]
    }
   ],
   "source": [
    "import pandas as pd\n",
    "\n",
    "num_cols = ['Attribute2', 'Attribute5', 'Attribute8', 'Attribute11',\n",
    "            'Attribute13', 'Attribute16', 'Attribute18']\n",
    "\n",
    "X_train, X_test = preprocess_data(X_train, X_test, num_cols)\n",
    "#pd.set_option('display.max_columns', None)\n",
    "print(X_train.head())"
   ]
  },
  {
   "cell_type": "markdown",
   "id": "50dbbf3bf2583398",
   "metadata": {
    "collapsed": false
   },
   "source": [
    "# Train model"
   ]
  },
  {
   "cell_type": "code",
   "execution_count": 5,
   "id": "3e71f1f3-b0c1-4520-b88a-07026fb3ef99",
   "metadata": {
    "ExecuteTime": {
     "end_time": "2025-06-14T17:49:37.824429700Z",
     "start_time": "2025-06-14T17:49:37.554414800Z"
    }
   },
   "outputs": [],
   "source": [
    "from src.model.train_model import train_classifier"
   ]
  },
  {
   "cell_type": "code",
   "execution_count": 6,
   "id": "2ad76108-cf15-4385-aad8-e6ed059e5179",
   "metadata": {
    "ExecuteTime": {
     "end_time": "2025-06-14T17:49:41.995073Z",
     "start_time": "2025-06-14T17:49:41.766516600Z"
    }
   },
   "outputs": [],
   "source": [
    "clf = train_classifier(X_train,y_train,n_estimators=100, random_state=42)"
   ]
  },
  {
   "cell_type": "markdown",
   "id": "bc0adfeb-7e51-47f7-bb3a-dd80fa791fda",
   "metadata": {},
   "source": [
    "# Test model"
   ]
  },
  {
   "cell_type": "code",
   "execution_count": 7,
   "id": "59c52144-fa92-4457-8256-978a282d0a4e",
   "metadata": {
    "ExecuteTime": {
     "end_time": "2025-06-14T17:49:50.180574100Z",
     "start_time": "2025-06-14T17:49:50.157852400Z"
    }
   },
   "outputs": [],
   "source": [
    "from src.model.test_model import test_classifier_prediction"
   ]
  },
  {
   "cell_type": "code",
   "execution_count": 8,
   "id": "f5f1d8e1-2641-42e8-bdc9-8e1ee4f23ce0",
   "metadata": {
    "ExecuteTime": {
     "end_time": "2025-06-14T17:49:56.259967Z",
     "start_time": "2025-06-14T17:49:56.226830400Z"
    }
   },
   "outputs": [],
   "source": [
    "y_pred,classification_report,accuracy_score = test_classifier_prediction(clf,X_test,y_test)"
   ]
  },
  {
   "cell_type": "code",
   "execution_count": 9,
   "id": "41046582-e69a-41d0-9c59-c18b066f0aa2",
   "metadata": {
    "ExecuteTime": {
     "end_time": "2025-06-14T17:50:00.114925900Z",
     "start_time": "2025-06-14T17:50:00.098968900Z"
    }
   },
   "outputs": [
    {
     "name": "stdout",
     "output_type": "stream",
     "text": [
      "0.76\n"
     ]
    }
   ],
   "source": [
    "print(accuracy_score)"
   ]
  },
  {
   "cell_type": "code",
   "execution_count": 10,
   "id": "7aa4847a-dcde-4a5b-afd5-6b0b5fddc5c9",
   "metadata": {
    "ExecuteTime": {
     "end_time": "2025-06-14T17:50:04.780819300Z",
     "start_time": "2025-06-14T17:50:04.759841100Z"
    }
   },
   "outputs": [
    {
     "name": "stdout",
     "output_type": "stream",
     "text": [
      "              precision    recall  f1-score   support\n",
      "\n",
      "           1       0.76      0.95      0.85       210\n",
      "           2       0.74      0.31      0.44        90\n",
      "\n",
      "    accuracy                           0.76       300\n",
      "   macro avg       0.75      0.63      0.64       300\n",
      "weighted avg       0.76      0.76      0.72       300\n"
     ]
    }
   ],
   "source": [
    "print(classification_report)"
   ]
  },
  {
   "cell_type": "markdown",
   "id": "cb457f7e2dd2a0c5",
   "metadata": {
    "collapsed": false
   },
   "source": [
    "### User constraints / Ontology constraints"
   ]
  },
  {
   "cell_type": "code",
   "execution_count": 11,
   "id": "5ceced30b0483971",
   "metadata": {
    "collapsed": false,
    "ExecuteTime": {
     "end_time": "2025-06-14T17:50:13.275513700Z",
     "start_time": "2025-06-14T17:50:13.251546200Z"
    }
   },
   "outputs": [],
   "source": [
    "# Implement here\n"
   ]
  },
  {
   "cell_type": "markdown",
   "source": [
    "### Final outputs of Input section of pipeline\n",
    "For experimentation, here are some values"
   ],
   "metadata": {
    "collapsed": false
   },
   "id": "4e215b55b761b30"
  },
  {
   "cell_type": "code",
   "execution_count": 21,
   "outputs": [
    {
     "name": "stdout",
     "output_type": "stream",
     "text": [
      "Empty DataFrame\n",
      "Columns: []\n",
      "Index: [10, 82, 827, 410, 48, 997, 703, 812, 750, 350, 932, 930, 413, 414, 88, 494, 983, 637, 927, 397, 893, 256, 186, 67, 493, 154, 735, 462, 471, 986, 303, 402, 874, 913, 106, 7, 443, 684, 27, 9, 87, 525, 114, 398, 557, 836, 701, 349, 387, 458, 16, 403, 617, 206, 597, 783, 135, 623, 922, 839, 165, 518, 352, 240, 278, 869, 432, 469, 464, 474, 158, 688, 732, 467, 33, 962, 251, 577, 408, 546, 789, 928, 545, 784, 850, 476, 643, 62, 407, 250, 500, 606, 306, 780, 828, 666, 580, 59, 177, 243, ...]\n",
      "\n",
      "[700 rows x 0 columns]\n"
     ]
    }
   ],
   "source": [
    "from src.utilities.desired_space import desired_space\n",
    "x= X_test[0:1] #test instance #select first row as dataFrame\n",
    "p= {\n",
    "    'Attribute5':(0, 1) #credit amount #I put a normalized amount here\n",
    "}#perturbation map\n",
    "desired_space= desired_space(2, datasetdf) #all the feature vectors with output=2 #not preprocessed! Potential issue from authors!\n",
    "cat_f= X_train.select_dtypes(include=['bool']) #categorical features\n",
    "print(cat_f)\n",
    "num_f= X_train.select_dtypes(include=['int64', 'float64']) #numerical features\n",
    "protect_f= ['Attribute9_A92'  'Attribute9_A93'  'Attribute9_A94'] # Personal status and sex (X_train.head() shows only 3 values (columns) while there are 5) #protected features\n",
    "features= X_train.columns #all features\n",
    "t= 2 #desired outcome\n",
    "f= clf #black-box model for which we want to find CF\n",
    "X= X_train #training data\n",
    "step= {\n",
    "    'Attribute5': 10 #credit amount steps\n",
    "} #dictionary holding the feature distribution to be used for single feature perturbation method"
   ],
   "metadata": {
    "collapsed": false,
    "ExecuteTime": {
     "end_time": "2025-06-14T18:04:54.583469700Z",
     "start_time": "2025-06-14T18:04:54.509114600Z"
    }
   },
   "id": "9b1b269b4baa0a36"
  },
  {
   "cell_type": "markdown",
   "source": [
    "### Derived variables"
   ],
   "metadata": {
    "collapsed": false
   },
   "id": "9983ef057eba0ccc"
  },
  {
   "cell_type": "code",
   "execution_count": 18,
   "outputs": [],
   "source": [
    "f2change = p.keys()"
   ],
   "metadata": {
    "collapsed": false,
    "ExecuteTime": {
     "end_time": "2025-06-14T17:57:13.785934700Z",
     "start_time": "2025-06-14T17:57:13.746379600Z"
    }
   },
   "id": "9d2da55c55f250c"
  },
  {
   "cell_type": "markdown",
   "id": "9758b29e7bd34451",
   "metadata": {
    "collapsed": false
   },
   "source": [
    "# UFCE"
   ]
  },
  {
   "cell_type": "markdown",
   "id": "41299d099707094c",
   "metadata": {
    "collapsed": false
   },
   "source": [
    "### Feature Selection: Mutual Information (MI)"
   ]
  },
  {
   "cell_type": "code",
   "execution_count": 19,
   "id": "376a7dd21385f19",
   "metadata": {
    "collapsed": false,
    "ExecuteTime": {
     "end_time": "2025-06-14T17:58:08.045562100Z",
     "start_time": "2025-06-14T17:58:01.089603300Z"
    }
   },
   "outputs": [
    {
     "name": "stdout",
     "output_type": "stream",
     "text": [
      "[('Attribute2', 'Attribute5'), ('Attribute2', 'Attribute8'), ('Attribute2', 'Attribute11'), ('Attribute2', 'Attribute13'), ('Attribute2', 'Attribute16')]\n",
      "[('Attribute9_A92', 'Attribute9_A93'), ('Attribute2', 'Attribute5'), ('Attribute17_A172', 'Attribute17_A173'), ('Attribute12_A124', 'Attribute15_A153'), ('Attribute3_A32', 'Attribute3_A34')]\n"
     ]
    }
   ],
   "source": [
    "from itertools import combinations\n",
    "from src.utilities.mutual_information import mi_score\n",
    "from src.utilities.mutual_information import MI\n",
    "feature_pairs = list(combinations(list(features), 2))\n",
    "print(feature_pairs[:5])\n",
    "mi_list = MI(feature_pairs, X_train) #used all features available #original authors do over entire X but it is not preprocessed... Which i think is nessecary? \n",
    "# top 5 \n",
    "print(mi_list[:5])"
   ]
  },
  {
   "cell_type": "markdown",
   "id": "7a272e99ef8ff9c3",
   "metadata": {
    "collapsed": false
   },
   "source": [
    "### Nearest Neighbour: KD Tree"
   ]
  },
  {
   "cell_type": "code",
   "execution_count": 20,
   "id": "b4c4047d73dd6a63",
   "metadata": {
    "collapsed": false,
    "ExecuteTime": {
     "end_time": "2025-06-14T17:58:27.073860500Z",
     "start_time": "2025-06-14T17:58:26.995542Z"
    }
   },
   "outputs": [
    {
     "ename": "ValueError",
     "evalue": "could not convert string to float: 'A12'",
     "output_type": "error",
     "traceback": [
      "\u001B[1;31m---------------------------------------------------------------------------\u001B[0m",
      "\u001B[1;31mValueError\u001B[0m                                Traceback (most recent call last)",
      "Cell \u001B[1;32mIn[20], line 2\u001B[0m\n\u001B[0;32m      1\u001B[0m \u001B[38;5;28;01mfrom\u001B[39;00m\u001B[38;5;250m \u001B[39m\u001B[38;5;21;01msrc\u001B[39;00m\u001B[38;5;21;01m.\u001B[39;00m\u001B[38;5;21;01mutilities\u001B[39;00m\u001B[38;5;21;01m.\u001B[39;00m\u001B[38;5;21;01mnearest_neighbours\u001B[39;00m\u001B[38;5;250m \u001B[39m\u001B[38;5;28;01mimport\u001B[39;00m FNN\n\u001B[1;32m----> 2\u001B[0m nn \u001B[38;5;241m=\u001B[39m \u001B[43mFNN\u001B[49m\u001B[43m(\u001B[49m\u001B[43mdesired_space\u001B[49m\u001B[43m,\u001B[49m\u001B[43mx\u001B[49m\u001B[43m,\u001B[49m\u001B[38;5;241;43m50\u001B[39;49m\u001B[43m)\u001B[49m \u001B[38;5;66;03m#radius arbitrarily set; can experiment with how close we want it to be to x\u001B[39;00m\n",
      "File \u001B[1;32m~\\Desktop\\Python exercises code (target level)\\cf-enhancement-xai\\src\\utilities\\nearest_neighbours.py:12\u001B[0m, in \u001B[0;36mFNN\u001B[1;34m(desired_space, x, radius)\u001B[0m\n\u001B[0;32m      4\u001B[0m \u001B[38;5;28;01mdef\u001B[39;00m\u001B[38;5;250m \u001B[39m\u001B[38;5;21mFNN\u001B[39m(desired_space,x,radius):\n\u001B[0;32m      5\u001B[0m \u001B[38;5;250m    \u001B[39m\u001B[38;5;124;03m\"\"\"\u001B[39;00m\n\u001B[0;32m      6\u001B[0m \u001B[38;5;124;03m    Creates a KDTree object for finding the region for perturbations\u001B[39;00m\n\u001B[0;32m      7\u001B[0m \u001B[38;5;124;03m    param desired_space: the feature space to consider (a collection of feature vectors). It is a subset of the training data which contains only positive outcome-based data instances.\u001B[39;00m\n\u001B[1;32m   (...)\u001B[0m\n\u001B[0;32m     10\u001B[0m \u001B[38;5;124;03m    returns: the indices of the nearest neighbours found, these are possible perturbations, not the final ones, because MI is used for that as well.\u001B[39;00m\n\u001B[0;32m     11\u001B[0m \u001B[38;5;124;03m    \"\"\"\u001B[39;00m\n\u001B[1;32m---> 12\u001B[0m     tree \u001B[38;5;241m=\u001B[39m \u001B[43mKDTree\u001B[49m\u001B[43m(\u001B[49m\u001B[43mdesired_space\u001B[49m\u001B[43m)\u001B[49m\n\u001B[0;32m     13\u001B[0m     idx \u001B[38;5;241m=\u001B[39m tree\u001B[38;5;241m.\u001B[39mquery_ball_point(x,r\u001B[38;5;241m=\u001B[39mradius)\n\u001B[0;32m     14\u001B[0m     nn \u001B[38;5;241m=\u001B[39m tree\u001B[38;5;241m.\u001B[39mdata[idx]\n",
      "File \u001B[1;32m~\\Desktop\\Python exercises code (target level)\\venv\\lib\\site-packages\\scipy\\spatial\\_kdtree.py:360\u001B[0m, in \u001B[0;36mKDTree.__init__\u001B[1;34m(self, data, leafsize, compact_nodes, copy_data, balanced_tree, boxsize)\u001B[0m\n\u001B[0;32m    357\u001B[0m     \u001B[38;5;28;01mraise\u001B[39;00m \u001B[38;5;167;01mTypeError\u001B[39;00m(\u001B[38;5;124m\"\u001B[39m\u001B[38;5;124mKDTree does not work with complex data\u001B[39m\u001B[38;5;124m\"\u001B[39m)\n\u001B[0;32m    359\u001B[0m \u001B[38;5;66;03m# Note KDTree has different default leafsize from cKDTree\u001B[39;00m\n\u001B[1;32m--> 360\u001B[0m \u001B[38;5;28;43msuper\u001B[39;49m\u001B[43m(\u001B[49m\u001B[43m)\u001B[49m\u001B[38;5;241;43m.\u001B[39;49m\u001B[38;5;21;43m__init__\u001B[39;49m\u001B[43m(\u001B[49m\u001B[43mdata\u001B[49m\u001B[43m,\u001B[49m\u001B[43m \u001B[49m\u001B[43mleafsize\u001B[49m\u001B[43m,\u001B[49m\u001B[43m \u001B[49m\u001B[43mcompact_nodes\u001B[49m\u001B[43m,\u001B[49m\u001B[43m \u001B[49m\u001B[43mcopy_data\u001B[49m\u001B[43m,\u001B[49m\n\u001B[0;32m    361\u001B[0m \u001B[43m                 \u001B[49m\u001B[43mbalanced_tree\u001B[49m\u001B[43m,\u001B[49m\u001B[43m \u001B[49m\u001B[43mboxsize\u001B[49m\u001B[43m)\u001B[49m\n",
      "File \u001B[1;32m_ckdtree.pyx:557\u001B[0m, in \u001B[0;36mscipy.spatial._ckdtree.cKDTree.__init__\u001B[1;34m()\u001B[0m\n",
      "\u001B[1;31mValueError\u001B[0m: could not convert string to float: 'A12'"
     ]
    }
   ],
   "source": [
    "from src.utilities.nearest_neighbours import FNN\n",
    "nn = FNN(desired_space,x,50) #radius arbitrarily set; can experiment with how close we want it to be to x"
   ]
  },
  {
   "cell_type": "markdown",
   "source": [
    "### Subspace: Intervals"
   ],
   "metadata": {
    "collapsed": false
   },
   "id": "7013718b32951529"
  },
  {
   "cell_type": "code",
   "execution_count": null,
   "outputs": [],
   "source": [
    "from src.utilities.nearest_neighbours import intervals\n",
    "subspace = intervals(nn,p,f2change,x)"
   ],
   "metadata": {
    "collapsed": false
   },
   "id": "7ee11217697a1d5e"
  },
  {
   "cell_type": "markdown",
   "source": [
    "### CF Generator: Single Feature"
   ],
   "metadata": {
    "collapsed": false
   },
   "id": "eded4ffc95046bcc"
  },
  {
   "cell_type": "code",
   "execution_count": null,
   "outputs": [],
   "source": [
    "from src.utilities.UFCE import SF\n",
    "z = SF(x,X,cat_f,p,f,t,step)"
   ],
   "metadata": {
    "collapsed": false
   },
   "id": "5f0746b9d12f073a"
  },
  {
   "cell_type": "markdown",
   "source": [
    "### CF Generator: Double Features"
   ],
   "metadata": {
    "collapsed": false
   },
   "id": "449a678f6b893368"
  },
  {
   "cell_type": "code",
   "execution_count": null,
   "outputs": [],
   "source": [
    "from src.utilities.UFCE import DF\n",
    "z = DF(X,x,subspace,mi_list,cat_f,num_f,features,protect_f,f,t)"
   ],
   "metadata": {
    "collapsed": false
   },
   "id": "7baa603987ab0804"
  }
 ],
 "metadata": {
  "kernelspec": {
   "display_name": "Python 3 (ipykernel)",
   "language": "python",
   "name": "python3"
  },
  "language_info": {
   "codemirror_mode": {
    "name": "ipython",
    "version": 3
   },
   "file_extension": ".py",
   "mimetype": "text/x-python",
   "name": "python",
   "nbconvert_exporter": "python",
   "pygments_lexer": "ipython3",
   "version": "3.11.5"
  }
 },
 "nbformat": 4,
 "nbformat_minor": 5
}
