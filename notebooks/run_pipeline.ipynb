{
 "cells": [
  {
   "cell_type": "markdown",
   "id": "586605b7f328c337",
   "metadata": {
    "collapsed": false
   },
   "source": [
    "# Load Data and preprocess"
   ]
  },
  {
   "cell_type": "code",
   "execution_count": 1,
   "id": "8e25f056-891b-40ef-ba16-e955922c5477",
   "metadata": {
    "ExecuteTime": {
     "end_time": "2025-06-14T19:33:32.696294100Z",
     "start_time": "2025-06-14T19:33:32.682328900Z"
    }
   },
   "outputs": [],
   "source": [
    "import sys\n",
    "import os\n",
    "sys.path.append(os.path.abspath(\"..\"))"
   ]
  },
  {
   "cell_type": "code",
   "execution_count": 2,
   "id": "d0e99e86-ce22-423a-8a34-12c7c03f5339",
   "metadata": {
    "ExecuteTime": {
     "end_time": "2025-06-14T19:33:33.393986200Z",
     "start_time": "2025-06-14T19:33:33.374970300Z"
    }
   },
   "outputs": [],
   "source": [
    "#pip install ucimlrepo"
   ]
  },
  {
   "cell_type": "code",
   "execution_count": 3,
   "id": "c6cdd5eb-74fb-4fd4-87ef-93be7dfc0df3",
   "metadata": {
    "ExecuteTime": {
     "end_time": "2025-06-14T19:33:35.432939400Z",
     "start_time": "2025-06-14T19:33:33.893405100Z"
    }
   },
   "outputs": [],
   "source": [
    "from src.data.load_data import load_input_data\n",
    "from src.data.load_data import preprocess_data"
   ]
  },
  {
   "cell_type": "code",
   "execution_count": 4,
   "id": "899deef0-4026-4c51-912e-a32781e12461",
   "metadata": {
    "ExecuteTime": {
     "end_time": "2025-06-14T19:33:37.189927600Z",
     "start_time": "2025-06-14T19:33:35.435929500Z"
    }
   },
   "outputs": [],
   "source": [
    "X_train, X_test, y_train, y_test, metadata, variables, datasetdf = load_input_data()"
   ]
  },
  {
   "cell_type": "code",
   "execution_count": 5,
   "id": "eb4c6e14-f419-4b4b-8a63-2902f9ac9a9b",
   "metadata": {
    "ExecuteTime": {
     "end_time": "2025-06-14T19:33:37.226466200Z",
     "start_time": "2025-06-14T19:33:37.166991900Z"
    }
   },
   "outputs": [],
   "source": [
    "import pandas as pd\n",
    "\n",
    "num_cols = ['Attribute2', 'Attribute5', 'Attribute8', 'Attribute11',\n",
    "            'Attribute13', 'Attribute16', 'Attribute18']\n",
    "\n",
    "X_train, X_test, datasetdf = preprocess_data(X_train, X_test, datasetdf, num_cols)\n",
    "#pd.set_option('display.max_columns', None)\n",
    "#print(X_train.head())"
   ]
  },
  {
   "cell_type": "markdown",
   "id": "50dbbf3bf2583398",
   "metadata": {
    "collapsed": false
   },
   "source": [
    "# Train model"
   ]
  },
  {
   "cell_type": "code",
   "execution_count": 6,
   "id": "3e71f1f3-b0c1-4520-b88a-07026fb3ef99",
   "metadata": {
    "ExecuteTime": {
     "end_time": "2025-06-14T19:33:38.278642600Z",
     "start_time": "2025-06-14T19:33:38.128518900Z"
    }
   },
   "outputs": [],
   "source": [
    "from src.model.train_model import train_classifier"
   ]
  },
  {
   "cell_type": "code",
   "execution_count": 7,
   "id": "2ad76108-cf15-4385-aad8-e6ed059e5179",
   "metadata": {
    "ExecuteTime": {
     "end_time": "2025-06-14T19:33:39.118529800Z",
     "start_time": "2025-06-14T19:33:38.749893600Z"
    }
   },
   "outputs": [],
   "source": [
    "clf = train_classifier(X_train,y_train,n_estimators=100, random_state=42)"
   ]
  },
  {
   "cell_type": "markdown",
   "id": "bc0adfeb-7e51-47f7-bb3a-dd80fa791fda",
   "metadata": {},
   "source": [
    "# Test model"
   ]
  },
  {
   "cell_type": "code",
   "execution_count": 8,
   "id": "59c52144-fa92-4457-8256-978a282d0a4e",
   "metadata": {
    "ExecuteTime": {
     "end_time": "2025-06-14T19:33:39.677732800Z",
     "start_time": "2025-06-14T19:33:39.653795800Z"
    }
   },
   "outputs": [],
   "source": [
    "from src.model.test_model import test_classifier_prediction"
   ]
  },
  {
   "cell_type": "code",
   "execution_count": 9,
   "id": "f5f1d8e1-2641-42e8-bdc9-8e1ee4f23ce0",
   "metadata": {
    "ExecuteTime": {
     "end_time": "2025-06-14T19:33:40.101288500Z",
     "start_time": "2025-06-14T19:33:40.054407100Z"
    }
   },
   "outputs": [],
   "source": [
    "y_pred,classification_report,accuracy_score = test_classifier_prediction(clf,X_test,y_test)"
   ]
  },
  {
   "cell_type": "code",
   "execution_count": 10,
   "id": "41046582-e69a-41d0-9c59-c18b066f0aa2",
   "metadata": {
    "ExecuteTime": {
     "end_time": "2025-06-14T19:33:40.466491600Z",
     "start_time": "2025-06-14T19:33:40.437572800Z"
    }
   },
   "outputs": [
    {
     "name": "stdout",
     "output_type": "stream",
     "text": [
      "0.76\n"
     ]
    }
   ],
   "source": [
    "print(accuracy_score)"
   ]
  },
  {
   "cell_type": "code",
   "execution_count": 11,
   "id": "7aa4847a-dcde-4a5b-afd5-6b0b5fddc5c9",
   "metadata": {
    "ExecuteTime": {
     "end_time": "2025-06-14T19:33:40.978205900Z",
     "start_time": "2025-06-14T19:33:40.950278100Z"
    }
   },
   "outputs": [
    {
     "name": "stdout",
     "output_type": "stream",
     "text": [
      "              precision    recall  f1-score   support\n",
      "\n",
      "           1       0.76      0.95      0.85       210\n",
      "           2       0.74      0.31      0.44        90\n",
      "\n",
      "    accuracy                           0.76       300\n",
      "   macro avg       0.75      0.63      0.64       300\n",
      "weighted avg       0.76      0.76      0.72       300\n"
     ]
    }
   ],
   "source": [
    "print(classification_report)"
   ]
  },
  {
   "cell_type": "markdown",
   "id": "cb457f7e2dd2a0c5",
   "metadata": {
    "collapsed": false
   },
   "source": [
    "### User constraints / Ontology constraints"
   ]
  },
  {
   "cell_type": "code",
   "execution_count": 12,
   "id": "5ceced30b0483971",
   "metadata": {
    "collapsed": false,
    "ExecuteTime": {
     "end_time": "2025-06-14T19:33:41.925753400Z",
     "start_time": "2025-06-14T19:33:41.903743500Z"
    }
   },
   "outputs": [],
   "source": [
    "# Implement here\n"
   ]
  },
  {
   "cell_type": "markdown",
   "source": [
    "### Final outputs of Input section of pipeline\n",
    "For experimentation, here are some values"
   ],
   "metadata": {
    "collapsed": false
   },
   "id": "4e215b55b761b30"
  },
  {
   "cell_type": "code",
   "execution_count": 13,
   "outputs": [],
   "source": [
    "from src.utilities.desired_space import desired_space\n",
    "x= X_test[0:1] #test instance #select first row as dataFrame\n",
    "p= {\n",
    "    'Attribute5':(0, 1) #credit amount #I put a normalized amount here\n",
    "}#perturbation map\n",
    "#desired_space= desired_space(2, datasetdf) #all the feature vectors with output=2 #not preprocessed! Potential issue from authors!\n",
    "#print(datasetdf.head())\n",
    "desired_space = desired_space(2,datasetdf) #did preprocessing also to datasetdf\n",
    "#print(X_train.head())\n",
    "#print(desired_space.head())\n",
    "cat_f= X_train.select_dtypes(include=['bool']) #categorical features\n",
    "#print(cat_f)\n",
    "num_f= X_train.select_dtypes(include=['int64', 'float64']) #numerical features\n",
    "#print(num_f)\n",
    "protect_f= ['Attribute9_A92'  'Attribute9_A93'  'Attribute9_A94'] # Personal status and sex (X_train.head() shows only 3 values (columns) while there are 5) #protected features\n",
    "features= X_train.columns #all features\n",
    "t= 2 #desired outcome\n",
    "f= clf #black-box model for which we want to find CF\n",
    "X= X_train #training data\n",
    "step= {\n",
    "    'Attribute5': 0.01 #credit amount steps #tiny amount bc of normalized feature values\n",
    "} #dictionary holding the feature distribution to be used for single feature perturbation method"
   ],
   "metadata": {
    "collapsed": false,
    "ExecuteTime": {
     "end_time": "2025-06-14T19:33:43.024713Z",
     "start_time": "2025-06-14T19:33:42.930848300Z"
    }
   },
   "id": "9b1b269b4baa0a36"
  },
  {
   "cell_type": "markdown",
   "source": [
    "### Derived variables"
   ],
   "metadata": {
    "collapsed": false
   },
   "id": "9983ef057eba0ccc"
  },
  {
   "cell_type": "code",
   "execution_count": 14,
   "outputs": [],
   "source": [
    "f2change = p.keys()"
   ],
   "metadata": {
    "collapsed": false,
    "ExecuteTime": {
     "end_time": "2025-06-14T19:33:44.236714600Z",
     "start_time": "2025-06-14T19:33:44.210272400Z"
    }
   },
   "id": "9d2da55c55f250c"
  },
  {
   "cell_type": "markdown",
   "id": "9758b29e7bd34451",
   "metadata": {
    "collapsed": false
   },
   "source": [
    "# UFCE"
   ]
  },
  {
   "cell_type": "markdown",
   "id": "41299d099707094c",
   "metadata": {
    "collapsed": false
   },
   "source": [
    "### Feature Selection: Mutual Information (MI)"
   ]
  },
  {
   "cell_type": "code",
   "execution_count": 15,
   "id": "376a7dd21385f19",
   "metadata": {
    "collapsed": false,
    "ExecuteTime": {
     "end_time": "2025-06-14T19:33:53.363302800Z",
     "start_time": "2025-06-14T19:33:45.945886300Z"
    }
   },
   "outputs": [
    {
     "name": "stdout",
     "output_type": "stream",
     "text": [
      "[('Attribute2', 'Attribute5'), ('Attribute2', 'Attribute8'), ('Attribute2', 'Attribute11'), ('Attribute2', 'Attribute13'), ('Attribute2', 'Attribute16')]\n",
      "[('Attribute9_A92', 'Attribute9_A93'), ('Attribute3_A32', 'Attribute3_A34'), ('Attribute2', 'Attribute5'), ('Attribute17_A172', 'Attribute17_A173'), ('Attribute12_A124', 'Attribute15_A153')]\n"
     ]
    }
   ],
   "source": [
    "from itertools import combinations\n",
    "from src.utilities.mutual_information import mi_score\n",
    "from src.utilities.mutual_information import MI\n",
    "feature_pairs = list(combinations(list(features), 2))\n",
    "print(feature_pairs[:5])\n",
    "mi_list = MI(feature_pairs, X_train) #used all features available #original authors do over entire X but it is not preprocessed... Which i think is nessecary? #also works for bool one-hot encoding \n",
    "# top 5 \n",
    "print(mi_list[:5])"
   ]
  },
  {
   "cell_type": "markdown",
   "id": "7a272e99ef8ff9c3",
   "metadata": {
    "collapsed": false
   },
   "source": [
    "### Nearest Neighbour: KD Tree"
   ]
  },
  {
   "cell_type": "code",
   "execution_count": 16,
   "id": "b4c4047d73dd6a63",
   "metadata": {
    "collapsed": false,
    "ExecuteTime": {
     "end_time": "2025-06-14T19:33:54.092785700Z",
     "start_time": "2025-06-14T19:33:54.062863600Z"
    }
   },
   "outputs": [
    {
     "name": "stdout",
     "output_type": "stream",
     "text": [
      "     Attribute2  Attribute5  Attribute8  Attribute11  Attribute13  \\\n",
      "652    0.270317   -0.335901    0.945404    -1.660121     0.870748   \n",
      "622    2.277975    0.266786    0.945404    -0.747967     0.231260   \n",
      "301    1.274146    0.225634    0.945404    -1.660121     0.596682   \n",
      "\n",
      "     Attribute16  Attribute18  Attribute1_A12  Attribute1_A13  Attribute1_A14  \\\n",
      "652    -0.724565    -0.434114           False           False           False   \n",
      "622    -0.724565    -0.434114           False           False            True   \n",
      "301    -0.724565    -0.434114            True           False           False   \n",
      "\n",
      "     ...  Attribute12_A124  Attribute14_A142  Attribute14_A143  \\\n",
      "652  ...             False             False              True   \n",
      "622  ...             False             False             False   \n",
      "301  ...             False             False              True   \n",
      "\n",
      "     Attribute15_A152  Attribute15_A153  Attribute17_A172  Attribute17_A173  \\\n",
      "652              True             False             False              True   \n",
      "622              True             False             False              True   \n",
      "301              True             False             False              True   \n",
      "\n",
      "     Attribute17_A174  Attribute19_A192  Attribute20_A202  \n",
      "652             False             False             False  \n",
      "622             False             False             False  \n",
      "301             False              True             False  \n",
      "\n",
      "[3 rows x 48 columns]\n"
     ]
    }
   ],
   "source": [
    "from src.utilities.nearest_neighbours import FNN\n",
    "nn = FNN(desired_space,x,3.5) #radius arbitrarily set; can experiment with how close we want it to be to x #3.5 for euclidean distance is around 0.5 for each of the 48 features difference from x, get 3 datapoints\n",
    "print(nn)"
   ]
  },
  {
   "cell_type": "markdown",
   "source": [
    "### Subspace: Intervals"
   ],
   "metadata": {
    "collapsed": false
   },
   "id": "7013718b32951529"
  },
  {
   "cell_type": "code",
   "execution_count": 17,
   "outputs": [
    {
     "name": "stdout",
     "output_type": "stream",
     "text": [
      "0\n",
      "1\n",
      "{'Attribute5': [0, np.float64(0.26678599187094654)]}\n"
     ]
    }
   ],
   "source": [
    "from src.utilities.nearest_neighbours import intervals\n",
    "subspace = intervals(nn,p,f2change,x) \n",
    "print(subspace) #correct output"
   ],
   "metadata": {
    "collapsed": false,
    "ExecuteTime": {
     "end_time": "2025-06-14T19:33:56.195677Z",
     "start_time": "2025-06-14T19:33:56.090838900Z"
    }
   },
   "id": "7ee11217697a1d5e"
  },
  {
   "cell_type": "markdown",
   "source": [
    "### CF Generator: Single Feature"
   ],
   "metadata": {
    "collapsed": false
   },
   "id": "eded4ffc95046bcc"
  },
  {
   "cell_type": "code",
   "execution_count": 18,
   "outputs": [
    {
     "name": "stdout",
     "output_type": "stream",
     "text": [
      "None\n"
     ]
    }
   ],
   "source": [
    "from src.utilities.UFCE import SF\n",
    "cf = SF(x,X,cat_f,p,f,t,step)\n",
    "print(cf)"
   ],
   "metadata": {
    "collapsed": false,
    "ExecuteTime": {
     "end_time": "2025-06-14T19:33:58.691219100Z",
     "start_time": "2025-06-14T19:33:58.576910800Z"
    }
   },
   "id": "5f0746b9d12f073a"
  },
  {
   "cell_type": "markdown",
   "source": [
    "### CF Generator: Double Features"
   ],
   "metadata": {
    "collapsed": false
   },
   "id": "449a678f6b893368"
  },
  {
   "cell_type": "code",
   "execution_count": null,
   "outputs": [],
   "source": [
    "from src.utilities.UFCE import DF\n",
    "z = DF(X,x,subspace,mi_list,cat_f,num_f,features,protect_f,f,t)"
   ],
   "metadata": {
    "collapsed": false
   },
   "id": "7baa603987ab0804"
  }
 ],
 "metadata": {
  "kernelspec": {
   "display_name": "Python 3 (ipykernel)",
   "language": "python",
   "name": "python3"
  },
  "language_info": {
   "codemirror_mode": {
    "name": "ipython",
    "version": 3
   },
   "file_extension": ".py",
   "mimetype": "text/x-python",
   "name": "python",
   "nbconvert_exporter": "python",
   "pygments_lexer": "ipython3",
   "version": "3.11.5"
  }
 },
 "nbformat": 4,
 "nbformat_minor": 5
}
