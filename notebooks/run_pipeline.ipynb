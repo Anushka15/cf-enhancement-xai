{
 "cells": [
  {
   "cell_type": "markdown",
   "id": "586605b7f328c337",
   "metadata": {
    "collapsed": false
   },
   "source": [
    "# Load Data and preprocess"
   ]
  },
  {
   "cell_type": "code",
   "execution_count": 1,
   "id": "8e25f056-891b-40ef-ba16-e955922c5477",
   "metadata": {
    "ExecuteTime": {
     "end_time": "2025-06-14T19:04:14.619168800Z",
     "start_time": "2025-06-14T19:04:14.609193600Z"
    }
   },
   "outputs": [],
   "source": [
    "import sys\n",
    "import os\n",
    "sys.path.append(os.path.abspath(\"..\"))"
   ]
  },
  {
   "cell_type": "code",
   "execution_count": 2,
   "id": "d0e99e86-ce22-423a-8a34-12c7c03f5339",
   "metadata": {
    "ExecuteTime": {
     "end_time": "2025-06-14T19:04:15.332603500Z",
     "start_time": "2025-06-14T19:04:15.311284Z"
    }
   },
   "outputs": [],
   "source": [
    "#pip install ucimlrepo"
   ]
  },
  {
   "cell_type": "code",
   "execution_count": 3,
   "id": "c6cdd5eb-74fb-4fd4-87ef-93be7dfc0df3",
   "metadata": {
    "ExecuteTime": {
     "end_time": "2025-06-14T19:04:17.197743200Z",
     "start_time": "2025-06-14T19:04:15.856441700Z"
    }
   },
   "outputs": [],
   "source": [
    "from src.data.load_data import load_input_data\n",
    "from src.data.load_data import preprocess_data"
   ]
  },
  {
   "cell_type": "code",
   "execution_count": 4,
   "id": "899deef0-4026-4c51-912e-a32781e12461",
   "metadata": {
    "ExecuteTime": {
     "end_time": "2025-06-14T19:04:18.947074200Z",
     "start_time": "2025-06-14T19:04:17.199739500Z"
    }
   },
   "outputs": [],
   "source": [
    "X_train, X_test, y_train, y_test, metadata, variables, datasetdf = load_input_data()"
   ]
  },
  {
   "cell_type": "code",
   "execution_count": 5,
   "id": "eb4c6e14-f419-4b4b-8a63-2902f9ac9a9b",
   "metadata": {
    "ExecuteTime": {
     "end_time": "2025-06-14T19:04:19.584694500Z",
     "start_time": "2025-06-14T19:04:19.523345900Z"
    }
   },
   "outputs": [],
   "source": [
    "import pandas as pd\n",
    "\n",
    "num_cols = ['Attribute2', 'Attribute5', 'Attribute8', 'Attribute11',\n",
    "            'Attribute13', 'Attribute16', 'Attribute18']\n",
    "\n",
    "X_train, X_test, datasetdf = preprocess_data(X_train, X_test, datasetdf, num_cols)\n",
    "#pd.set_option('display.max_columns', None)\n",
    "#print(X_train.head())"
   ]
  },
  {
   "cell_type": "markdown",
   "id": "50dbbf3bf2583398",
   "metadata": {
    "collapsed": false
   },
   "source": [
    "# Train model"
   ]
  },
  {
   "cell_type": "code",
   "execution_count": 6,
   "id": "3e71f1f3-b0c1-4520-b88a-07026fb3ef99",
   "metadata": {
    "ExecuteTime": {
     "end_time": "2025-06-14T19:04:21.338714500Z",
     "start_time": "2025-06-14T19:04:21.115285400Z"
    }
   },
   "outputs": [],
   "source": [
    "from src.model.train_model import train_classifier"
   ]
  },
  {
   "cell_type": "code",
   "execution_count": 7,
   "id": "2ad76108-cf15-4385-aad8-e6ed059e5179",
   "metadata": {
    "ExecuteTime": {
     "end_time": "2025-06-14T19:04:22.371254300Z",
     "start_time": "2025-06-14T19:04:22.112836800Z"
    }
   },
   "outputs": [],
   "source": [
    "clf = train_classifier(X_train,y_train,n_estimators=100, random_state=42)"
   ]
  },
  {
   "cell_type": "markdown",
   "id": "bc0adfeb-7e51-47f7-bb3a-dd80fa791fda",
   "metadata": {},
   "source": [
    "# Test model"
   ]
  },
  {
   "cell_type": "code",
   "execution_count": 8,
   "id": "59c52144-fa92-4457-8256-978a282d0a4e",
   "metadata": {
    "ExecuteTime": {
     "end_time": "2025-06-14T19:04:23.769950400Z",
     "start_time": "2025-06-14T19:04:23.756979100Z"
    }
   },
   "outputs": [],
   "source": [
    "from src.model.test_model import test_classifier_prediction"
   ]
  },
  {
   "cell_type": "code",
   "execution_count": 9,
   "id": "f5f1d8e1-2641-42e8-bdc9-8e1ee4f23ce0",
   "metadata": {
    "ExecuteTime": {
     "end_time": "2025-06-14T19:04:24.508184700Z",
     "start_time": "2025-06-14T19:04:24.474276900Z"
    }
   },
   "outputs": [],
   "source": [
    "y_pred,classification_report,accuracy_score = test_classifier_prediction(clf,X_test,y_test)"
   ]
  },
  {
   "cell_type": "code",
   "execution_count": 10,
   "id": "41046582-e69a-41d0-9c59-c18b066f0aa2",
   "metadata": {
    "ExecuteTime": {
     "end_time": "2025-06-14T19:04:25.333807200Z",
     "start_time": "2025-06-14T19:04:25.315828800Z"
    }
   },
   "outputs": [
    {
     "name": "stdout",
     "output_type": "stream",
     "text": [
      "0.76\n"
     ]
    }
   ],
   "source": [
    "print(accuracy_score)"
   ]
  },
  {
   "cell_type": "code",
   "execution_count": 11,
   "id": "7aa4847a-dcde-4a5b-afd5-6b0b5fddc5c9",
   "metadata": {
    "ExecuteTime": {
     "end_time": "2025-06-14T19:04:26.062064Z",
     "start_time": "2025-06-14T19:04:26.057075700Z"
    }
   },
   "outputs": [
    {
     "name": "stdout",
     "output_type": "stream",
     "text": [
      "              precision    recall  f1-score   support\n",
      "\n",
      "           1       0.76      0.95      0.85       210\n",
      "           2       0.74      0.31      0.44        90\n",
      "\n",
      "    accuracy                           0.76       300\n",
      "   macro avg       0.75      0.63      0.64       300\n",
      "weighted avg       0.76      0.76      0.72       300\n"
     ]
    }
   ],
   "source": [
    "print(classification_report)"
   ]
  },
  {
   "cell_type": "markdown",
   "id": "cb457f7e2dd2a0c5",
   "metadata": {
    "collapsed": false
   },
   "source": [
    "### User constraints / Ontology constraints"
   ]
  },
  {
   "cell_type": "code",
   "execution_count": 12,
   "id": "5ceced30b0483971",
   "metadata": {
    "collapsed": false,
    "ExecuteTime": {
     "end_time": "2025-06-14T19:04:27.661030600Z",
     "start_time": "2025-06-14T19:04:27.622133500Z"
    }
   },
   "outputs": [],
   "source": [
    "# Implement here\n"
   ]
  },
  {
   "cell_type": "markdown",
   "source": [
    "### Final outputs of Input section of pipeline\n",
    "For experimentation, here are some values"
   ],
   "metadata": {
    "collapsed": false
   },
   "id": "4e215b55b761b30"
  },
  {
   "cell_type": "code",
   "execution_count": 24,
   "outputs": [],
   "source": [
    "from src.utilities.desired_space import desired_space\n",
    "x= X_test[0:1] #test instance #select first row as dataFrame\n",
    "p= {\n",
    "    'Attribute5':(0, 1) #credit amount #I put a normalized amount here\n",
    "}#perturbation map\n",
    "#desired_space= desired_space(2, datasetdf) #all the feature vectors with output=2 #not preprocessed! Potential issue from authors!\n",
    "#print(datasetdf.head())\n",
    "desired_space = desired_space(2,datasetdf) #did preprocessing also to datasetdf\n",
    "#print(X_train.head())\n",
    "#print(desired_space.head())\n",
    "cat_f= X_train.select_dtypes(include=['bool']) #categorical features\n",
    "#print(cat_f)\n",
    "num_f= X_train.select_dtypes(include=['int64', 'float64']) #numerical features\n",
    "#print(num_f)\n",
    "protect_f= ['Attribute9_A92'  'Attribute9_A93'  'Attribute9_A94'] # Personal status and sex (X_train.head() shows only 3 values (columns) while there are 5) #protected features\n",
    "features= X_train.columns #all features\n",
    "t= 2 #desired outcome\n",
    "f= clf #black-box model for which we want to find CF\n",
    "X= X_train #training data\n",
    "step= {\n",
    "    'Attribute5': 10 #credit amount steps\n",
    "} #dictionary holding the feature distribution to be used for single feature perturbation method"
   ],
   "metadata": {
    "collapsed": false,
    "ExecuteTime": {
     "end_time": "2025-06-14T19:22:01.299358100Z",
     "start_time": "2025-06-14T19:22:01.275444800Z"
    }
   },
   "id": "9b1b269b4baa0a36"
  },
  {
   "cell_type": "markdown",
   "source": [
    "### Derived variables"
   ],
   "metadata": {
    "collapsed": false
   },
   "id": "9983ef057eba0ccc"
  },
  {
   "cell_type": "code",
   "execution_count": 25,
   "outputs": [],
   "source": [
    "f2change = p.keys()"
   ],
   "metadata": {
    "collapsed": false,
    "ExecuteTime": {
     "end_time": "2025-06-14T19:22:02.100480300Z",
     "start_time": "2025-06-14T19:22:02.084495800Z"
    }
   },
   "id": "9d2da55c55f250c"
  },
  {
   "cell_type": "markdown",
   "id": "9758b29e7bd34451",
   "metadata": {
    "collapsed": false
   },
   "source": [
    "# UFCE"
   ]
  },
  {
   "cell_type": "markdown",
   "id": "41299d099707094c",
   "metadata": {
    "collapsed": false
   },
   "source": [
    "### Feature Selection: Mutual Information (MI)"
   ]
  },
  {
   "cell_type": "code",
   "execution_count": 26,
   "id": "376a7dd21385f19",
   "metadata": {
    "collapsed": false,
    "ExecuteTime": {
     "end_time": "2025-06-14T19:22:10.004571700Z",
     "start_time": "2025-06-14T19:22:02.858383600Z"
    }
   },
   "outputs": [
    {
     "name": "stdout",
     "output_type": "stream",
     "text": [
      "[('Attribute2', 'Attribute5'), ('Attribute2', 'Attribute8'), ('Attribute2', 'Attribute11'), ('Attribute2', 'Attribute13'), ('Attribute2', 'Attribute16')]\n",
      "[('Attribute9_A92', 'Attribute9_A93'), ('Attribute3_A32', 'Attribute3_A34'), ('Attribute2', 'Attribute5'), ('Attribute17_A172', 'Attribute17_A173'), ('Attribute12_A124', 'Attribute15_A153')]\n"
     ]
    }
   ],
   "source": [
    "from itertools import combinations\n",
    "from src.utilities.mutual_information import mi_score\n",
    "from src.utilities.mutual_information import MI\n",
    "feature_pairs = list(combinations(list(features), 2))\n",
    "print(feature_pairs[:5])\n",
    "mi_list = MI(feature_pairs, X_train) #used all features available #original authors do over entire X but it is not preprocessed... Which i think is nessecary? #also works for bool one-hot encoding \n",
    "# top 5 \n",
    "print(mi_list[:5])"
   ]
  },
  {
   "cell_type": "markdown",
   "id": "7a272e99ef8ff9c3",
   "metadata": {
    "collapsed": false
   },
   "source": [
    "### Nearest Neighbour: KD Tree"
   ]
  },
  {
   "cell_type": "code",
   "execution_count": 27,
   "id": "b4c4047d73dd6a63",
   "metadata": {
    "collapsed": false,
    "ExecuteTime": {
     "end_time": "2025-06-14T19:22:10.037496Z",
     "start_time": "2025-06-14T19:22:10.009551700Z"
    }
   },
   "outputs": [
    {
     "name": "stdout",
     "output_type": "stream",
     "text": [
      "     Attribute2  Attribute5  Attribute8  Attribute11  Attribute13  \\\n",
      "652    0.270317   -0.335901    0.945404    -1.660121     0.870748   \n",
      "622    2.277975    0.266786    0.945404    -0.747967     0.231260   \n",
      "301    1.274146    0.225634    0.945404    -1.660121     0.596682   \n",
      "\n",
      "     Attribute16  Attribute18  Attribute1_A12  Attribute1_A13  Attribute1_A14  \\\n",
      "652    -0.724565    -0.434114           False           False           False   \n",
      "622    -0.724565    -0.434114           False           False            True   \n",
      "301    -0.724565    -0.434114            True           False           False   \n",
      "\n",
      "     ...  Attribute12_A124  Attribute14_A142  Attribute14_A143  \\\n",
      "652  ...             False             False              True   \n",
      "622  ...             False             False             False   \n",
      "301  ...             False             False              True   \n",
      "\n",
      "     Attribute15_A152  Attribute15_A153  Attribute17_A172  Attribute17_A173  \\\n",
      "652              True             False             False              True   \n",
      "622              True             False             False              True   \n",
      "301              True             False             False              True   \n",
      "\n",
      "     Attribute17_A174  Attribute19_A192  Attribute20_A202  \n",
      "652             False             False             False  \n",
      "622             False             False             False  \n",
      "301             False              True             False  \n",
      "\n",
      "[3 rows x 48 columns]\n"
     ]
    }
   ],
   "source": [
    "from src.utilities.nearest_neighbours import FNN\n",
    "nn = FNN(desired_space,x,3.5) #radius arbitrarily set; can experiment with how close we want it to be to x #3.5 for euclidean distance is around 0.5 for each of the 48 features difference from x, get 3 datapoints\n",
    "print(nn)"
   ]
  },
  {
   "cell_type": "markdown",
   "source": [
    "### Subspace: Intervals"
   ],
   "metadata": {
    "collapsed": false
   },
   "id": "7013718b32951529"
  },
  {
   "cell_type": "code",
   "execution_count": 28,
   "outputs": [
    {
     "name": "stdout",
     "output_type": "stream",
     "text": [
      "0\n",
      "1\n",
      "{'Attribute5': [0, np.float64(0.26678599187094654)]}\n"
     ]
    }
   ],
   "source": [
    "from src.utilities.nearest_neighbours import intervals\n",
    "subspace = intervals(nn,p,f2change,x) \n",
    "print(subspace) #correct output"
   ],
   "metadata": {
    "collapsed": false,
    "ExecuteTime": {
     "end_time": "2025-06-14T19:22:10.060439400Z",
     "start_time": "2025-06-14T19:22:10.039491100Z"
    }
   },
   "id": "7ee11217697a1d5e"
  },
  {
   "cell_type": "markdown",
   "source": [
    "### CF Generator: Single Feature"
   ],
   "metadata": {
    "collapsed": false
   },
   "id": "eded4ffc95046bcc"
  },
  {
   "cell_type": "code",
   "execution_count": 29,
   "outputs": [
    {
     "ename": "SyntaxError",
     "evalue": "expected ':' (UFCE.py, line 64)",
     "output_type": "error",
     "traceback": [
      "Traceback \u001B[1;36m(most recent call last)\u001B[0m:\n",
      "\u001B[0m  File \u001B[0;32m~\\Desktop\\Python exercises code (target level)\\venv\\lib\\site-packages\\IPython\\core\\interactiveshell.py:3579\u001B[0m in \u001B[0;35mrun_code\u001B[0m\n    exec(code_obj, self.user_global_ns, self.user_ns)\u001B[0m\n",
      "\u001B[1;36m  Cell \u001B[1;32mIn[29], line 1\u001B[1;36m\n\u001B[1;33m    from src.utilities.UFCE import SF\u001B[1;36m\n",
      "\u001B[1;36m  File \u001B[1;32m~\\Desktop\\Python exercises code (target level)\\cf-enhancement-xai\\src\\utilities\\UFCE.py:64\u001B[1;36m\u001B[0m\n\u001B[1;33m    except\u001B[0m\n\u001B[1;37m          ^\u001B[0m\n\u001B[1;31mSyntaxError\u001B[0m\u001B[1;31m:\u001B[0m expected ':'\n"
     ]
    }
   ],
   "source": [
    "from src.utilities.UFCE import SF\n",
    "z = SF(x,X,cat_f,p,f,t,step)"
   ],
   "metadata": {
    "collapsed": false,
    "ExecuteTime": {
     "end_time": "2025-06-14T19:22:21.995411900Z",
     "start_time": "2025-06-14T19:22:21.917096Z"
    }
   },
   "id": "5f0746b9d12f073a"
  },
  {
   "cell_type": "markdown",
   "source": [
    "### CF Generator: Double Features"
   ],
   "metadata": {
    "collapsed": false
   },
   "id": "449a678f6b893368"
  },
  {
   "cell_type": "code",
   "execution_count": null,
   "outputs": [],
   "source": [
    "from src.utilities.UFCE import DF\n",
    "z = DF(X,x,subspace,mi_list,cat_f,num_f,features,protect_f,f,t)"
   ],
   "metadata": {
    "collapsed": false
   },
   "id": "7baa603987ab0804"
  }
 ],
 "metadata": {
  "kernelspec": {
   "display_name": "Python 3 (ipykernel)",
   "language": "python",
   "name": "python3"
  },
  "language_info": {
   "codemirror_mode": {
    "name": "ipython",
    "version": 3
   },
   "file_extension": ".py",
   "mimetype": "text/x-python",
   "name": "python",
   "nbconvert_exporter": "python",
   "pygments_lexer": "ipython3",
   "version": "3.11.5"
  }
 },
 "nbformat": 4,
 "nbformat_minor": 5
}
