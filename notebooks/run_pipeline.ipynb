{
 "cells": [
  {
   "cell_type": "markdown",
   "id": "586605b7f328c337",
   "metadata": {
    "collapsed": false,
    "jupyter": {
     "outputs_hidden": false
    }
   },
   "source": [
    "# Load Data and preprocess"
   ]
  },
  {
   "cell_type": "code",
   "execution_count": 1,
   "id": "8e25f056-891b-40ef-ba16-e955922c5477",
   "metadata": {
    "ExecuteTime": {
     "end_time": "2025-06-17T14:21:16.433095500Z",
     "start_time": "2025-06-17T14:21:16.415713Z"
    }
   },
   "outputs": [],
   "source": [
    "import sys\n",
    "import os\n",
    "sys.path.append(os.path.abspath(\"..\"))"
   ]
  },
  {
   "cell_type": "code",
   "execution_count": 2,
   "id": "d0e99e86-ce22-423a-8a34-12c7c03f5339",
   "metadata": {
    "ExecuteTime": {
     "end_time": "2025-06-17T14:21:19.275882300Z",
     "start_time": "2025-06-17T14:21:19.259250300Z"
    }
   },
   "outputs": [],
   "source": [
    "#pip install ucimlrepo"
   ]
  },
  {
   "cell_type": "code",
   "execution_count": 3,
   "id": "c6cdd5eb-74fb-4fd4-87ef-93be7dfc0df3",
   "metadata": {
    "ExecuteTime": {
     "end_time": "2025-06-17T14:21:22.579242100Z",
     "start_time": "2025-06-17T14:21:20.554681Z"
    }
   },
   "outputs": [],
   "source": [
    "from src.data.load_data import load_input_data\n",
    "from src.data.load_data import preprocess_data\n",
    "from src.data.load_data import preprocess_data"
   ]
  },
  {
   "cell_type": "code",
   "execution_count": 4,
   "id": "899deef0-4026-4c51-912e-a32781e12461",
   "metadata": {
    "ExecuteTime": {
     "end_time": "2025-06-17T14:21:27.337299100Z",
     "start_time": "2025-06-17T14:21:25.573557700Z"
    }
   },
   "outputs": [],
   "source": [
    "X_train, X_test, y_train, y_test, metadata, variables, datasetdf = load_input_data()"
   ]
  },
  {
   "cell_type": "code",
   "execution_count": 5,
   "id": "eb4c6e14-f419-4b4b-8a63-2902f9ac9a9b",
   "metadata": {
    "ExecuteTime": {
     "end_time": "2025-06-17T14:21:59.955891Z",
     "start_time": "2025-06-17T14:21:59.910546200Z"
    }
   },
   "outputs": [],
   "source": [
    "import pandas as pd\n",
    "\n",
    "num_cols = ['Attribute2', 'Attribute5', 'Attribute8', 'Attribute11',\n",
    "            'Attribute13', 'Attribute16', 'Attribute18']\n",
    "\n",
    "X_train_raw,X_test_raw = X_train,X_test\n",
    "#X_train, X_test, datasetdf = preprocess_data(X_train, X_test, datasetdf, num_cols)\n",
    "X_train, X_test, datasetdf = preprocess_data(X_train, X_test, datasetdf, num_cols)\n",
    "#pd.set_option('display.max_columns', None)\n",
    "#print(X_train.head())"
   ]
  },
  {
   "cell_type": "code",
   "execution_count": 6,
   "id": "cd48bb1b-9ff2-44dc-8570-af9347cfd807",
   "metadata": {},
   "outputs": [
    {
     "data": {
      "text/html": [
       "<div>\n",
       "<style scoped>\n",
       "    .dataframe tbody tr th:only-of-type {\n",
       "        vertical-align: middle;\n",
       "    }\n",
       "\n",
       "    .dataframe tbody tr th {\n",
       "        vertical-align: top;\n",
       "    }\n",
       "\n",
       "    .dataframe thead th {\n",
       "        text-align: right;\n",
       "    }\n",
       "</style>\n",
       "<table border=\"1\" class=\"dataframe\">\n",
       "  <thead>\n",
       "    <tr style=\"text-align: right;\">\n",
       "      <th></th>\n",
       "      <th>Attribute2</th>\n",
       "      <th>Attribute5</th>\n",
       "      <th>Attribute8</th>\n",
       "      <th>Attribute11</th>\n",
       "      <th>Attribute13</th>\n",
       "      <th>Attribute16</th>\n",
       "      <th>Attribute18</th>\n",
       "      <th>Attribute1_A12</th>\n",
       "      <th>Attribute1_A13</th>\n",
       "      <th>Attribute1_A14</th>\n",
       "      <th>...</th>\n",
       "      <th>Attribute12_A124</th>\n",
       "      <th>Attribute14_A142</th>\n",
       "      <th>Attribute14_A143</th>\n",
       "      <th>Attribute15_A152</th>\n",
       "      <th>Attribute15_A153</th>\n",
       "      <th>Attribute17_A172</th>\n",
       "      <th>Attribute17_A173</th>\n",
       "      <th>Attribute17_A174</th>\n",
       "      <th>Attribute19_A192</th>\n",
       "      <th>Attribute20_A202</th>\n",
       "    </tr>\n",
       "  </thead>\n",
       "  <tbody>\n",
       "    <tr>\n",
       "      <th>10</th>\n",
       "      <td>-0.733512</td>\n",
       "      <td>-0.713001</td>\n",
       "      <td>0.054714</td>\n",
       "      <td>-1.660121</td>\n",
       "      <td>-0.956361</td>\n",
       "      <td>-0.724565</td>\n",
       "      <td>-0.434114</td>\n",
       "      <td>True</td>\n",
       "      <td>False</td>\n",
       "      <td>False</td>\n",
       "      <td>...</td>\n",
       "      <td>False</td>\n",
       "      <td>False</td>\n",
       "      <td>True</td>\n",
       "      <td>False</td>\n",
       "      <td>False</td>\n",
       "      <td>False</td>\n",
       "      <td>True</td>\n",
       "      <td>False</td>\n",
       "      <td>False</td>\n",
       "      <td>False</td>\n",
       "    </tr>\n",
       "    <tr>\n",
       "      <th>82</th>\n",
       "      <td>-0.231598</td>\n",
       "      <td>-0.610869</td>\n",
       "      <td>0.054714</td>\n",
       "      <td>1.076342</td>\n",
       "      <td>-1.047717</td>\n",
       "      <td>-0.724565</td>\n",
       "      <td>-0.434114</td>\n",
       "      <td>False</td>\n",
       "      <td>False</td>\n",
       "      <td>True</td>\n",
       "      <td>...</td>\n",
       "      <td>False</td>\n",
       "      <td>False</td>\n",
       "      <td>True</td>\n",
       "      <td>False</td>\n",
       "      <td>False</td>\n",
       "      <td>True</td>\n",
       "      <td>False</td>\n",
       "      <td>False</td>\n",
       "      <td>False</td>\n",
       "      <td>False</td>\n",
       "    </tr>\n",
       "    <tr>\n",
       "      <th>827</th>\n",
       "      <td>-0.231598</td>\n",
       "      <td>0.360687</td>\n",
       "      <td>-0.835976</td>\n",
       "      <td>-0.747967</td>\n",
       "      <td>0.048549</td>\n",
       "      <td>1.074000</td>\n",
       "      <td>2.303542</td>\n",
       "      <td>False</td>\n",
       "      <td>False</td>\n",
       "      <td>True</td>\n",
       "      <td>...</td>\n",
       "      <td>False</td>\n",
       "      <td>True</td>\n",
       "      <td>False</td>\n",
       "      <td>True</td>\n",
       "      <td>False</td>\n",
       "      <td>False</td>\n",
       "      <td>True</td>\n",
       "      <td>False</td>\n",
       "      <td>False</td>\n",
       "      <td>False</td>\n",
       "    </tr>\n",
       "    <tr>\n",
       "      <th>410</th>\n",
       "      <td>0.270317</td>\n",
       "      <td>-0.461601</td>\n",
       "      <td>0.945404</td>\n",
       "      <td>1.076342</td>\n",
       "      <td>-1.413139</td>\n",
       "      <td>-0.724565</td>\n",
       "      <td>-0.434114</td>\n",
       "      <td>True</td>\n",
       "      <td>False</td>\n",
       "      <td>False</td>\n",
       "      <td>...</td>\n",
       "      <td>False</td>\n",
       "      <td>False</td>\n",
       "      <td>True</td>\n",
       "      <td>True</td>\n",
       "      <td>False</td>\n",
       "      <td>False</td>\n",
       "      <td>True</td>\n",
       "      <td>False</td>\n",
       "      <td>True</td>\n",
       "      <td>False</td>\n",
       "    </tr>\n",
       "    <tr>\n",
       "      <th>48</th>\n",
       "      <td>-0.817165</td>\n",
       "      <td>1.506577</td>\n",
       "      <td>-1.726666</td>\n",
       "      <td>1.076342</td>\n",
       "      <td>0.322615</td>\n",
       "      <td>1.074000</td>\n",
       "      <td>-0.434114</td>\n",
       "      <td>False</td>\n",
       "      <td>False</td>\n",
       "      <td>True</td>\n",
       "      <td>...</td>\n",
       "      <td>False</td>\n",
       "      <td>False</td>\n",
       "      <td>True</td>\n",
       "      <td>True</td>\n",
       "      <td>False</td>\n",
       "      <td>True</td>\n",
       "      <td>False</td>\n",
       "      <td>False</td>\n",
       "      <td>False</td>\n",
       "      <td>False</td>\n",
       "    </tr>\n",
       "    <tr>\n",
       "      <th>...</th>\n",
       "      <td>...</td>\n",
       "      <td>...</td>\n",
       "      <td>...</td>\n",
       "      <td>...</td>\n",
       "      <td>...</td>\n",
       "      <td>...</td>\n",
       "      <td>...</td>\n",
       "      <td>...</td>\n",
       "      <td>...</td>\n",
       "      <td>...</td>\n",
       "      <td>...</td>\n",
       "      <td>...</td>\n",
       "      <td>...</td>\n",
       "      <td>...</td>\n",
       "      <td>...</td>\n",
       "      <td>...</td>\n",
       "      <td>...</td>\n",
       "      <td>...</td>\n",
       "      <td>...</td>\n",
       "      <td>...</td>\n",
       "      <td>...</td>\n",
       "    </tr>\n",
       "    <tr>\n",
       "      <th>603</th>\n",
       "      <td>1.274146</td>\n",
       "      <td>0.055415</td>\n",
       "      <td>0.945404</td>\n",
       "      <td>-0.747967</td>\n",
       "      <td>-0.682295</td>\n",
       "      <td>-0.724565</td>\n",
       "      <td>-0.434114</td>\n",
       "      <td>False</td>\n",
       "      <td>False</td>\n",
       "      <td>True</td>\n",
       "      <td>...</td>\n",
       "      <td>False</td>\n",
       "      <td>False</td>\n",
       "      <td>True</td>\n",
       "      <td>True</td>\n",
       "      <td>False</td>\n",
       "      <td>False</td>\n",
       "      <td>False</td>\n",
       "      <td>True</td>\n",
       "      <td>True</td>\n",
       "      <td>False</td>\n",
       "    </tr>\n",
       "    <tr>\n",
       "      <th>759</th>\n",
       "      <td>-0.733512</td>\n",
       "      <td>-0.938961</td>\n",
       "      <td>0.945404</td>\n",
       "      <td>0.164188</td>\n",
       "      <td>-0.042807</td>\n",
       "      <td>1.074000</td>\n",
       "      <td>-0.434114</td>\n",
       "      <td>False</td>\n",
       "      <td>False</td>\n",
       "      <td>False</td>\n",
       "      <td>...</td>\n",
       "      <td>False</td>\n",
       "      <td>False</td>\n",
       "      <td>True</td>\n",
       "      <td>True</td>\n",
       "      <td>False</td>\n",
       "      <td>False</td>\n",
       "      <td>True</td>\n",
       "      <td>False</td>\n",
       "      <td>False</td>\n",
       "      <td>False</td>\n",
       "    </tr>\n",
       "    <tr>\n",
       "      <th>298</th>\n",
       "      <td>-0.231598</td>\n",
       "      <td>-0.256590</td>\n",
       "      <td>0.054714</td>\n",
       "      <td>1.076342</td>\n",
       "      <td>0.688037</td>\n",
       "      <td>-0.724565</td>\n",
       "      <td>-0.434114</td>\n",
       "      <td>False</td>\n",
       "      <td>False</td>\n",
       "      <td>True</td>\n",
       "      <td>...</td>\n",
       "      <td>False</td>\n",
       "      <td>False</td>\n",
       "      <td>True</td>\n",
       "      <td>True</td>\n",
       "      <td>False</td>\n",
       "      <td>False</td>\n",
       "      <td>True</td>\n",
       "      <td>False</td>\n",
       "      <td>True</td>\n",
       "      <td>False</td>\n",
       "    </tr>\n",
       "    <tr>\n",
       "      <th>417</th>\n",
       "      <td>-0.231598</td>\n",
       "      <td>1.971592</td>\n",
       "      <td>-1.726666</td>\n",
       "      <td>-0.747967</td>\n",
       "      <td>-1.139072</td>\n",
       "      <td>1.074000</td>\n",
       "      <td>-0.434114</td>\n",
       "      <td>False</td>\n",
       "      <td>False</td>\n",
       "      <td>False</td>\n",
       "      <td>...</td>\n",
       "      <td>False</td>\n",
       "      <td>False</td>\n",
       "      <td>True</td>\n",
       "      <td>False</td>\n",
       "      <td>False</td>\n",
       "      <td>False</td>\n",
       "      <td>True</td>\n",
       "      <td>False</td>\n",
       "      <td>True</td>\n",
       "      <td>False</td>\n",
       "    </tr>\n",
       "    <tr>\n",
       "      <th>749</th>\n",
       "      <td>-0.482555</td>\n",
       "      <td>-0.064299</td>\n",
       "      <td>-0.835976</td>\n",
       "      <td>-0.747967</td>\n",
       "      <td>-0.225517</td>\n",
       "      <td>-0.724565</td>\n",
       "      <td>-0.434114</td>\n",
       "      <td>False</td>\n",
       "      <td>False</td>\n",
       "      <td>True</td>\n",
       "      <td>...</td>\n",
       "      <td>False</td>\n",
       "      <td>False</td>\n",
       "      <td>True</td>\n",
       "      <td>True</td>\n",
       "      <td>False</td>\n",
       "      <td>False</td>\n",
       "      <td>True</td>\n",
       "      <td>False</td>\n",
       "      <td>False</td>\n",
       "      <td>False</td>\n",
       "    </tr>\n",
       "  </tbody>\n",
       "</table>\n",
       "<p>700 rows × 48 columns</p>\n",
       "</div>"
      ],
      "text/plain": [
       "     Attribute2  Attribute5  Attribute8  Attribute11  Attribute13  \\\n",
       "10    -0.733512   -0.713001    0.054714    -1.660121    -0.956361   \n",
       "82    -0.231598   -0.610869    0.054714     1.076342    -1.047717   \n",
       "827   -0.231598    0.360687   -0.835976    -0.747967     0.048549   \n",
       "410    0.270317   -0.461601    0.945404     1.076342    -1.413139   \n",
       "48    -0.817165    1.506577   -1.726666     1.076342     0.322615   \n",
       "..          ...         ...         ...          ...          ...   \n",
       "603    1.274146    0.055415    0.945404    -0.747967    -0.682295   \n",
       "759   -0.733512   -0.938961    0.945404     0.164188    -0.042807   \n",
       "298   -0.231598   -0.256590    0.054714     1.076342     0.688037   \n",
       "417   -0.231598    1.971592   -1.726666    -0.747967    -1.139072   \n",
       "749   -0.482555   -0.064299   -0.835976    -0.747967    -0.225517   \n",
       "\n",
       "     Attribute16  Attribute18  Attribute1_A12  Attribute1_A13  Attribute1_A14  \\\n",
       "10     -0.724565    -0.434114            True           False           False   \n",
       "82     -0.724565    -0.434114           False           False            True   \n",
       "827     1.074000     2.303542           False           False            True   \n",
       "410    -0.724565    -0.434114            True           False           False   \n",
       "48      1.074000    -0.434114           False           False            True   \n",
       "..           ...          ...             ...             ...             ...   \n",
       "603    -0.724565    -0.434114           False           False            True   \n",
       "759     1.074000    -0.434114           False           False           False   \n",
       "298    -0.724565    -0.434114           False           False            True   \n",
       "417     1.074000    -0.434114           False           False           False   \n",
       "749    -0.724565    -0.434114           False           False            True   \n",
       "\n",
       "     ...  Attribute12_A124  Attribute14_A142  Attribute14_A143  \\\n",
       "10   ...             False             False              True   \n",
       "82   ...             False             False              True   \n",
       "827  ...             False              True             False   \n",
       "410  ...             False             False              True   \n",
       "48   ...             False             False              True   \n",
       "..   ...               ...               ...               ...   \n",
       "603  ...             False             False              True   \n",
       "759  ...             False             False              True   \n",
       "298  ...             False             False              True   \n",
       "417  ...             False             False              True   \n",
       "749  ...             False             False              True   \n",
       "\n",
       "     Attribute15_A152  Attribute15_A153  Attribute17_A172  Attribute17_A173  \\\n",
       "10              False             False             False              True   \n",
       "82              False             False              True             False   \n",
       "827              True             False             False              True   \n",
       "410              True             False             False              True   \n",
       "48               True             False              True             False   \n",
       "..                ...               ...               ...               ...   \n",
       "603              True             False             False             False   \n",
       "759              True             False             False              True   \n",
       "298              True             False             False              True   \n",
       "417             False             False             False              True   \n",
       "749              True             False             False              True   \n",
       "\n",
       "     Attribute17_A174  Attribute19_A192  Attribute20_A202  \n",
       "10              False             False             False  \n",
       "82              False             False             False  \n",
       "827             False             False             False  \n",
       "410             False              True             False  \n",
       "48              False             False             False  \n",
       "..                ...               ...               ...  \n",
       "603              True              True             False  \n",
       "759             False             False             False  \n",
       "298             False              True             False  \n",
       "417             False              True             False  \n",
       "749             False             False             False  \n",
       "\n",
       "[700 rows x 48 columns]"
      ]
     },
     "execution_count": 6,
     "metadata": {},
     "output_type": "execute_result"
    }
   ],
   "source": [
    "X_train"
   ]
  },
  {
   "cell_type": "markdown",
   "id": "50dbbf3bf2583398",
   "metadata": {
    "collapsed": false,
    "jupyter": {
     "outputs_hidden": false
    }
   },
   "source": [
    "# Train model"
   ]
  },
  {
   "cell_type": "code",
   "execution_count": 7,
   "id": "3e71f1f3-b0c1-4520-b88a-07026fb3ef99",
   "metadata": {
    "ExecuteTime": {
     "end_time": "2025-06-17T14:22:01.490528500Z",
     "start_time": "2025-06-17T14:22:01.288388400Z"
    }
   },
   "outputs": [],
   "source": [
    "from src.model.train_model import train_classifier"
   ]
  },
  {
   "cell_type": "code",
   "execution_count": 8,
   "id": "2ad76108-cf15-4385-aad8-e6ed059e5179",
   "metadata": {
    "ExecuteTime": {
     "end_time": "2025-06-17T14:22:02.632618Z",
     "start_time": "2025-06-17T14:22:02.002276500Z"
    }
   },
   "outputs": [],
   "source": [
    "clf = train_classifier(X_train,y_train,n_estimators=100, random_state=42)"
   ]
  },
  {
   "cell_type": "markdown",
   "id": "bc0adfeb-7e51-47f7-bb3a-dd80fa791fda",
   "metadata": {},
   "source": [
    "# Test model"
   ]
  },
  {
   "cell_type": "code",
   "execution_count": 9,
   "id": "59c52144-fa92-4457-8256-978a282d0a4e",
   "metadata": {
    "ExecuteTime": {
     "end_time": "2025-06-17T13:23:38.945561500Z",
     "start_time": "2025-06-17T13:23:38.878102400Z"
    }
   },
   "outputs": [],
   "source": [
    "from src.model.test_model import test_classifier_prediction"
   ]
  },
  {
   "cell_type": "code",
   "execution_count": 10,
   "id": "f5f1d8e1-2641-42e8-bdc9-8e1ee4f23ce0",
   "metadata": {
    "ExecuteTime": {
     "end_time": "2025-06-17T13:23:39.556673600Z",
     "start_time": "2025-06-17T13:23:39.529998500Z"
    }
   },
   "outputs": [],
   "source": [
    "y_pred,classification_report,accuracy_score = test_classifier_prediction(clf,X_test,y_test)"
   ]
  },
  {
   "cell_type": "code",
   "execution_count": 11,
   "id": "41046582-e69a-41d0-9c59-c18b066f0aa2",
   "metadata": {
    "ExecuteTime": {
     "end_time": "2025-06-17T13:23:40.198162100Z",
     "start_time": "2025-06-17T13:23:40.174134Z"
    }
   },
   "outputs": [
    {
     "name": "stdout",
     "output_type": "stream",
     "text": [
      "0.76\n"
     ]
    }
   ],
   "source": [
    "print(accuracy_score)"
   ]
  },
  {
   "cell_type": "code",
   "execution_count": 12,
   "id": "7aa4847a-dcde-4a5b-afd5-6b0b5fddc5c9",
   "metadata": {
    "ExecuteTime": {
     "end_time": "2025-06-17T13:23:41.129863900Z",
     "start_time": "2025-06-17T13:23:41.100045800Z"
    }
   },
   "outputs": [
    {
     "name": "stdout",
     "output_type": "stream",
     "text": [
      "              precision    recall  f1-score   support\n",
      "\n",
      "           1       0.76      0.95      0.85       210\n",
      "           2       0.74      0.31      0.44        90\n",
      "\n",
      "    accuracy                           0.76       300\n",
      "   macro avg       0.75      0.63      0.64       300\n",
      "weighted avg       0.76      0.76      0.72       300\n",
      "\n"
     ]
    }
   ],
   "source": [
    "print(classification_report)"
   ]
  },
  {
   "cell_type": "markdown",
   "id": "cb457f7e2dd2a0c5",
   "metadata": {
    "collapsed": false,
    "jupyter": {
     "outputs_hidden": false
    }
   },
   "source": [
    "### User constraints / Ontology constraints"
   ]
  },
  {
   "cell_type": "code",
   "execution_count": 13,
   "id": "5ceced30b0483971",
   "metadata": {
    "ExecuteTime": {
     "end_time": "2025-06-17T13:23:43.825123700Z",
     "start_time": "2025-06-17T13:23:43.761644400Z"
    },
    "collapsed": false,
    "jupyter": {
     "outputs_hidden": false
    }
   },
   "outputs": [],
   "source": [
    "from src.ontology.generate_rules import *"
   ]
  },
  {
   "cell_type": "code",
   "execution_count": 14,
   "id": "1026fc53-1de4-490f-925d-268abb04e226",
   "metadata": {
    "ExecuteTime": {
     "end_time": "2025-06-17T13:23:44.419249200Z",
     "start_time": "2025-06-17T13:23:44.400895700Z"
    }
   },
   "outputs": [],
   "source": [
    "X_train_positive = X_train_raw[y_train==1]\n",
    "X_train_negative = X_train_raw[y_train==2]"
   ]
  },
  {
   "cell_type": "code",
   "execution_count": 15,
   "id": "f3b39670-64d3-4b1b-ad9b-4bd8ebb25305",
   "metadata": {
    "ExecuteTime": {
     "end_time": "2025-06-17T13:23:45.173923400Z",
     "start_time": "2025-06-17T13:23:45.139933700Z"
    }
   },
   "outputs": [],
   "source": [
    "positive_profile = summarize_features(X_train_positive)"
   ]
  },
  {
   "cell_type": "code",
   "execution_count": 16,
   "id": "275dcf7c-8a6b-49fe-a13c-44ad61cd94f0",
   "metadata": {
    "ExecuteTime": {
     "end_time": "2025-06-17T13:23:46.672060200Z",
     "start_time": "2025-06-17T13:23:46.605756400Z"
    }
   },
   "outputs": [
    {
     "data": {
      "text/plain": [
       "{'Attribute1': {'A14': 0.49795918367346936,\n",
       "  'A12': 0.23265306122448978,\n",
       "  'A11': 0.20408163265306123,\n",
       "  'A13': 0.0653061224489796},\n",
       " 'Attribute2': {'mean': 19.240816326530613, 'min': 4, 'max': 60},\n",
       " 'Attribute3': {'A32': 0.5040816326530613,\n",
       "  'A34': 0.3448979591836735,\n",
       "  'A33': 0.09183673469387756,\n",
       "  'A31': 0.03469387755102041,\n",
       "  'A30': 0.024489795918367346},\n",
       " 'Attribute4': {'A43': 0.2938775510204082,\n",
       "  'A40': 0.23061224489795917,\n",
       "  'A42': 0.17346938775510204,\n",
       "  'A41': 0.12448979591836734,\n",
       "  'A49': 0.09183673469387756,\n",
       "  'A46': 0.03469387755102041,\n",
       "  'A45': 0.02040816326530612,\n",
       "  'A44': 0.014285714285714285,\n",
       "  'A410': 0.00816326530612245,\n",
       "  'A48': 0.00816326530612245},\n",
       " 'Attribute5': {'mean': 2983.004081632653, 'min': 338, 'max': 15653},\n",
       " 'Attribute6': {'A61': 0.5387755102040817,\n",
       "  'A65': 0.21428571428571427,\n",
       "  'A62': 0.11224489795918367,\n",
       "  'A63': 0.06938775510204082,\n",
       "  'A64': 0.0653061224489796},\n",
       " 'Attribute7': {'A73': 0.35918367346938773,\n",
       "  'A75': 0.27755102040816326,\n",
       "  'A74': 0.1836734693877551,\n",
       "  'A72': 0.13877551020408163,\n",
       "  'A71': 0.04081632653061224},\n",
       " 'Attribute8': {'mean': 2.879591836734694, 'min': 1, 'max': 4},\n",
       " 'Attribute9': {'A93': 0.5775510204081633,\n",
       "  'A92': 0.2755102040816326,\n",
       "  'A94': 0.09795918367346938,\n",
       "  'A91': 0.04897959183673469},\n",
       " 'Attribute10': {'A101': 0.9102040816326531,\n",
       "  'A103': 0.05510204081632653,\n",
       "  'A102': 0.03469387755102041},\n",
       " 'Attribute11': {'mean': 2.8285714285714287, 'min': 1, 'max': 4},\n",
       " 'Attribute12': {'A123': 0.32653061224489793,\n",
       "  'A121': 0.32040816326530613,\n",
       "  'A122': 0.23061224489795917,\n",
       "  'A124': 0.12244897959183673},\n",
       " 'Attribute13': {'mean': 35.891836734693875, 'min': 19, 'max': 75},\n",
       " 'Attribute14': {'A143': 0.8448979591836735,\n",
       "  'A141': 0.10612244897959183,\n",
       "  'A142': 0.04897959183673469},\n",
       " 'Attribute15': {'A152': 0.7612244897959184,\n",
       "  'A151': 0.1489795918367347,\n",
       "  'A153': 0.08979591836734693},\n",
       " 'Attribute16': {'mean': 1.4081632653061225, 'min': 1, 'max': 4},\n",
       " 'Attribute17': {'A173': 0.6489795918367347,\n",
       "  'A172': 0.20612244897959184,\n",
       "  'A174': 0.1326530612244898,\n",
       "  'A171': 0.012244897959183673},\n",
       " 'Attribute18': {'mean': 1.1571428571428573, 'min': 1, 'max': 2},\n",
       " 'Attribute19': {'A191': 0.5877551020408164, 'A192': 0.4122448979591837},\n",
       " 'Attribute20': {'A201': 0.9469387755102041, 'A202': 0.053061224489795916}}"
      ]
     },
     "execution_count": 16,
     "metadata": {},
     "output_type": "execute_result"
    }
   ],
   "source": [
    "positive_profile"
   ]
  },
  {
   "cell_type": "code",
   "execution_count": 17,
   "id": "a087bc7a-8bed-49fa-bc61-4b9db2578ad0",
   "metadata": {
    "ExecuteTime": {
     "end_time": "2025-06-17T13:24:10.681462Z",
     "start_time": "2025-06-17T13:24:10.625387400Z"
    }
   },
   "outputs": [],
   "source": [
    "negative_profile = summarize_features(X_train_negative)"
   ]
  },
  {
   "cell_type": "code",
   "execution_count": 18,
   "id": "fee3e92e-5677-4f36-b381-056ae41424d6",
   "metadata": {
    "ExecuteTime": {
     "end_time": "2025-06-17T13:24:12.798410500Z",
     "start_time": "2025-06-17T13:24:12.785710200Z"
    }
   },
   "outputs": [
    {
     "data": {
      "text/plain": [
       "{'Attribute1': {'A11': 0.4380952380952381,\n",
       "  'A12': 0.3523809523809524,\n",
       "  'A14': 0.1523809523809524,\n",
       "  'A13': 0.05714285714285714},\n",
       " 'Attribute2': {'mean': 24.333333333333332, 'min': 6, 'max': 60},\n",
       " 'Attribute3': {'A32': 0.5476190476190477,\n",
       "  'A34': 0.17142857142857143,\n",
       "  'A33': 0.10476190476190476,\n",
       "  'A31': 0.1,\n",
       "  'A30': 0.0761904761904762},\n",
       " 'Attribute4': {'A40': 0.2761904761904762,\n",
       "  'A43': 0.2,\n",
       "  'A42': 0.19523809523809524,\n",
       "  'A49': 0.11428571428571428,\n",
       "  'A46': 0.08571428571428572,\n",
       "  'A41': 0.07142857142857142,\n",
       "  'A45': 0.02857142857142857,\n",
       "  'A44': 0.014285714285714285,\n",
       "  'A410': 0.009523809523809525,\n",
       "  'A48': 0.004761904761904762},\n",
       " 'Attribute5': {'mean': 3709.233333333333, 'min': 433, 'max': 15945},\n",
       " 'Attribute6': {'A61': 0.7285714285714285,\n",
       "  'A62': 0.12380952380952381,\n",
       "  'A65': 0.09047619047619047,\n",
       "  'A63': 0.03333333333333333,\n",
       "  'A64': 0.023809523809523808},\n",
       " 'Attribute7': {'A73': 0.3333333333333333,\n",
       "  'A72': 0.24761904761904763,\n",
       "  'A75': 0.22857142857142856,\n",
       "  'A74': 0.10952380952380952,\n",
       "  'A71': 0.08095238095238096},\n",
       " 'Attribute8': {'mean': 3.0761904761904764, 'min': 1, 'max': 4},\n",
       " 'Attribute9': {'A93': 0.49047619047619045,\n",
       "  'A92': 0.3523809523809524,\n",
       "  'A94': 0.09047619047619047,\n",
       "  'A91': 0.06666666666666667},\n",
       " 'Attribute10': {'A101': 0.9047619047619048,\n",
       "  'A102': 0.06190476190476191,\n",
       "  'A103': 0.03333333333333333},\n",
       " 'Attribute11': {'mean': 2.8, 'min': 1, 'max': 4},\n",
       " 'Attribute12': {'A123': 0.3380952380952381,\n",
       "  'A124': 0.24285714285714285,\n",
       "  'A122': 0.21904761904761905,\n",
       "  'A121': 0.2},\n",
       " 'Attribute13': {'mean': 34.48095238095238, 'min': 20, 'max': 74},\n",
       " 'Attribute14': {'A143': 0.7095238095238096,\n",
       "  'A141': 0.22380952380952382,\n",
       "  'A142': 0.06666666666666667},\n",
       " 'Attribute15': {'A152': 0.6142857142857143,\n",
       "  'A151': 0.23809523809523808,\n",
       "  'A153': 0.14761904761904762},\n",
       " 'Attribute16': {'mean': 1.3904761904761904, 'min': 1, 'max': 4},\n",
       " 'Attribute17': {'A173': 0.6238095238095238,\n",
       "  'A172': 0.18571428571428572,\n",
       "  'A174': 0.1619047619047619,\n",
       "  'A171': 0.02857142857142857},\n",
       " 'Attribute18': {'mean': 1.161904761904762, 'min': 1, 'max': 2},\n",
       " 'Attribute19': {'A191': 0.6142857142857143, 'A192': 0.38571428571428573},\n",
       " 'Attribute20': {'A201': 0.9904761904761905, 'A202': 0.009523809523809525}}"
      ]
     },
     "execution_count": 18,
     "metadata": {},
     "output_type": "execute_result"
    }
   ],
   "source": [
    "negative_profile"
   ]
  },
  {
   "cell_type": "code",
   "execution_count": 19,
   "id": "2b3ca6e9-ee82-4d07-ab4b-31511125b2b7",
   "metadata": {
    "ExecuteTime": {
     "end_time": "2025-06-17T13:24:21.000024300Z",
     "start_time": "2025-06-17T13:24:20.954848300Z"
    }
   },
   "outputs": [],
   "source": [
    "p_statistical = extract_statistical_rules(X_train_positive,X_train_raw , num_quantiles=(0.1, 0.9), cat_threshold=0.85)"
   ]
  },
  {
   "cell_type": "code",
   "execution_count": 20,
   "id": "db1de379-9a1b-48ad-88ea-88ccb03e722f",
   "metadata": {
    "ExecuteTime": {
     "end_time": "2025-06-17T13:24:23.728842600Z",
     "start_time": "2025-06-17T13:24:23.719736Z"
    }
   },
   "outputs": [
    {
     "data": {
      "text/plain": [
       "{'Attribute2': (6.0, 36.0),\n",
       " 'Attribute5': (929.9, 6473.9),\n",
       " 'Attribute8': (1.0, 4.0),\n",
       " 'Attribute10': 'A101',\n",
       " 'Attribute11': (1.0, 4.0),\n",
       " 'Attribute13': (24.0, 51.0),\n",
       " 'Attribute16': (1.0, 2.0),\n",
       " 'Attribute18': (1.0, 2.0)}"
      ]
     },
     "execution_count": 20,
     "metadata": {},
     "output_type": "execute_result"
    }
   ],
   "source": [
    "p_statistical"
   ]
  },
  {
   "cell_type": "code",
   "execution_count": 21,
   "id": "55616b42-b8c0-49fc-926d-e87fb3b0f0a1",
   "metadata": {
    "ExecuteTime": {
     "end_time": "2025-06-17T13:24:37.383466400Z",
     "start_time": "2025-06-17T13:24:33.376407100Z"
    }
   },
   "outputs": [],
   "source": [
    "p_permutation_imp_top_features = top_features(clf, X_train, y_train, n_repeats=5, random_state=42)"
   ]
  },
  {
   "cell_type": "code",
   "execution_count": 22,
   "id": "88950e73-c3f4-461d-8857-4907ed7655ad",
   "metadata": {
    "ExecuteTime": {
     "end_time": "2025-06-17T13:24:39.494422700Z",
     "start_time": "2025-06-17T13:24:39.476575700Z"
    }
   },
   "outputs": [
    {
     "data": {
      "text/plain": [
       "['Attribute1_A14',\n",
       " 'Attribute2',\n",
       " 'Attribute5',\n",
       " 'Attribute13',\n",
       " 'Attribute6_A65',\n",
       " 'Attribute14_A143']"
      ]
     },
     "execution_count": 22,
     "metadata": {},
     "output_type": "execute_result"
    }
   ],
   "source": [
    "p_permutation_imp_top_features"
   ]
  },
  {
   "cell_type": "code",
   "execution_count": 27,
   "id": "f2f55a90-6c3b-4682-aa33-b66bd488dffe",
   "metadata": {
    "ExecuteTime": {
     "end_time": "2025-06-17T13:24:44.493295600Z",
     "start_time": "2025-06-17T13:24:44.474478Z"
    }
   },
   "outputs": [],
   "source": [
    "p = combined_features(p_permutation_imp_top_features,p_statistical)"
   ]
  },
  {
   "cell_type": "code",
   "execution_count": 28,
   "id": "29c103e4-f8d4-4948-9c17-74f4bbc26fd3",
   "metadata": {
    "ExecuteTime": {
     "end_time": "2025-06-17T13:24:47.652532100Z",
     "start_time": "2025-06-17T13:24:47.631471700Z"
    }
   },
   "outputs": [
    {
     "data": {
      "text/plain": [
       "{'Attribute2': (6.0, 36.0),\n",
       " 'Attribute5': (929.9, 6473.9),\n",
       " 'Attribute8': (1.0, 4.0),\n",
       " 'Attribute10': ['A101'],\n",
       " 'Attribute11': (1.0, 4.0),\n",
       " 'Attribute13': (24.0, 51.0),\n",
       " 'Attribute16': (1.0, 2.0),\n",
       " 'Attribute18': (1.0, 2.0),\n",
       " 'Attribute1': 'A14',\n",
       " 'Attribute6': 'A65',\n",
       " 'Attribute14': 'A143'}"
      ]
     },
     "execution_count": 28,
     "metadata": {},
     "output_type": "execute_result"
    }
   ],
   "source": [
    "p"
   ]
  },
  {
   "cell_type": "code",
   "execution_count": 29,
   "id": "787dbf01d98d5f46",
   "metadata": {
    "ExecuteTime": {
     "end_time": "2025-06-17T13:35:57.526247400Z",
     "start_time": "2025-06-17T13:35:57.513796400Z"
    },
    "collapsed": false,
    "jupyter": {
     "outputs_hidden": false
    }
   },
   "outputs": [],
   "source": [
    "p_num = {key: value for key, value in p.items() if isinstance(value, tuple)}\n",
    "p_cat = {key: value for key, value in p.items() if isinstance(value, str)}\n",
    "#print(p_num)\n",
    "#print(p_cat)"
   ]
  },
  {
   "cell_type": "markdown",
   "id": "4e215b55b761b30",
   "metadata": {
    "collapsed": false,
    "jupyter": {
     "outputs_hidden": false
    }
   },
   "source": [
    "### Final outputs of Input section of pipeline\n",
    "For experimentation, here are some values"
   ]
  },
  {
   "cell_type": "code",
   "execution_count": null,
   "id": "9b1b269b4baa0a36",
   "metadata": {
    "ExecuteTime": {
     "end_time": "2025-06-17T13:36:29.274471600Z",
     "start_time": "2025-06-17T13:36:29.256249Z"
    },
    "collapsed": false,
    "jupyter": {
     "outputs_hidden": false
    }
   },
   "outputs": [],
   "source": [
    "from src.utilities.desired_space import desired_space\n",
    "x= X_test[0:1] #test instance #select first row as dataFrame\n",
    "p_num = p_num\n",
    "p_cat = p_cat\n",
    "#p= {\n",
    "    #'Attribute5':(0, 1) #credit amount #I put a normalized amount here\n",
    "#}#perturbation map\n",
    "#desired_space= desired_space(2, datasetdf) #all the feature vectors with output=2 #not preprocessed! Potential issue from authors!\n",
    "#print(datasetdf.head())\n",
    "desired_space = desired_space(2,datasetdf) #did preprocessing also to datasetdf\n",
    "#print(X_train.head())\n",
    "#print(desired_space.head())\n",
    "cat_f= X_train.select_dtypes(include=['bool']) #categorical features\n",
    "#print(cat_f)\n",
    "num_f= X_train.select_dtypes(include=['int64', 'float64']) #numerical features\n",
    "#print(num_f)\n",
    "protect_f= ['Attribute9_A92'  'Attribute9_A93'  'Attribute9_A94'] # Personal status and sex (X_train.head() shows only 3 values (columns) while there are 5) #protected features\n",
    "features= X_train.columns #all features\n",
    "t= 2 #desired outcome\n",
    "f= clf #black-box model for which we want to find CF\n",
    "X= X_train #training data\n",
    "step= {\n",
    "    'Attribute5': 0.01 #credit amount steps #tiny amount bc of normalized feature values\n",
    "} #dictionary holding the feature distribution to be used for single feature perturbation method"
   ]
  },
  {
   "cell_type": "markdown",
   "id": "9983ef057eba0ccc",
   "metadata": {
    "collapsed": false,
    "jupyter": {
     "outputs_hidden": false
    }
   },
   "source": [
    "### Derived variables"
   ]
  },
  {
   "cell_type": "code",
   "execution_count": null,
   "id": "9d2da55c55f250c",
   "metadata": {
    "ExecuteTime": {
     "end_time": "2025-06-14T19:33:44.236714600Z",
     "start_time": "2025-06-14T19:33:44.210272400Z"
    },
    "collapsed": false,
    "jupyter": {
     "outputs_hidden": false
    }
   },
   "outputs": [],
   "source": [
    "f2change = p.keys()"
   ]
  },
  {
   "cell_type": "markdown",
   "id": "9758b29e7bd34451",
   "metadata": {
    "collapsed": false,
    "jupyter": {
     "outputs_hidden": false
    }
   },
   "source": [
    "# UFCE"
   ]
  },
  {
   "cell_type": "markdown",
   "id": "41299d099707094c",
   "metadata": {
    "collapsed": false,
    "jupyter": {
     "outputs_hidden": false
    }
   },
   "source": [
    "### Feature Selection: Mutual Information (MI)"
   ]
  },
  {
   "cell_type": "code",
   "execution_count": null,
   "id": "376a7dd21385f19",
   "metadata": {
    "ExecuteTime": {
     "end_time": "2025-06-14T19:33:53.363302800Z",
     "start_time": "2025-06-14T19:33:45.945886300Z"
    },
    "collapsed": false,
    "jupyter": {
     "outputs_hidden": false
    }
   },
   "outputs": [],
   "source": [
    "from itertools import combinations\n",
    "from src.utilities.mutual_information import mi_score\n",
    "from src.utilities.mutual_information import MI\n",
    "feature_pairs = list(combinations(list(features), 2))\n",
    "print(feature_pairs[:5])\n",
    "mi_list = MI(feature_pairs, X_train) #used all features available #original authors do over entire X but it is not preprocessed... Which i think is nessecary? #also works for bool one-hot encoding \n",
    "# top 5 \n",
    "print(mi_list[:5])"
   ]
  },
  {
   "cell_type": "markdown",
   "id": "7a272e99ef8ff9c3",
   "metadata": {
    "collapsed": false,
    "jupyter": {
     "outputs_hidden": false
    }
   },
   "source": [
    "### Nearest Neighbour: KD Tree"
   ]
  },
  {
   "cell_type": "code",
   "execution_count": null,
   "id": "b4c4047d73dd6a63",
   "metadata": {
    "ExecuteTime": {
     "end_time": "2025-06-14T19:33:54.092785700Z",
     "start_time": "2025-06-14T19:33:54.062863600Z"
    },
    "collapsed": false,
    "jupyter": {
     "outputs_hidden": false
    }
   },
   "outputs": [],
   "source": [
    "from src.utilities.nearest_neighbours import FNN\n",
    "nn = FNN(desired_space,x,3.5) #radius arbitrarily set; can experiment with how close we want it to be to x #3.5 for euclidean distance is around 0.5 for each of the 48 features difference from x, get 3 datapoints\n",
    "print(nn)"
   ]
  },
  {
   "cell_type": "markdown",
   "id": "7013718b32951529",
   "metadata": {
    "collapsed": false,
    "jupyter": {
     "outputs_hidden": false
    }
   },
   "source": [
    "### Subspace: Intervals"
   ]
  },
  {
   "cell_type": "code",
   "execution_count": null,
   "id": "7ee11217697a1d5e",
   "metadata": {
    "ExecuteTime": {
     "end_time": "2025-06-14T19:33:56.195677Z",
     "start_time": "2025-06-14T19:33:56.090838900Z"
    },
    "collapsed": false,
    "jupyter": {
     "outputs_hidden": false
    }
   },
   "outputs": [],
   "source": [
    "from src.utilities.nearest_neighbours import intervals\n",
    "subspace = intervals(nn,p,f2change,x) \n",
    "print(subspace) #correct output"
   ]
  },
  {
   "cell_type": "markdown",
   "id": "eded4ffc95046bcc",
   "metadata": {
    "collapsed": false,
    "jupyter": {
     "outputs_hidden": false
    }
   },
   "source": [
    "### CF Generator: Single Feature"
   ]
  },
  {
   "cell_type": "code",
   "execution_count": null,
   "id": "5f0746b9d12f073a",
   "metadata": {
    "ExecuteTime": {
     "end_time": "2025-06-14T19:33:58.691219100Z",
     "start_time": "2025-06-14T19:33:58.576910800Z"
    },
    "collapsed": false,
    "jupyter": {
     "outputs_hidden": false
    }
   },
   "outputs": [],
   "source": [
    "from src.utilities.UFCE import SF\n",
    "#cf = SF(x,X,cat_f,p,f,t,step)\n",
    "cf = SF(x,X_train_raw,p_num,p_cat,f,t,step)\n",
    "print(cf)"
   ]
  },
  {
   "cell_type": "markdown",
   "id": "449a678f6b893368",
   "metadata": {
    "collapsed": false,
    "jupyter": {
     "outputs_hidden": false
    }
   },
   "source": [
    "### CF Generator: Double Features"
   ]
  },
  {
   "cell_type": "code",
   "execution_count": null,
   "id": "7baa603987ab0804",
   "metadata": {
    "collapsed": false,
    "jupyter": {
     "outputs_hidden": false
    }
   },
   "outputs": [],
   "source": [
    "from src.utilities.UFCE import DF\n",
    "z = DF(X,x,subspace,mi_list,cat_f,num_f,features,protect_f,f,t)"
   ]
  }
 ],
 "metadata": {
  "kernelspec": {
   "display_name": "Python 3 (ipykernel)",
   "language": "python",
   "name": "python3"
  },
  "language_info": {
   "codemirror_mode": {
    "name": "ipython",
    "version": 3
   },
   "file_extension": ".py",
   "mimetype": "text/x-python",
   "name": "python",
   "nbconvert_exporter": "python",
   "pygments_lexer": "ipython3",
   "version": "3.11.5"
  }
 },
 "nbformat": 4,
 "nbformat_minor": 5
}
