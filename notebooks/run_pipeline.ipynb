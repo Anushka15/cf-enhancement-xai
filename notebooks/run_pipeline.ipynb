{
 "cells": [
  {
   "cell_type": "markdown",
   "id": "586605b7f328c337",
   "metadata": {
    "collapsed": false
   },
   "source": [
    "# Load Data and preprocess"
   ]
  },
  {
   "cell_type": "code",
   "execution_count": 1,
   "id": "8e25f056-891b-40ef-ba16-e955922c5477",
   "metadata": {
    "ExecuteTime": {
     "end_time": "2025-06-17T17:42:54.948009600Z",
     "start_time": "2025-06-17T17:42:54.922932900Z"
    }
   },
   "outputs": [],
   "source": [
    "import sys\n",
    "import os\n",
    "sys.path.append(os.path.abspath(\"..\"))"
   ]
  },
  {
   "cell_type": "code",
   "execution_count": 2,
   "id": "d0e99e86-ce22-423a-8a34-12c7c03f5339",
   "metadata": {
    "ExecuteTime": {
     "end_time": "2025-06-17T17:42:54.959056800Z",
     "start_time": "2025-06-17T17:42:54.942019600Z"
    }
   },
   "outputs": [],
   "source": [
    "#pip install ucimlrepo"
   ]
  },
  {
   "cell_type": "code",
   "execution_count": 3,
   "id": "c6cdd5eb-74fb-4fd4-87ef-93be7dfc0df3",
   "metadata": {
    "ExecuteTime": {
     "end_time": "2025-06-17T17:42:56.046390800Z",
     "start_time": "2025-06-17T17:42:54.957062600Z"
    }
   },
   "outputs": [],
   "source": [
    "from src.data.load_data import load_input_data\n",
    "from src.data.load_data import preprocess_data\n",
    "#from src.data.load_data import preprocess_data_no_onehot"
   ]
  },
  {
   "cell_type": "code",
   "execution_count": 4,
   "id": "899deef0-4026-4c51-912e-a32781e12461",
   "metadata": {
    "ExecuteTime": {
     "end_time": "2025-06-17T17:42:57.904409200Z",
     "start_time": "2025-06-17T17:42:56.048384700Z"
    }
   },
   "outputs": [],
   "source": [
    "X_train, X_test, y_train, y_test, metadata, variables, datasetdf = load_input_data()"
   ]
  },
  {
   "cell_type": "code",
   "execution_count": 5,
   "id": "eb4c6e14-f419-4b4b-8a63-2902f9ac9a9b",
   "metadata": {
    "ExecuteTime": {
     "end_time": "2025-06-17T17:42:57.968507900Z",
     "start_time": "2025-06-17T17:42:57.912550500Z"
    }
   },
   "outputs": [],
   "source": [
    "import pandas as pd\n",
    "\n",
    "num_cols = ['Attribute2', 'Attribute5', 'Attribute8', 'Attribute11',\n",
    "            'Attribute13', 'Attribute16', 'Attribute18']\n",
    "\n",
    "X_train_raw,X_test_raw = X_train,X_test\n",
    "#X_train, X_test, datasetdf = preprocess_data(X_train, X_test, datasetdf, num_cols)\n",
    "X_train, X_test, datasetdf = preprocess_data(X_train, X_test, datasetdf, num_cols)\n",
    "#pd.set_option('display.max_columns', None)\n",
    "#print(X_train.head())"
   ]
  },
  {
   "cell_type": "markdown",
   "id": "50dbbf3bf2583398",
   "metadata": {
    "collapsed": false
   },
   "source": [
    "# Train model"
   ]
  },
  {
   "cell_type": "code",
   "execution_count": 6,
   "id": "3e71f1f3-b0c1-4520-b88a-07026fb3ef99",
   "metadata": {
    "ExecuteTime": {
     "end_time": "2025-06-17T17:42:58.105840Z",
     "start_time": "2025-06-17T17:42:57.970653500Z"
    }
   },
   "outputs": [],
   "source": [
    "from src.model.train_model import train_classifier"
   ]
  },
  {
   "cell_type": "code",
   "execution_count": 7,
   "id": "2ad76108-cf15-4385-aad8-e6ed059e5179",
   "metadata": {
    "ExecuteTime": {
     "end_time": "2025-06-17T17:42:58.794002Z",
     "start_time": "2025-06-17T17:42:58.491699800Z"
    }
   },
   "outputs": [],
   "source": [
    "clf = train_classifier(X_train,y_train,n_estimators=100, random_state=42)"
   ]
  },
  {
   "cell_type": "markdown",
   "id": "bc0adfeb-7e51-47f7-bb3a-dd80fa791fda",
   "metadata": {},
   "source": [
    "# Test model"
   ]
  },
  {
   "cell_type": "code",
   "execution_count": 8,
   "id": "59c52144-fa92-4457-8256-978a282d0a4e",
   "metadata": {
    "ExecuteTime": {
     "end_time": "2025-06-17T17:42:59.089525900Z",
     "start_time": "2025-06-17T17:42:59.072114Z"
    }
   },
   "outputs": [],
   "source": [
    "from src.model.test_model import test_classifier_prediction"
   ]
  },
  {
   "cell_type": "code",
   "execution_count": 9,
   "id": "f5f1d8e1-2641-42e8-bdc9-8e1ee4f23ce0",
   "metadata": {
    "ExecuteTime": {
     "end_time": "2025-06-17T17:42:59.500164200Z",
     "start_time": "2025-06-17T17:42:59.460328Z"
    }
   },
   "outputs": [],
   "source": [
    "y_pred,classification_report,accuracy_score = test_classifier_prediction(clf,X_test,y_test)"
   ]
  },
  {
   "cell_type": "code",
   "execution_count": 10,
   "id": "41046582-e69a-41d0-9c59-c18b066f0aa2",
   "metadata": {
    "ExecuteTime": {
     "end_time": "2025-06-17T17:42:59.850472200Z",
     "start_time": "2025-06-17T17:42:59.831350300Z"
    }
   },
   "outputs": [
    {
     "name": "stdout",
     "output_type": "stream",
     "text": [
      "0.76\n"
     ]
    }
   ],
   "source": [
    "print(accuracy_score)"
   ]
  },
  {
   "cell_type": "code",
   "execution_count": 11,
   "id": "7aa4847a-dcde-4a5b-afd5-6b0b5fddc5c9",
   "metadata": {
    "ExecuteTime": {
     "end_time": "2025-06-17T17:43:00.594239500Z",
     "start_time": "2025-06-17T17:43:00.577862700Z"
    }
   },
   "outputs": [
    {
     "name": "stdout",
     "output_type": "stream",
     "text": [
      "              precision    recall  f1-score   support\n",
      "\n",
      "           1       0.76      0.95      0.85       210\n",
      "           2       0.74      0.31      0.44        90\n",
      "\n",
      "    accuracy                           0.76       300\n",
      "   macro avg       0.75      0.63      0.64       300\n",
      "weighted avg       0.76      0.76      0.72       300\n"
     ]
    }
   ],
   "source": [
    "print(classification_report)"
   ]
  },
  {
   "cell_type": "markdown",
   "id": "cb457f7e2dd2a0c5",
   "metadata": {
    "collapsed": false
   },
   "source": [
    "### User constraints / Ontology constraints"
   ]
  },
  {
   "cell_type": "code",
   "execution_count": 12,
   "id": "5ceced30b0483971",
   "metadata": {
    "collapsed": false,
    "ExecuteTime": {
     "end_time": "2025-06-17T17:43:01.560835Z",
     "start_time": "2025-06-17T17:43:01.522505700Z"
    }
   },
   "outputs": [],
   "source": [
    "from src.ontology.generate_rules import *"
   ]
  },
  {
   "cell_type": "code",
   "execution_count": 13,
   "id": "1026fc53-1de4-490f-925d-268abb04e226",
   "metadata": {
    "ExecuteTime": {
     "end_time": "2025-06-17T17:43:01.973624300Z",
     "start_time": "2025-06-17T17:43:01.943860800Z"
    }
   },
   "outputs": [],
   "source": [
    "X_train_positive = X_train_raw[y_train==1]\n",
    "X_train_negative = X_train_raw[y_train==2]"
   ]
  },
  {
   "cell_type": "code",
   "execution_count": 14,
   "id": "f3b39670-64d3-4b1b-ad9b-4bd8ebb25305",
   "metadata": {
    "ExecuteTime": {
     "end_time": "2025-06-17T17:43:02.383568900Z",
     "start_time": "2025-06-17T17:43:02.351671900Z"
    }
   },
   "outputs": [],
   "source": [
    "positive_profile = summarize_features(X_train_positive)"
   ]
  },
  {
   "cell_type": "code",
   "execution_count": 15,
   "id": "275dcf7c-8a6b-49fe-a13c-44ad61cd94f0",
   "metadata": {
    "ExecuteTime": {
     "end_time": "2025-06-17T17:43:02.944125400Z",
     "start_time": "2025-06-17T17:43:02.886722800Z"
    }
   },
   "outputs": [
    {
     "data": {
      "text/plain": "{'Attribute1': {'A14': 0.49795918367346936,\n  'A12': 0.23265306122448978,\n  'A11': 0.20408163265306123,\n  'A13': 0.0653061224489796},\n 'Attribute2': {'mean': np.float64(19.240816326530613),\n  'min': np.int64(4),\n  'max': np.int64(60)},\n 'Attribute3': {'A32': 0.5040816326530613,\n  'A34': 0.3448979591836735,\n  'A33': 0.09183673469387756,\n  'A31': 0.03469387755102041,\n  'A30': 0.024489795918367346},\n 'Attribute4': {'A43': 0.2938775510204082,\n  'A40': 0.23061224489795917,\n  'A42': 0.17346938775510204,\n  'A41': 0.12448979591836734,\n  'A49': 0.09183673469387756,\n  'A46': 0.03469387755102041,\n  'A45': 0.02040816326530612,\n  'A44': 0.014285714285714285,\n  'A410': 0.00816326530612245,\n  'A48': 0.00816326530612245},\n 'Attribute5': {'mean': np.float64(2983.004081632653),\n  'min': np.int64(338),\n  'max': np.int64(15653)},\n 'Attribute6': {'A61': 0.5387755102040817,\n  'A65': 0.21428571428571427,\n  'A62': 0.11224489795918367,\n  'A63': 0.06938775510204082,\n  'A64': 0.0653061224489796},\n 'Attribute7': {'A73': 0.35918367346938773,\n  'A75': 0.27755102040816326,\n  'A74': 0.1836734693877551,\n  'A72': 0.13877551020408163,\n  'A71': 0.04081632653061224},\n 'Attribute8': {'mean': np.float64(2.879591836734694),\n  'min': np.int64(1),\n  'max': np.int64(4)},\n 'Attribute9': {'A93': 0.5775510204081633,\n  'A92': 0.2755102040816326,\n  'A94': 0.09795918367346938,\n  'A91': 0.04897959183673469},\n 'Attribute10': {'A101': 0.9102040816326531,\n  'A103': 0.05510204081632653,\n  'A102': 0.03469387755102041},\n 'Attribute11': {'mean': np.float64(2.8285714285714287),\n  'min': np.int64(1),\n  'max': np.int64(4)},\n 'Attribute12': {'A123': 0.32653061224489793,\n  'A121': 0.32040816326530613,\n  'A122': 0.23061224489795917,\n  'A124': 0.12244897959183673},\n 'Attribute13': {'mean': np.float64(35.891836734693875),\n  'min': np.int64(19),\n  'max': np.int64(75)},\n 'Attribute14': {'A143': 0.8448979591836735,\n  'A141': 0.10612244897959183,\n  'A142': 0.04897959183673469},\n 'Attribute15': {'A152': 0.7612244897959184,\n  'A151': 0.1489795918367347,\n  'A153': 0.08979591836734693},\n 'Attribute16': {'mean': np.float64(1.4081632653061225),\n  'min': np.int64(1),\n  'max': np.int64(4)},\n 'Attribute17': {'A173': 0.6489795918367347,\n  'A172': 0.20612244897959184,\n  'A174': 0.1326530612244898,\n  'A171': 0.012244897959183673},\n 'Attribute18': {'mean': np.float64(1.1571428571428573),\n  'min': np.int64(1),\n  'max': np.int64(2)},\n 'Attribute19': {'A191': 0.5877551020408164, 'A192': 0.4122448979591837},\n 'Attribute20': {'A201': 0.9469387755102041, 'A202': 0.053061224489795916}}"
     },
     "execution_count": 15,
     "metadata": {},
     "output_type": "execute_result"
    }
   ],
   "source": [
    "positive_profile"
   ]
  },
  {
   "cell_type": "code",
   "execution_count": 16,
   "id": "a087bc7a-8bed-49fa-bc61-4b9db2578ad0",
   "metadata": {
    "ExecuteTime": {
     "end_time": "2025-06-17T17:43:03.554901100Z",
     "start_time": "2025-06-17T17:43:03.527593Z"
    }
   },
   "outputs": [],
   "source": [
    "negative_profile = summarize_features(X_train_negative)"
   ]
  },
  {
   "cell_type": "code",
   "execution_count": 17,
   "id": "fee3e92e-5677-4f36-b381-056ae41424d6",
   "metadata": {
    "ExecuteTime": {
     "end_time": "2025-06-17T17:43:04.169256Z",
     "start_time": "2025-06-17T17:43:04.116634500Z"
    }
   },
   "outputs": [
    {
     "data": {
      "text/plain": "{'Attribute1': {'A11': 0.4380952380952381,\n  'A12': 0.3523809523809524,\n  'A14': 0.1523809523809524,\n  'A13': 0.05714285714285714},\n 'Attribute2': {'mean': np.float64(24.333333333333332),\n  'min': np.int64(6),\n  'max': np.int64(60)},\n 'Attribute3': {'A32': 0.5476190476190477,\n  'A34': 0.17142857142857143,\n  'A33': 0.10476190476190476,\n  'A31': 0.1,\n  'A30': 0.0761904761904762},\n 'Attribute4': {'A40': 0.2761904761904762,\n  'A43': 0.2,\n  'A42': 0.19523809523809524,\n  'A49': 0.11428571428571428,\n  'A46': 0.08571428571428572,\n  'A41': 0.07142857142857142,\n  'A45': 0.02857142857142857,\n  'A44': 0.014285714285714285,\n  'A410': 0.009523809523809525,\n  'A48': 0.004761904761904762},\n 'Attribute5': {'mean': np.float64(3709.233333333333),\n  'min': np.int64(433),\n  'max': np.int64(15945)},\n 'Attribute6': {'A61': 0.7285714285714285,\n  'A62': 0.12380952380952381,\n  'A65': 0.09047619047619047,\n  'A63': 0.03333333333333333,\n  'A64': 0.023809523809523808},\n 'Attribute7': {'A73': 0.3333333333333333,\n  'A72': 0.24761904761904763,\n  'A75': 0.22857142857142856,\n  'A74': 0.10952380952380952,\n  'A71': 0.08095238095238096},\n 'Attribute8': {'mean': np.float64(3.0761904761904764),\n  'min': np.int64(1),\n  'max': np.int64(4)},\n 'Attribute9': {'A93': 0.49047619047619045,\n  'A92': 0.3523809523809524,\n  'A94': 0.09047619047619047,\n  'A91': 0.06666666666666667},\n 'Attribute10': {'A101': 0.9047619047619048,\n  'A102': 0.06190476190476191,\n  'A103': 0.03333333333333333},\n 'Attribute11': {'mean': np.float64(2.8),\n  'min': np.int64(1),\n  'max': np.int64(4)},\n 'Attribute12': {'A123': 0.3380952380952381,\n  'A124': 0.24285714285714285,\n  'A122': 0.21904761904761905,\n  'A121': 0.2},\n 'Attribute13': {'mean': np.float64(34.48095238095238),\n  'min': np.int64(20),\n  'max': np.int64(74)},\n 'Attribute14': {'A143': 0.7095238095238096,\n  'A141': 0.22380952380952382,\n  'A142': 0.06666666666666667},\n 'Attribute15': {'A152': 0.6142857142857143,\n  'A151': 0.23809523809523808,\n  'A153': 0.14761904761904762},\n 'Attribute16': {'mean': np.float64(1.3904761904761904),\n  'min': np.int64(1),\n  'max': np.int64(4)},\n 'Attribute17': {'A173': 0.6238095238095238,\n  'A172': 0.18571428571428572,\n  'A174': 0.1619047619047619,\n  'A171': 0.02857142857142857},\n 'Attribute18': {'mean': np.float64(1.161904761904762),\n  'min': np.int64(1),\n  'max': np.int64(2)},\n 'Attribute19': {'A191': 0.6142857142857143, 'A192': 0.38571428571428573},\n 'Attribute20': {'A201': 0.9904761904761905, 'A202': 0.009523809523809525}}"
     },
     "execution_count": 17,
     "metadata": {},
     "output_type": "execute_result"
    }
   ],
   "source": [
    "negative_profile"
   ]
  },
  {
   "cell_type": "code",
   "execution_count": 18,
   "id": "2b3ca6e9-ee82-4d07-ab4b-31511125b2b7",
   "metadata": {
    "ExecuteTime": {
     "end_time": "2025-06-17T17:43:04.617549Z",
     "start_time": "2025-06-17T17:43:04.583965900Z"
    }
   },
   "outputs": [],
   "source": [
    "p_statistical = extract_statistical_rules(X_train_positive)"
   ]
  },
  {
   "cell_type": "code",
   "execution_count": 19,
   "id": "db1de379-9a1b-48ad-88ea-88ccb03e722f",
   "metadata": {
    "ExecuteTime": {
     "end_time": "2025-06-17T17:43:04.995376700Z",
     "start_time": "2025-06-17T17:43:04.979217500Z"
    }
   },
   "outputs": [
    {
     "data": {
      "text/plain": "{'Attribute2': (np.float64(6.0), np.float64(36.0)),\n 'Attribute5': (np.float64(929.9), np.float64(6473.9)),\n 'Attribute8': (np.float64(1.0), np.float64(4.0)),\n 'Attribute10': 'A101',\n 'Attribute11': (np.float64(1.0), np.float64(4.0)),\n 'Attribute13': (np.float64(24.0), np.float64(51.0)),\n 'Attribute14': 'A143',\n 'Attribute15': 'A152',\n 'Attribute16': (np.float64(1.0), np.float64(2.0)),\n 'Attribute18': (np.float64(1.0), np.float64(2.0)),\n 'Attribute20': 'A201'}"
     },
     "execution_count": 19,
     "metadata": {},
     "output_type": "execute_result"
    }
   ],
   "source": [
    "p_statistical"
   ]
  },
  {
   "cell_type": "code",
   "execution_count": 20,
   "id": "55616b42-b8c0-49fc-926d-e87fb3b0f0a1",
   "metadata": {
    "ExecuteTime": {
     "end_time": "2025-06-17T17:43:09.689705300Z",
     "start_time": "2025-06-17T17:43:05.357692500Z"
    }
   },
   "outputs": [],
   "source": [
    "p_permutation_imp_top_features = top_features(clf, X_train, y_train, n_repeats=5, random_state=42)"
   ]
  },
  {
   "cell_type": "code",
   "execution_count": 21,
   "id": "88950e73-c3f4-461d-8857-4907ed7655ad",
   "metadata": {
    "ExecuteTime": {
     "end_time": "2025-06-17T17:43:09.715764800Z",
     "start_time": "2025-06-17T17:43:09.692696400Z"
    }
   },
   "outputs": [
    {
     "data": {
      "text/plain": "['Attribute1_A14',\n 'Attribute2',\n 'Attribute5',\n 'Attribute13',\n 'Attribute6_A65',\n 'Attribute14_A143']"
     },
     "execution_count": 21,
     "metadata": {},
     "output_type": "execute_result"
    }
   ],
   "source": [
    "p_permutation_imp_top_features"
   ]
  },
  {
   "cell_type": "code",
   "execution_count": 22,
   "id": "f2f55a90-6c3b-4682-aa33-b66bd488dffe",
   "metadata": {
    "ExecuteTime": {
     "end_time": "2025-06-17T17:43:09.742506900Z",
     "start_time": "2025-06-17T17:43:09.708848900Z"
    }
   },
   "outputs": [],
   "source": [
    "p = combined_features(p_permutation_imp_top_features,p_statistical)"
   ]
  },
  {
   "cell_type": "code",
   "execution_count": 23,
   "id": "29c103e4-f8d4-4948-9c17-74f4bbc26fd3",
   "metadata": {
    "ExecuteTime": {
     "end_time": "2025-06-17T17:43:09.744475300Z",
     "start_time": "2025-06-17T17:43:09.717728200Z"
    }
   },
   "outputs": [
    {
     "data": {
      "text/plain": "{'Attribute2': (np.float64(6.0), np.float64(36.0)),\n 'Attribute5': (np.float64(929.9), np.float64(6473.9)),\n 'Attribute8': (np.float64(1.0), np.float64(4.0)),\n 'Attribute10': 'A101',\n 'Attribute11': (np.float64(1.0), np.float64(4.0)),\n 'Attribute13': (np.float64(24.0), np.float64(51.0)),\n 'Attribute14': 'A143',\n 'Attribute15': 'A152',\n 'Attribute16': (np.float64(1.0), np.float64(2.0)),\n 'Attribute18': (np.float64(1.0), np.float64(2.0)),\n 'Attribute20': 'A201',\n 'Attribute1': 'A14',\n 'Attribute6': 'A65'}"
     },
     "execution_count": 23,
     "metadata": {},
     "output_type": "execute_result"
    }
   ],
   "source": [
    "p"
   ]
  },
  {
   "cell_type": "code",
   "execution_count": 24,
   "outputs": [
    {
     "name": "stdout",
     "output_type": "stream",
     "text": [
      "{'Attribute2': (np.float64(6.0), np.float64(36.0)), 'Attribute5': (np.float64(929.9), np.float64(6473.9)), 'Attribute8': (np.float64(1.0), np.float64(4.0)), 'Attribute11': (np.float64(1.0), np.float64(4.0)), 'Attribute13': (np.float64(24.0), np.float64(51.0)), 'Attribute16': (np.float64(1.0), np.float64(2.0)), 'Attribute18': (np.float64(1.0), np.float64(2.0))}\n",
      "{'Attribute10': 'A101', 'Attribute14': 'A143', 'Attribute15': 'A152', 'Attribute20': 'A201', 'Attribute1': 'A14', 'Attribute6': 'A65'}\n"
     ]
    }
   ],
   "source": [
    "p_num = {key: value for key, value in p.items() if isinstance(value, tuple)}\n",
    "p_cat = {key: value for key, value in p.items() if isinstance(value, str)}\n",
    "print(p_num)\n",
    "print(p_cat)"
   ],
   "metadata": {
    "collapsed": false,
    "ExecuteTime": {
     "end_time": "2025-06-17T17:43:10.561715500Z",
     "start_time": "2025-06-17T17:43:10.541571200Z"
    }
   },
   "id": "787dbf01d98d5f46"
  },
  {
   "cell_type": "markdown",
   "id": "4e215b55b761b30",
   "metadata": {
    "collapsed": false
   },
   "source": [
    "### Final outputs of Input section of pipeline\n",
    "For experimentation, here are some values"
   ]
  },
  {
   "cell_type": "code",
   "execution_count": 25,
   "id": "9b1b269b4baa0a36",
   "metadata": {
    "collapsed": false,
    "ExecuteTime": {
     "end_time": "2025-06-17T17:43:15.562973200Z",
     "start_time": "2025-06-17T17:43:15.530345900Z"
    }
   },
   "outputs": [],
   "source": [
    "from src.utilities.desired_space import desired_space\n",
    "x= X_test[0:1] #test instance #select first row as dataFrame\n",
    "p_num = p_num\n",
    "p_cat = p_cat\n",
    "#p= {\n",
    "    #'Attribute5':(0, 1) #credit amount #I put a normalized amount here\n",
    "#}#perturbation map\n",
    "#desired_space= desired_space(2, datasetdf) #all the feature vectors with output=2 #not preprocessed! Potential issue from authors!\n",
    "#print(datasetdf.head())\n",
    "desired_space = desired_space(2,datasetdf) #did preprocessing also to datasetdf\n",
    "#print(X_train.head())\n",
    "#print(desired_space.head())\n",
    "cat_f= X_train.select_dtypes(include=['bool']) #categorical features\n",
    "#print(cat_f)\n",
    "num_f= X_train.select_dtypes(include=['int64', 'float64']) #numerical features\n",
    "#print(num_f)\n",
    "protect_f= ['Attribute9_A92'  'Attribute9_A93'  'Attribute9_A94'] # Personal status and sex (X_train.head() shows only 3 values (columns) while there are 5) #protected features\n",
    "features= X_train.columns #all features\n",
    "t= 2 #desired outcome\n",
    "f= clf #black-box model for which we want to find CF\n",
    "X= X_train #training data\n",
    "step = {attribute:0.01 for attribute in p_num.keys()}\n",
    "#step= {\n",
    "#    'Attribute5': 0.01 #credit amount steps #tiny amount bc of normalized feature values\n",
    "#} #dictionary holding the feature distribution to be used for single feature perturbation method"
   ]
  },
  {
   "cell_type": "markdown",
   "id": "9983ef057eba0ccc",
   "metadata": {
    "collapsed": false
   },
   "source": [
    "### Derived variables"
   ]
  },
  {
   "cell_type": "code",
   "execution_count": 34,
   "id": "9d2da55c55f250c",
   "metadata": {
    "collapsed": false,
    "ExecuteTime": {
     "end_time": "2025-06-17T17:28:47.005987600Z",
     "start_time": "2025-06-17T17:28:46.932042600Z"
    }
   },
   "outputs": [],
   "source": [
    "f2change = p.keys()"
   ]
  },
  {
   "cell_type": "markdown",
   "id": "9758b29e7bd34451",
   "metadata": {
    "collapsed": false
   },
   "source": [
    "# UFCE"
   ]
  },
  {
   "cell_type": "markdown",
   "id": "41299d099707094c",
   "metadata": {
    "collapsed": false
   },
   "source": [
    "### Feature Selection: Mutual Information (MI)"
   ]
  },
  {
   "cell_type": "code",
   "execution_count": 27,
   "id": "376a7dd21385f19",
   "metadata": {
    "collapsed": false,
    "ExecuteTime": {
     "end_time": "2025-06-17T17:23:34.240858200Z",
     "start_time": "2025-06-17T17:23:27.845140Z"
    }
   },
   "outputs": [
    {
     "name": "stdout",
     "output_type": "stream",
     "text": [
      "[('Attribute2', 'Attribute5'), ('Attribute2', 'Attribute8'), ('Attribute2', 'Attribute11'), ('Attribute2', 'Attribute13'), ('Attribute2', 'Attribute16')]\n",
      "[('Attribute3_A32', 'Attribute3_A34'), ('Attribute2', 'Attribute5'), ('Attribute9_A92', 'Attribute9_A93'), ('Attribute12_A124', 'Attribute15_A153'), ('Attribute17_A172', 'Attribute17_A173')]\n"
     ]
    }
   ],
   "source": [
    "from itertools import combinations\n",
    "from src.utilities.mutual_information import mi_score\n",
    "from src.utilities.mutual_information import MI\n",
    "feature_pairs = list(combinations(list(features), 2))\n",
    "print(feature_pairs[:5])\n",
    "mi_list = MI(feature_pairs, X_train) #used all features available #original authors do over entire X but it is not preprocessed... Which i think is nessecary? #also works for bool one-hot encoding \n",
    "# top 5 \n",
    "print(mi_list[:5])"
   ]
  },
  {
   "cell_type": "markdown",
   "id": "7a272e99ef8ff9c3",
   "metadata": {
    "collapsed": false
   },
   "source": [
    "### Nearest Neighbour: KD Tree"
   ]
  },
  {
   "cell_type": "code",
   "execution_count": 28,
   "id": "b4c4047d73dd6a63",
   "metadata": {
    "collapsed": false,
    "ExecuteTime": {
     "end_time": "2025-06-17T17:23:34.310854400Z",
     "start_time": "2025-06-17T17:23:34.237707600Z"
    }
   },
   "outputs": [
    {
     "name": "stdout",
     "output_type": "stream",
     "text": [
      "     Attribute2  Attribute5  Attribute8  Attribute11  Attribute13  \\\n",
      "652    0.270317   -0.335901    0.945404    -1.660121     0.870748   \n",
      "622    2.277975    0.266786    0.945404    -0.747967     0.231260   \n",
      "301    1.274146    0.225634    0.945404    -1.660121     0.596682   \n",
      "\n",
      "     Attribute16  Attribute18  Attribute1_A12  Attribute1_A13  Attribute1_A14  \\\n",
      "652    -0.724565    -0.434114           False           False           False   \n",
      "622    -0.724565    -0.434114           False           False            True   \n",
      "301    -0.724565    -0.434114            True           False           False   \n",
      "\n",
      "     ...  Attribute12_A124  Attribute14_A142  Attribute14_A143  \\\n",
      "652  ...             False             False              True   \n",
      "622  ...             False             False             False   \n",
      "301  ...             False             False              True   \n",
      "\n",
      "     Attribute15_A152  Attribute15_A153  Attribute17_A172  Attribute17_A173  \\\n",
      "652              True             False             False              True   \n",
      "622              True             False             False              True   \n",
      "301              True             False             False              True   \n",
      "\n",
      "     Attribute17_A174  Attribute19_A192  Attribute20_A202  \n",
      "652             False             False             False  \n",
      "622             False             False             False  \n",
      "301             False              True             False  \n",
      "\n",
      "[3 rows x 48 columns]\n"
     ]
    }
   ],
   "source": [
    "from src.utilities.nearest_neighbours import FNN\n",
    "nn = FNN(desired_space,x,3.5) #radius arbitrarily set; can experiment with how close we want it to be to x #3.5 for euclidean distance is around 0.5 for each of the 48 features difference from x, get 3 datapoints\n",
    "print(nn)"
   ]
  },
  {
   "cell_type": "markdown",
   "id": "7013718b32951529",
   "metadata": {
    "collapsed": false
   },
   "source": [
    "### Subspace: Intervals"
   ]
  },
  {
   "cell_type": "code",
   "execution_count": 29,
   "id": "7ee11217697a1d5e",
   "metadata": {
    "collapsed": false,
    "ExecuteTime": {
     "end_time": "2025-06-17T17:23:35.646202600Z",
     "start_time": "2025-06-17T17:23:34.272034900Z"
    }
   },
   "outputs": [
    {
     "name": "stdout",
     "output_type": "stream",
     "text": [
      "6.0\n",
      "36.0\n",
      "929.9\n",
      "6473.9\n",
      "1.0\n",
      "4.0\n",
      "A\n",
      "1\n"
     ]
    },
    {
     "ename": "KeyError",
     "evalue": "'Attribute10'",
     "output_type": "error",
     "traceback": [
      "\u001B[1;31m---------------------------------------------------------------------------\u001B[0m",
      "\u001B[1;31mKeyError\u001B[0m                                  Traceback (most recent call last)",
      "File \u001B[1;32m~\\Desktop\\Python exercises code (target level)\\venv\\lib\\site-packages\\pandas\\core\\indexes\\base.py:3805\u001B[0m, in \u001B[0;36mIndex.get_loc\u001B[1;34m(self, key)\u001B[0m\n\u001B[0;32m   3804\u001B[0m \u001B[38;5;28;01mtry\u001B[39;00m:\n\u001B[1;32m-> 3805\u001B[0m     \u001B[38;5;28;01mreturn\u001B[39;00m \u001B[38;5;28;43mself\u001B[39;49m\u001B[38;5;241;43m.\u001B[39;49m\u001B[43m_engine\u001B[49m\u001B[38;5;241;43m.\u001B[39;49m\u001B[43mget_loc\u001B[49m\u001B[43m(\u001B[49m\u001B[43mcasted_key\u001B[49m\u001B[43m)\u001B[49m\n\u001B[0;32m   3806\u001B[0m \u001B[38;5;28;01mexcept\u001B[39;00m \u001B[38;5;167;01mKeyError\u001B[39;00m \u001B[38;5;28;01mas\u001B[39;00m err:\n",
      "File \u001B[1;32mindex.pyx:167\u001B[0m, in \u001B[0;36mpandas._libs.index.IndexEngine.get_loc\u001B[1;34m()\u001B[0m\n",
      "File \u001B[1;32mindex.pyx:196\u001B[0m, in \u001B[0;36mpandas._libs.index.IndexEngine.get_loc\u001B[1;34m()\u001B[0m\n",
      "File \u001B[1;32mpandas\\\\_libs\\\\hashtable_class_helper.pxi:7081\u001B[0m, in \u001B[0;36mpandas._libs.hashtable.PyObjectHashTable.get_item\u001B[1;34m()\u001B[0m\n",
      "File \u001B[1;32mpandas\\\\_libs\\\\hashtable_class_helper.pxi:7089\u001B[0m, in \u001B[0;36mpandas._libs.hashtable.PyObjectHashTable.get_item\u001B[1;34m()\u001B[0m\n",
      "\u001B[1;31mKeyError\u001B[0m: 'Attribute10'",
      "\nThe above exception was the direct cause of the following exception:\n",
      "\u001B[1;31mKeyError\u001B[0m                                  Traceback (most recent call last)",
      "Cell \u001B[1;32mIn[29], line 2\u001B[0m\n\u001B[0;32m      1\u001B[0m \u001B[38;5;28;01mfrom\u001B[39;00m\u001B[38;5;250m \u001B[39m\u001B[38;5;21;01msrc\u001B[39;00m\u001B[38;5;21;01m.\u001B[39;00m\u001B[38;5;21;01mutilities\u001B[39;00m\u001B[38;5;21;01m.\u001B[39;00m\u001B[38;5;21;01mnearest_neighbours\u001B[39;00m\u001B[38;5;250m \u001B[39m\u001B[38;5;28;01mimport\u001B[39;00m intervals\n\u001B[1;32m----> 2\u001B[0m subspace \u001B[38;5;241m=\u001B[39m \u001B[43mintervals\u001B[49m\u001B[43m(\u001B[49m\u001B[43mnn\u001B[49m\u001B[43m,\u001B[49m\u001B[43mp\u001B[49m\u001B[43m,\u001B[49m\u001B[43mf2change\u001B[49m\u001B[43m,\u001B[49m\u001B[43mx\u001B[49m\u001B[43m)\u001B[49m \n\u001B[0;32m      3\u001B[0m \u001B[38;5;28mprint\u001B[39m(subspace) \u001B[38;5;66;03m#correct output\u001B[39;00m\n",
      "File \u001B[1;32m~\\Desktop\\Python exercises code (target level)\\cf-enhancement-xai\\src\\utilities\\nearest_neighbours.py:35\u001B[0m, in \u001B[0;36mintervals\u001B[1;34m(nn, p, f2change, x)\u001B[0m\n\u001B[0;32m     33\u001B[0m upper \u001B[38;5;241m=\u001B[39m p[i][\u001B[38;5;241m1\u001B[39m]\n\u001B[0;32m     34\u001B[0m \u001B[38;5;28mprint\u001B[39m(upper)\n\u001B[1;32m---> 35\u001B[0m \u001B[38;5;28;01mif\u001B[39;00m upper \u001B[38;5;241m>\u001B[39m\u001B[38;5;241m=\u001B[39m \u001B[43mnn\u001B[49m\u001B[43m[\u001B[49m\u001B[43mi\u001B[49m\u001B[43m]\u001B[49m\u001B[38;5;241m.\u001B[39mmax(): \u001B[38;5;66;03m# For feature/column i, consider max value across all neighbor datapoints in nn (all rows)\u001B[39;00m\n\u001B[0;32m     36\u001B[0m     subspace[i] \u001B[38;5;241m=\u001B[39m [lower, nn[i]\u001B[38;5;241m.\u001B[39mmax()]\n\u001B[0;32m     37\u001B[0m \u001B[38;5;28;01melif\u001B[39;00m lower \u001B[38;5;241m<\u001B[39m\u001B[38;5;241m=\u001B[39m nn[i]\u001B[38;5;241m.\u001B[39mmin():\n",
      "File \u001B[1;32m~\\Desktop\\Python exercises code (target level)\\venv\\lib\\site-packages\\pandas\\core\\frame.py:4102\u001B[0m, in \u001B[0;36mDataFrame.__getitem__\u001B[1;34m(self, key)\u001B[0m\n\u001B[0;32m   4100\u001B[0m \u001B[38;5;28;01mif\u001B[39;00m \u001B[38;5;28mself\u001B[39m\u001B[38;5;241m.\u001B[39mcolumns\u001B[38;5;241m.\u001B[39mnlevels \u001B[38;5;241m>\u001B[39m \u001B[38;5;241m1\u001B[39m:\n\u001B[0;32m   4101\u001B[0m     \u001B[38;5;28;01mreturn\u001B[39;00m \u001B[38;5;28mself\u001B[39m\u001B[38;5;241m.\u001B[39m_getitem_multilevel(key)\n\u001B[1;32m-> 4102\u001B[0m indexer \u001B[38;5;241m=\u001B[39m \u001B[38;5;28;43mself\u001B[39;49m\u001B[38;5;241;43m.\u001B[39;49m\u001B[43mcolumns\u001B[49m\u001B[38;5;241;43m.\u001B[39;49m\u001B[43mget_loc\u001B[49m\u001B[43m(\u001B[49m\u001B[43mkey\u001B[49m\u001B[43m)\u001B[49m\n\u001B[0;32m   4103\u001B[0m \u001B[38;5;28;01mif\u001B[39;00m is_integer(indexer):\n\u001B[0;32m   4104\u001B[0m     indexer \u001B[38;5;241m=\u001B[39m [indexer]\n",
      "File \u001B[1;32m~\\Desktop\\Python exercises code (target level)\\venv\\lib\\site-packages\\pandas\\core\\indexes\\base.py:3812\u001B[0m, in \u001B[0;36mIndex.get_loc\u001B[1;34m(self, key)\u001B[0m\n\u001B[0;32m   3807\u001B[0m     \u001B[38;5;28;01mif\u001B[39;00m \u001B[38;5;28misinstance\u001B[39m(casted_key, \u001B[38;5;28mslice\u001B[39m) \u001B[38;5;129;01mor\u001B[39;00m (\n\u001B[0;32m   3808\u001B[0m         \u001B[38;5;28misinstance\u001B[39m(casted_key, abc\u001B[38;5;241m.\u001B[39mIterable)\n\u001B[0;32m   3809\u001B[0m         \u001B[38;5;129;01mand\u001B[39;00m \u001B[38;5;28many\u001B[39m(\u001B[38;5;28misinstance\u001B[39m(x, \u001B[38;5;28mslice\u001B[39m) \u001B[38;5;28;01mfor\u001B[39;00m x \u001B[38;5;129;01min\u001B[39;00m casted_key)\n\u001B[0;32m   3810\u001B[0m     ):\n\u001B[0;32m   3811\u001B[0m         \u001B[38;5;28;01mraise\u001B[39;00m InvalidIndexError(key)\n\u001B[1;32m-> 3812\u001B[0m     \u001B[38;5;28;01mraise\u001B[39;00m \u001B[38;5;167;01mKeyError\u001B[39;00m(key) \u001B[38;5;28;01mfrom\u001B[39;00m\u001B[38;5;250m \u001B[39m\u001B[38;5;21;01merr\u001B[39;00m\n\u001B[0;32m   3813\u001B[0m \u001B[38;5;28;01mexcept\u001B[39;00m \u001B[38;5;167;01mTypeError\u001B[39;00m:\n\u001B[0;32m   3814\u001B[0m     \u001B[38;5;66;03m# If we have a listlike key, _check_indexing_error will raise\u001B[39;00m\n\u001B[0;32m   3815\u001B[0m     \u001B[38;5;66;03m#  InvalidIndexError. Otherwise we fall through and re-raise\u001B[39;00m\n\u001B[0;32m   3816\u001B[0m     \u001B[38;5;66;03m#  the TypeError.\u001B[39;00m\n\u001B[0;32m   3817\u001B[0m     \u001B[38;5;28mself\u001B[39m\u001B[38;5;241m.\u001B[39m_check_indexing_error(key)\n",
      "\u001B[1;31mKeyError\u001B[0m: 'Attribute10'"
     ]
    }
   ],
   "source": [
    "from src.utilities.nearest_neighbours import intervals\n",
    "subspace = intervals(nn,p,f2change,x) \n",
    "print(subspace) #correct output"
   ]
  },
  {
   "cell_type": "markdown",
   "id": "eded4ffc95046bcc",
   "metadata": {
    "collapsed": false
   },
   "source": [
    "### CF Generator: Single Feature"
   ]
  },
  {
   "cell_type": "code",
   "execution_count": 26,
   "id": "5f0746b9d12f073a",
   "metadata": {
    "collapsed": false,
    "ExecuteTime": {
     "end_time": "2025-06-17T17:43:23.980983500Z",
     "start_time": "2025-06-17T17:43:22.605469400Z"
    }
   },
   "outputs": [
    {
     "name": "stdout",
     "output_type": "stream",
     "text": [
      "original x prediction:  [1]\n",
      "all columns are 0 for this category, as it is the reference feature value\n",
      "prediction with cat Attribute10_A101:  [1]\n",
      "prediction with cat Attribute14_A143:  [1]\n",
      "prediction with cat Attribute15_A152:  [1]\n",
      "all columns are 0 for this category, as it is the reference feature value\n",
      "prediction with cat Attribute20_A201:  [1]\n",
      "prediction with cat Attribute1_A14:  [1]\n",
      "prediction with cat Attribute6_A65:  [1]\n",
      "goes in numerical, no CF based on cat found\n",
      "start:  6.0\n",
      "end:  36.0\n",
      "prediction with changed (np.float64(6.0), np.float64(36.0)):  [1]\n",
      "prediction with changed (np.float64(6.0), np.float64(36.0)):  [1]\n",
      "prediction with changed (np.float64(6.0), np.float64(36.0)):  [1]\n",
      "prediction with changed (np.float64(6.0), np.float64(36.0)):  [1]\n",
      "prediction with changed (np.float64(6.0), np.float64(36.0)):  [1]\n",
      "prediction with changed (np.float64(6.0), np.float64(36.0)):  [1]\n",
      "prediction with changed (np.float64(6.0), np.float64(36.0)):  [1]\n",
      "prediction with changed (np.float64(6.0), np.float64(36.0)):  [1]\n",
      "prediction with changed (np.float64(6.0), np.float64(36.0)):  [1]\n",
      "prediction with changed (np.float64(6.0), np.float64(36.0)):  [1]\n",
      "prediction with changed (np.float64(6.0), np.float64(36.0)):  [1]\n",
      "goes in numerical, no CF based on cat found\n",
      "start:  929.9\n",
      "end:  6473.9\n",
      "prediction with changed (np.float64(929.9), np.float64(6473.9)):  [1]\n",
      "prediction with changed (np.float64(929.9), np.float64(6473.9)):  [1]\n",
      "prediction with changed (np.float64(929.9), np.float64(6473.9)):  [1]\n",
      "prediction with changed (np.float64(929.9), np.float64(6473.9)):  [1]\n",
      "prediction with changed (np.float64(929.9), np.float64(6473.9)):  [1]\n",
      "prediction with changed (np.float64(929.9), np.float64(6473.9)):  [1]\n",
      "prediction with changed (np.float64(929.9), np.float64(6473.9)):  [1]\n",
      "prediction with changed (np.float64(929.9), np.float64(6473.9)):  [1]\n",
      "prediction with changed (np.float64(929.9), np.float64(6473.9)):  [1]\n",
      "prediction with changed (np.float64(929.9), np.float64(6473.9)):  [1]\n",
      "prediction with changed (np.float64(929.9), np.float64(6473.9)):  [1]\n",
      "prediction with changed (np.float64(929.9), np.float64(6473.9)):  [1]\n",
      "prediction with changed (np.float64(929.9), np.float64(6473.9)):  [1]\n",
      "prediction with changed (np.float64(929.9), np.float64(6473.9)):  [1]\n",
      "prediction with changed (np.float64(929.9), np.float64(6473.9)):  [1]\n",
      "prediction with changed (np.float64(929.9), np.float64(6473.9)):  [1]\n",
      "prediction with changed (np.float64(929.9), np.float64(6473.9)):  [1]\n",
      "prediction with changed (np.float64(929.9), np.float64(6473.9)):  [1]\n",
      "prediction with changed (np.float64(929.9), np.float64(6473.9)):  [1]\n",
      "goes in numerical, no CF based on cat found\n",
      "start:  1.0\n",
      "end:  4.0\n",
      "prediction with changed (np.float64(1.0), np.float64(4.0)):  [1]\n",
      "prediction with changed (np.float64(1.0), np.float64(4.0)):  [1]\n",
      "prediction with changed (np.float64(1.0), np.float64(4.0)):  [1]\n",
      "prediction with changed (np.float64(1.0), np.float64(4.0)):  [1]\n",
      "prediction with changed (np.float64(1.0), np.float64(4.0)):  [1]\n",
      "prediction with changed (np.float64(1.0), np.float64(4.0)):  [1]\n",
      "prediction with changed (np.float64(1.0), np.float64(4.0)):  [1]\n",
      "prediction with changed (np.float64(1.0), np.float64(4.0)):  [1]\n",
      "goes in numerical, no CF based on cat found\n",
      "start:  1.0\n",
      "end:  4.0\n",
      "prediction with changed (np.float64(1.0), np.float64(4.0)):  [1]\n",
      "prediction with changed (np.float64(1.0), np.float64(4.0)):  [1]\n",
      "prediction with changed (np.float64(1.0), np.float64(4.0)):  [1]\n",
      "prediction with changed (np.float64(1.0), np.float64(4.0)):  [1]\n",
      "prediction with changed (np.float64(1.0), np.float64(4.0)):  [1]\n",
      "prediction with changed (np.float64(1.0), np.float64(4.0)):  [1]\n",
      "prediction with changed (np.float64(1.0), np.float64(4.0)):  [1]\n",
      "prediction with changed (np.float64(1.0), np.float64(4.0)):  [1]\n",
      "goes in numerical, no CF based on cat found\n",
      "start:  24.0\n",
      "end:  51.0\n",
      "prediction with changed (np.float64(24.0), np.float64(51.0)):  [1]\n",
      "prediction with changed (np.float64(24.0), np.float64(51.0)):  [1]\n",
      "prediction with changed (np.float64(24.0), np.float64(51.0)):  [1]\n",
      "prediction with changed (np.float64(24.0), np.float64(51.0)):  [1]\n",
      "prediction with changed (np.float64(24.0), np.float64(51.0)):  [1]\n",
      "prediction with changed (np.float64(24.0), np.float64(51.0)):  [1]\n",
      "prediction with changed (np.float64(24.0), np.float64(51.0)):  [1]\n",
      "prediction with changed (np.float64(24.0), np.float64(51.0)):  [1]\n",
      "prediction with changed (np.float64(24.0), np.float64(51.0)):  [1]\n",
      "prediction with changed (np.float64(24.0), np.float64(51.0)):  [1]\n",
      "prediction with changed (np.float64(24.0), np.float64(51.0)):  [1]\n",
      "goes in numerical, no CF based on cat found\n",
      "start:  1.0\n",
      "end:  2.0\n",
      "prediction with changed (np.float64(1.0), np.float64(2.0)):  [1]\n",
      "prediction with changed (np.float64(1.0), np.float64(2.0)):  [1]\n",
      "prediction with changed (np.float64(1.0), np.float64(2.0)):  [1]\n",
      "prediction with changed (np.float64(1.0), np.float64(2.0)):  [1]\n",
      "prediction with changed (np.float64(1.0), np.float64(2.0)):  [1]\n",
      "prediction with changed (np.float64(1.0), np.float64(2.0)):  [1]\n",
      "goes in numerical, no CF based on cat found\n",
      "start:  1.0\n",
      "end:  2.0\n",
      "prediction with changed (np.float64(1.0), np.float64(2.0)):  [1]\n",
      "prediction with changed (np.float64(1.0), np.float64(2.0)):  [1]\n",
      "prediction with changed (np.float64(1.0), np.float64(2.0)):  [1]\n",
      "prediction with changed (np.float64(1.0), np.float64(2.0)):  [1]\n",
      "prediction with changed (np.float64(1.0), np.float64(2.0)):  [1]\n",
      "prediction with changed (np.float64(1.0), np.float64(2.0)):  [1]\n",
      "None\n"
     ]
    }
   ],
   "source": [
    "from src.utilities.UFCE import SF\n",
    "#cf = SF(x,X,cat_f,p,f,t,step)\n",
    "cf = SF(x,X_train_raw,p_num,p_cat,f,t,step)\n",
    "print(cf)"
   ]
  },
  {
   "cell_type": "markdown",
   "id": "449a678f6b893368",
   "metadata": {
    "collapsed": false
   },
   "source": [
    "### CF Generator: Double Features"
   ]
  },
  {
   "cell_type": "code",
   "execution_count": null,
   "id": "7baa603987ab0804",
   "metadata": {
    "collapsed": false
   },
   "outputs": [],
   "source": [
    "from src.utilities.UFCE import DF\n",
    "z = DF(X,x,subspace,mi_list,cat_f,num_f,features,protect_f,f,t)"
   ]
  }
 ],
 "metadata": {
  "kernelspec": {
   "display_name": "Python 3 (ipykernel)",
   "language": "python",
   "name": "python3"
  },
  "language_info": {
   "codemirror_mode": {
    "name": "ipython",
    "version": 3
   },
   "file_extension": ".py",
   "mimetype": "text/x-python",
   "name": "python",
   "nbconvert_exporter": "python",
   "pygments_lexer": "ipython3",
   "version": "3.11.5"
  }
 },
 "nbformat": 4,
 "nbformat_minor": 5
}
